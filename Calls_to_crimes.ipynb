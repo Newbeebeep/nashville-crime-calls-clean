{
 "cells": [
  {
   "cell_type": "code",
   "execution_count": 1,
   "id": "de4b3fe3-9ffb-421e-86c6-c73ee5be370f",
   "metadata": {},
   "outputs": [],
   "source": [
    "import pandas as pd\n",
    "import geopandas as gpd\n",
    "from shapely.geometry import Point"
   ]
  },
  {
   "cell_type": "code",
   "execution_count": 4,
   "id": "64362dae-fa14-49df-a2ec-41cf465aa58b",
   "metadata": {},
   "outputs": [],
   "source": [
    "calls_2018 = pd.read_csv(\"../data/Calls_2018.csv\", low_memory=False)\n",
    "calls_2019 = pd.read_csv(\"../data/Calls_2019.csv\", low_memory=False)\n",
    "calls_2020 = pd.read_csv(\"../data/Calls_2020.csv\", low_memory=False)\n",
    "calls_2021 = pd.read_csv(\"../data/Calls_2021.csv\", low_memory=False)"
   ]
  },
  {
   "cell_type": "code",
   "execution_count": 5,
   "id": "2fa06134-7d69-4a06-962b-6a8a30a225e7",
   "metadata": {},
   "outputs": [],
   "source": [
    "combined_calls_data = pd.concat([\n",
    "    calls_2018,\n",
    "    calls_2019,\n",
    "    calls_2020,\n",
    "    calls_2021\n",
    "], ignore_index=True)"
   ]
  },
  {
   "cell_type": "code",
   "execution_count": 7,
   "id": "5d517a4f-8079-45ec-a96b-f3e445f82136",
   "metadata": {},
   "outputs": [],
   "source": [
    "# Calls_2020 ， Call_Received， datetime \n",
    "calls_2020['Call_Received'] = pd.to_datetime(\n",
    "    calls_2020['Call_Received'],\n",
    "    format=\"%m/%d/%Y %H:%M\",  \n",
    "    errors='coerce'\n",
    ")"
   ]
  },
  {
   "cell_type": "code",
   "execution_count": 8,
   "id": "923a7d10-8c6f-41f5-8b47-7c793d8a04e0",
   "metadata": {},
   "outputs": [
    {
     "name": "stderr",
     "output_type": "stream",
     "text": [
      "C:\\Users\\jingl\\AppData\\Local\\Temp\\ipykernel_15744\\2079704092.py:2: UserWarning: Could not infer format, so each element will be parsed individually, falling back to `dateutil`. To ensure parsing is consistent and as-expected, please specify a format.\n",
      "  combined_calls_data['Call_Received'] = pd.to_datetime(combined_calls_data['Call_Received'], errors='coerce')\n"
     ]
    }
   ],
   "source": [
    "# delete 2022\n",
    "combined_calls_data['Call_Received'] = pd.to_datetime(combined_calls_data['Call_Received'], errors='coerce')\n",
    "combined_calls_data= combined_calls_data[combined_calls_data['Call_Received'].dt.year <= 2021]"
   ]
  },
  {
   "cell_type": "code",
   "execution_count": 9,
   "id": "5daf308d-f18c-4fdd-af71-f53eda05eaf3",
   "metadata": {},
   "outputs": [],
   "source": [
    "combined_calls_data.to_csv(\n",
    "    \"../data/combined_calls_data.csv\",\n",
    "    index=False,\n",
    "    date_format=\"%Y-%m-%d %H:%M:%S\"\n",
    ")"
   ]
  },
  {
   "cell_type": "code",
   "execution_count": 10,
   "id": "370e226f-e215-4a95-9cac-67bebfd0637d",
   "metadata": {},
   "outputs": [],
   "source": [
    "calls_df = pd.read_csv(\n",
    "    \"../data/combined_calls_data.csv\",\n",
    "    low_memory=False,\n",
    "    parse_dates=['Call_Received']\n",
    ")"
   ]
  },
  {
   "cell_type": "code",
   "execution_count": 11,
   "id": "6a21f12c-556d-431c-afca-d638c5c149be",
   "metadata": {},
   "outputs": [
    {
     "name": "stdout",
     "output_type": "stream",
     "text": [
      "Year\n",
      "2018    999925\n",
      "2019    828233\n",
      "2020    691728\n",
      "2021    530420\n",
      "Name: count, dtype: int64\n"
     ]
    }
   ],
   "source": [
    "calls_df['Year'] = calls_df['Call_Received'].dt.year\n",
    "print(calls_df['Year'].value_counts().sort_index())"
   ]
  },
  {
   "cell_type": "code",
   "execution_count": 12,
   "id": "49eb9eab-a0b2-43b1-860c-63b834c616f3",
   "metadata": {},
   "outputs": [
    {
     "name": "stdout",
     "output_type": "stream",
     "text": [
      "datetime64[ns]\n",
      "0   2018-02-13 14:03:46\n",
      "1   2018-07-11 07:07:27\n",
      "2   2018-11-08 17:26:30\n",
      "3   2018-09-10 12:52:48\n",
      "4   2018-12-19 01:46:17\n",
      "5   2018-02-28 15:13:36\n",
      "6   2018-05-13 23:58:41\n",
      "7   2018-05-23 02:19:25\n",
      "8   2018-05-26 08:03:49\n",
      "9   2018-05-26 23:00:25\n",
      "Name: Call_Received, dtype: datetime64[ns]\n"
     ]
    }
   ],
   "source": [
    "print(calls_df['Call_Received'].dtype)\n",
    "print(calls_df['Call_Received'].head(10))"
   ]
  },
  {
   "cell_type": "code",
   "execution_count": 13,
   "id": "143d810a-31fc-45d4-ace9-da163f28d731",
   "metadata": {},
   "outputs": [
    {
     "name": "stdout",
     "output_type": "stream",
     "text": [
      "C:\\Users\\jingl\\NSS Analytics DA14\\Project\\capstones\\school capstone\\Notebook\n"
     ]
    }
   ],
   "source": [
    "import os\n",
    "print(os.getcwd())\n"
   ]
  },
  {
   "cell_type": "code",
   "execution_count": 14,
   "id": "85e140fc-e323-43a8-b043-456c344fb43f",
   "metadata": {},
   "outputs": [
    {
     "name": "stderr",
     "output_type": "stream",
     "text": [
      "C:\\Users\\jingl\\AppData\\Local\\Temp\\ipykernel_15744\\1562715586.py:1: DtypeWarning: Columns (32) have mixed types. Specify dtype option on import or set low_memory=False.\n",
      "  crime_df = pd.read_csv(\"../data/cleaned_crime_incidents.csv\")\n"
     ]
    },
    {
     "data": {
      "text/html": [
       "<div>\n",
       "<style scoped>\n",
       "    .dataframe tbody tr th:only-of-type {\n",
       "        vertical-align: middle;\n",
       "    }\n",
       "\n",
       "    .dataframe tbody tr th {\n",
       "        vertical-align: top;\n",
       "    }\n",
       "\n",
       "    .dataframe thead th {\n",
       "        text-align: right;\n",
       "    }\n",
       "</style>\n",
       "<table border=\"1\" class=\"dataframe\">\n",
       "  <thead>\n",
       "    <tr style=\"text-align: right;\">\n",
       "      <th></th>\n",
       "      <th>X</th>\n",
       "      <th>Y</th>\n",
       "      <th>OBJECTID</th>\n",
       "      <th>Primary_Key</th>\n",
       "      <th>Incident_Number</th>\n",
       "      <th>Report_Type</th>\n",
       "      <th>Report_Type_Description</th>\n",
       "      <th>Incident_Status_Code</th>\n",
       "      <th>Incident_Status_Description</th>\n",
       "      <th>Investigation_Status</th>\n",
       "      <th>...</th>\n",
       "      <th>Victim_Race</th>\n",
       "      <th>Victim_Ethnicity</th>\n",
       "      <th>Victim_County_Resident</th>\n",
       "      <th>Mapped_Location</th>\n",
       "      <th>POINT_X</th>\n",
       "      <th>POINT_Y</th>\n",
       "      <th>ZIP_Code</th>\n",
       "      <th>Weapon_Primary</th>\n",
       "      <th>Incident_Occurred</th>\n",
       "      <th>Incident_Reported</th>\n",
       "    </tr>\n",
       "  </thead>\n",
       "  <tbody>\n",
       "    <tr>\n",
       "      <th>0</th>\n",
       "      <td>-9671214.721</td>\n",
       "      <td>4321556.544</td>\n",
       "      <td>1</td>\n",
       "      <td>20180018401_11</td>\n",
       "      <td>20180018401</td>\n",
       "      <td>D</td>\n",
       "      <td>DISPATCHED</td>\n",
       "      <td>U</td>\n",
       "      <td>UNFOUNDED</td>\n",
       "      <td>Closed</td>\n",
       "      <td>...</td>\n",
       "      <td>B</td>\n",
       "      <td>Non-Hispanic</td>\n",
       "      <td>RESIDENT</td>\n",
       "      <td>NaN</td>\n",
       "      <td>NaN</td>\n",
       "      <td>NaN</td>\n",
       "      <td>37209.0</td>\n",
       "      <td>17</td>\n",
       "      <td>2018-01-06 17:00:00+00:00</td>\n",
       "      <td>2018/01/06 17:43:00+00</td>\n",
       "    </tr>\n",
       "    <tr>\n",
       "      <th>1</th>\n",
       "      <td>-9648505.545</td>\n",
       "      <td>4307641.164</td>\n",
       "      <td>2</td>\n",
       "      <td>20180018380_11</td>\n",
       "      <td>20180018380</td>\n",
       "      <td>D</td>\n",
       "      <td>DISPATCHED</td>\n",
       "      <td>U</td>\n",
       "      <td>UNFOUNDED</td>\n",
       "      <td>Closed</td>\n",
       "      <td>...</td>\n",
       "      <td>W</td>\n",
       "      <td>Non-Hispanic</td>\n",
       "      <td>NON RESIDENT</td>\n",
       "      <td>NaN</td>\n",
       "      <td>NaN</td>\n",
       "      <td>NaN</td>\n",
       "      <td>37013.0</td>\n",
       "      <td>17</td>\n",
       "      <td>2018-01-06 16:00:00+00:00</td>\n",
       "      <td>2018/01/06 17:50:00+00</td>\n",
       "    </tr>\n",
       "    <tr>\n",
       "      <th>2</th>\n",
       "      <td>-9641826.376</td>\n",
       "      <td>4312048.062</td>\n",
       "      <td>3</td>\n",
       "      <td>20180019944_11</td>\n",
       "      <td>20180019944</td>\n",
       "      <td>D</td>\n",
       "      <td>DISPATCHED</td>\n",
       "      <td>R</td>\n",
       "      <td>REFUSED TO COOPERATE</td>\n",
       "      <td>Closed</td>\n",
       "      <td>...</td>\n",
       "      <td>B</td>\n",
       "      <td>Non-Hispanic</td>\n",
       "      <td>RESIDENT</td>\n",
       "      <td>NaN</td>\n",
       "      <td>NaN</td>\n",
       "      <td>NaN</td>\n",
       "      <td>37217.0</td>\n",
       "      <td>07</td>\n",
       "      <td>2018-01-07 06:11:00+00:00</td>\n",
       "      <td>2018/01/07 08:09:00+00</td>\n",
       "    </tr>\n",
       "    <tr>\n",
       "      <th>3</th>\n",
       "      <td>-9668765.692</td>\n",
       "      <td>4322797.398</td>\n",
       "      <td>4</td>\n",
       "      <td>20180015642_11</td>\n",
       "      <td>20180015642</td>\n",
       "      <td>D</td>\n",
       "      <td>DISPATCHED</td>\n",
       "      <td>U</td>\n",
       "      <td>UNFOUNDED</td>\n",
       "      <td>Closed</td>\n",
       "      <td>...</td>\n",
       "      <td>W</td>\n",
       "      <td>Non-Hispanic</td>\n",
       "      <td>RESIDENT</td>\n",
       "      <td>NaN</td>\n",
       "      <td>NaN</td>\n",
       "      <td>NaN</td>\n",
       "      <td>37209.0</td>\n",
       "      <td>17</td>\n",
       "      <td>2018-01-05 20:23:00+00:00</td>\n",
       "      <td>2018/01/05 21:07:00+00</td>\n",
       "    </tr>\n",
       "    <tr>\n",
       "      <th>4</th>\n",
       "      <td>-9664646.871</td>\n",
       "      <td>4322935.279</td>\n",
       "      <td>5</td>\n",
       "      <td>20180018912_11</td>\n",
       "      <td>20180018912</td>\n",
       "      <td>D</td>\n",
       "      <td>DISPATCHED</td>\n",
       "      <td>U</td>\n",
       "      <td>UNFOUNDED</td>\n",
       "      <td>Closed</td>\n",
       "      <td>...</td>\n",
       "      <td>B</td>\n",
       "      <td>Non-Hispanic</td>\n",
       "      <td>RESIDENT</td>\n",
       "      <td>NaN</td>\n",
       "      <td>NaN</td>\n",
       "      <td>NaN</td>\n",
       "      <td>37208.0</td>\n",
       "      <td>17</td>\n",
       "      <td>2018-01-06 21:52:00+00:00</td>\n",
       "      <td>2018/01/06 23:12:00+00</td>\n",
       "    </tr>\n",
       "  </tbody>\n",
       "</table>\n",
       "<p>5 rows × 36 columns</p>\n",
       "</div>"
      ],
      "text/plain": [
       "             X            Y  OBJECTID     Primary_Key  Incident_Number  \\\n",
       "0 -9671214.721  4321556.544         1  20180018401_11      20180018401   \n",
       "1 -9648505.545  4307641.164         2  20180018380_11      20180018380   \n",
       "2 -9641826.376  4312048.062         3  20180019944_11      20180019944   \n",
       "3 -9668765.692  4322797.398         4  20180015642_11      20180015642   \n",
       "4 -9664646.871  4322935.279         5  20180018912_11      20180018912   \n",
       "\n",
       "  Report_Type Report_Type_Description Incident_Status_Code  \\\n",
       "0           D              DISPATCHED                    U   \n",
       "1           D              DISPATCHED                    U   \n",
       "2           D              DISPATCHED                    R   \n",
       "3           D              DISPATCHED                    U   \n",
       "4           D              DISPATCHED                    U   \n",
       "\n",
       "  Incident_Status_Description Investigation_Status  ... Victim_Race  \\\n",
       "0                   UNFOUNDED               Closed  ...           B   \n",
       "1                   UNFOUNDED               Closed  ...           W   \n",
       "2        REFUSED TO COOPERATE               Closed  ...           B   \n",
       "3                   UNFOUNDED               Closed  ...           W   \n",
       "4                   UNFOUNDED               Closed  ...           B   \n",
       "\n",
       "   Victim_Ethnicity  Victim_County_Resident  Mapped_Location  POINT_X  \\\n",
       "0      Non-Hispanic                RESIDENT              NaN      NaN   \n",
       "1      Non-Hispanic            NON RESIDENT              NaN      NaN   \n",
       "2      Non-Hispanic                RESIDENT              NaN      NaN   \n",
       "3      Non-Hispanic                RESIDENT              NaN      NaN   \n",
       "4      Non-Hispanic                RESIDENT              NaN      NaN   \n",
       "\n",
       "   POINT_Y ZIP_Code  Weapon_Primary          Incident_Occurred  \\\n",
       "0      NaN  37209.0              17  2018-01-06 17:00:00+00:00   \n",
       "1      NaN  37013.0              17  2018-01-06 16:00:00+00:00   \n",
       "2      NaN  37217.0              07  2018-01-07 06:11:00+00:00   \n",
       "3      NaN  37209.0              17  2018-01-05 20:23:00+00:00   \n",
       "4      NaN  37208.0              17  2018-01-06 21:52:00+00:00   \n",
       "\n",
       "        Incident_Reported  \n",
       "0  2018/01/06 17:43:00+00  \n",
       "1  2018/01/06 17:50:00+00  \n",
       "2  2018/01/07 08:09:00+00  \n",
       "3  2018/01/05 21:07:00+00  \n",
       "4  2018/01/06 23:12:00+00  \n",
       "\n",
       "[5 rows x 36 columns]"
      ]
     },
     "execution_count": 14,
     "metadata": {},
     "output_type": "execute_result"
    }
   ],
   "source": [
    "crime_df = pd.read_csv(\"../data/cleaned_crime_incidents.csv\")\n",
    "crime_df.head()"
   ]
  },
  {
   "cell_type": "code",
   "execution_count": 12,
   "id": "b11f515a-b008-4f11-bc2e-09f32243bab1",
   "metadata": {},
   "outputs": [],
   "source": [
    "# clean time \n",
    "crime_df['Incident_Occurred'] = pd.to_datetime(crime_df['Incident_Occurred'], errors='coerce')\n",
    "crime_df['Incident_Reported'] = pd.to_datetime(crime_df['Incident_Reported'], errors='coerce')"
   ]
  },
  {
   "cell_type": "code",
   "execution_count": 13,
   "id": "b6b09ce4-13ff-4724-99fd-e63adc4d55e2",
   "metadata": {},
   "outputs": [],
   "source": [
    "# seperate time \n",
    "crime_df['Year'] = crime_df['Incident_Occurred'].dt.year\n",
    "crime_df['Month'] = crime_df['Incident_Occurred'].dt.month\n",
    "crime_df['Hour'] = crime_df['Incident_Occurred'].dt.hour\n",
    "crime_df['Weekday'] = crime_df['Incident_Occurred'].dt.day_name()\n"
   ]
  },
  {
   "cell_type": "code",
   "execution_count": 14,
   "id": "d9a26564-82e0-4d12-a453-25e3182d1351",
   "metadata": {},
   "outputs": [],
   "source": [
    "# save csv\n",
    "crime_df.to_csv(\"crime_incidents_cleaned_with_time.csv\", index=False)"
   ]
  },
  {
   "cell_type": "code",
   "execution_count": 15,
   "id": "4b6d0eaa-ba0c-46dc-b584-4b1888aef722",
   "metadata": {},
   "outputs": [],
   "source": [
    "# read df \n",
    "calls_df = pd.read_csv(\"../data/combined_calls_data.csv\", low_memory=False)"
   ]
  },
  {
   "cell_type": "code",
   "execution_count": 15,
   "id": "1e14cb67-2204-4b0d-bed0-6b34e039ced3",
   "metadata": {},
   "outputs": [],
   "source": [
    "calls_df['Call_Received'] = pd.to_datetime(\n",
    "    calls_df['Call_Received'].astype(str).str.strip(), \n",
    "    format=\"%Y-%m-%d %H:%M:%S\",  \n",
    "    errors='coerce'\n",
    ")"
   ]
  },
  {
   "cell_type": "code",
   "execution_count": 16,
   "id": "213f7793-4239-4431-9ea7-6a5b6483b889",
   "metadata": {},
   "outputs": [
    {
     "name": "stdout",
     "output_type": "stream",
     "text": [
      "Nan： 0\n"
     ]
    }
   ],
   "source": [
    "print(\"Nan：\", calls_df['Call_Received'].isna().sum())"
   ]
  },
  {
   "cell_type": "code",
   "execution_count": 17,
   "id": "ccf6c6d9-b7bd-4261-8d25-9b9d9f85db81",
   "metadata": {},
   "outputs": [
    {
     "name": "stdout",
     "output_type": "stream",
     "text": [
      "Year\n",
      "2018    999925\n",
      "2019    828233\n",
      "2020    691728\n",
      "2021    530420\n",
      "Name: count, dtype: int64\n"
     ]
    }
   ],
   "source": [
    "calls_df['Year'] = calls_df['Call_Received'].dt.year\n",
    "print(calls_df['Year'].value_counts().sort_index())"
   ]
  },
  {
   "cell_type": "code",
   "execution_count": 18,
   "id": "3034547f-d620-4055-9aad-da7ecc5a9ae5",
   "metadata": {},
   "outputs": [
    {
     "data": {
      "text/html": [
       "<div>\n",
       "<style scoped>\n",
       "    .dataframe tbody tr th:only-of-type {\n",
       "        vertical-align: middle;\n",
       "    }\n",
       "\n",
       "    .dataframe tbody tr th {\n",
       "        vertical-align: top;\n",
       "    }\n",
       "\n",
       "    .dataframe thead th {\n",
       "        text-align: right;\n",
       "    }\n",
       "</style>\n",
       "<table border=\"1\" class=\"dataframe\">\n",
       "  <thead>\n",
       "    <tr style=\"text-align: right;\">\n",
       "      <th></th>\n",
       "      <th>OBJECTID</th>\n",
       "      <th>Event_Number</th>\n",
       "      <th>Complaint_Number</th>\n",
       "      <th>Tencode</th>\n",
       "      <th>Tencode_Description</th>\n",
       "      <th>Tencode_Suffix</th>\n",
       "      <th>Tencode_Suffix_Description</th>\n",
       "      <th>Disposition_Code</th>\n",
       "      <th>Disposition_Description</th>\n",
       "      <th>Block</th>\n",
       "      <th>...</th>\n",
       "      <th>Shift</th>\n",
       "      <th>Sector</th>\n",
       "      <th>ZONE_</th>\n",
       "      <th>Latitude</th>\n",
       "      <th>Longitude</th>\n",
       "      <th>RPA</th>\n",
       "      <th>Call_Received</th>\n",
       "      <th>x</th>\n",
       "      <th>y</th>\n",
       "      <th>Year</th>\n",
       "    </tr>\n",
       "  </thead>\n",
       "  <tbody>\n",
       "    <tr>\n",
       "      <th>0</th>\n",
       "      <td>1</td>\n",
       "      <td>PD201800160242</td>\n",
       "      <td>NaN</td>\n",
       "      <td>92</td>\n",
       "      <td>FIXED POST</td>\n",
       "      <td>P</td>\n",
       "      <td>PROGRESS</td>\n",
       "      <td>9T</td>\n",
       "      <td>NaN</td>\n",
       "      <td>NaN</td>\n",
       "      <td>...</td>\n",
       "      <td>A</td>\n",
       "      <td>325</td>\n",
       "      <td>825</td>\n",
       "      <td>36.037</td>\n",
       "      <td>-86.779</td>\n",
       "      <td>8623.0</td>\n",
       "      <td>2018-02-13 14:03:46</td>\n",
       "      <td>-86.779</td>\n",
       "      <td>36.037</td>\n",
       "      <td>2018</td>\n",
       "    </tr>\n",
       "    <tr>\n",
       "      <th>1</th>\n",
       "      <td>2</td>\n",
       "      <td>PD201800687980</td>\n",
       "      <td>NaN</td>\n",
       "      <td>40</td>\n",
       "      <td>SUSPICIOUS PERSON</td>\n",
       "      <td>PV</td>\n",
       "      <td>NaN</td>\n",
       "      <td>4</td>\n",
       "      <td>ASSISTED CITIZEN</td>\n",
       "      <td>NaN</td>\n",
       "      <td>...</td>\n",
       "      <td>C</td>\n",
       "      <td>325</td>\n",
       "      <td>825</td>\n",
       "      <td>36.037</td>\n",
       "      <td>-86.779</td>\n",
       "      <td>8623.0</td>\n",
       "      <td>2018-07-11 07:07:27</td>\n",
       "      <td>-86.779</td>\n",
       "      <td>36.037</td>\n",
       "      <td>2018</td>\n",
       "    </tr>\n",
       "    <tr>\n",
       "      <th>2</th>\n",
       "      <td>3</td>\n",
       "      <td>PD201801086308</td>\n",
       "      <td>NaN</td>\n",
       "      <td>43</td>\n",
       "      <td>WANT OFFICER FOR INVESTIGATION / ASSISTA</td>\n",
       "      <td>P</td>\n",
       "      <td>PROGRESS</td>\n",
       "      <td>5</td>\n",
       "      <td>GONE ON ARRIVAL</td>\n",
       "      <td>NaN</td>\n",
       "      <td>...</td>\n",
       "      <td>A</td>\n",
       "      <td>325</td>\n",
       "      <td>825</td>\n",
       "      <td>36.037</td>\n",
       "      <td>-86.779</td>\n",
       "      <td>8623.0</td>\n",
       "      <td>2018-11-08 17:26:30</td>\n",
       "      <td>-86.779</td>\n",
       "      <td>36.037</td>\n",
       "      <td>2018</td>\n",
       "    </tr>\n",
       "    <tr>\n",
       "      <th>3</th>\n",
       "      <td>4</td>\n",
       "      <td>PD201800894386</td>\n",
       "      <td>NaN</td>\n",
       "      <td>40</td>\n",
       "      <td>SUSPICIOUS PERSON</td>\n",
       "      <td>P</td>\n",
       "      <td>PROGRESS</td>\n",
       "      <td>11</td>\n",
       "      <td>DISREGARD / SIGNAL 9</td>\n",
       "      <td>NaN</td>\n",
       "      <td>...</td>\n",
       "      <td>A</td>\n",
       "      <td>325</td>\n",
       "      <td>825</td>\n",
       "      <td>36.037</td>\n",
       "      <td>-86.779</td>\n",
       "      <td>8623.0</td>\n",
       "      <td>2018-09-10 12:52:48</td>\n",
       "      <td>-86.779</td>\n",
       "      <td>36.037</td>\n",
       "      <td>2018</td>\n",
       "    </tr>\n",
       "    <tr>\n",
       "      <th>4</th>\n",
       "      <td>5</td>\n",
       "      <td>PD201801211177</td>\n",
       "      <td>NaN</td>\n",
       "      <td>40</td>\n",
       "      <td>SUSPICIOUS PERSON</td>\n",
       "      <td>PV</td>\n",
       "      <td>NaN</td>\n",
       "      <td>5</td>\n",
       "      <td>GONE ON ARRIVAL</td>\n",
       "      <td>NaN</td>\n",
       "      <td>...</td>\n",
       "      <td>B</td>\n",
       "      <td>325</td>\n",
       "      <td>825</td>\n",
       "      <td>36.037</td>\n",
       "      <td>-86.779</td>\n",
       "      <td>8623.0</td>\n",
       "      <td>2018-12-19 01:46:17</td>\n",
       "      <td>-86.779</td>\n",
       "      <td>36.037</td>\n",
       "      <td>2018</td>\n",
       "    </tr>\n",
       "  </tbody>\n",
       "</table>\n",
       "<p>5 rows × 22 columns</p>\n",
       "</div>"
      ],
      "text/plain": [
       "   OBJECTID    Event_Number  Complaint_Number  Tencode  \\\n",
       "0         1  PD201800160242               NaN       92   \n",
       "1         2  PD201800687980               NaN       40   \n",
       "2         3  PD201801086308               NaN       43   \n",
       "3         4  PD201800894386               NaN       40   \n",
       "4         5  PD201801211177               NaN       40   \n",
       "\n",
       "                        Tencode_Description Tencode_Suffix  \\\n",
       "0                                FIXED POST              P   \n",
       "1                         SUSPICIOUS PERSON             PV   \n",
       "2  WANT OFFICER FOR INVESTIGATION / ASSISTA              P   \n",
       "3                         SUSPICIOUS PERSON              P   \n",
       "4                         SUSPICIOUS PERSON             PV   \n",
       "\n",
       "  Tencode_Suffix_Description Disposition_Code Disposition_Description  Block  \\\n",
       "0                   PROGRESS               9T                     NaN    NaN   \n",
       "1                        NaN                4        ASSISTED CITIZEN    NaN   \n",
       "2                   PROGRESS                5         GONE ON ARRIVAL    NaN   \n",
       "3                   PROGRESS               11    DISREGARD / SIGNAL 9    NaN   \n",
       "4                        NaN                5         GONE ON ARRIVAL    NaN   \n",
       "\n",
       "   ... Shift Sector ZONE_ Latitude Longitude     RPA       Call_Received  \\\n",
       "0  ...     A    325   825   36.037   -86.779  8623.0 2018-02-13 14:03:46   \n",
       "1  ...     C    325   825   36.037   -86.779  8623.0 2018-07-11 07:07:27   \n",
       "2  ...     A    325   825   36.037   -86.779  8623.0 2018-11-08 17:26:30   \n",
       "3  ...     A    325   825   36.037   -86.779  8623.0 2018-09-10 12:52:48   \n",
       "4  ...     B    325   825   36.037   -86.779  8623.0 2018-12-19 01:46:17   \n",
       "\n",
       "        x       y  Year  \n",
       "0 -86.779  36.037  2018  \n",
       "1 -86.779  36.037  2018  \n",
       "2 -86.779  36.037  2018  \n",
       "3 -86.779  36.037  2018  \n",
       "4 -86.779  36.037  2018  \n",
       "\n",
       "[5 rows x 22 columns]"
      ]
     },
     "execution_count": 18,
     "metadata": {},
     "output_type": "execute_result"
    }
   ],
   "source": [
    "calls_df.head()"
   ]
  },
  {
   "cell_type": "code",
   "execution_count": 19,
   "id": "7bc68811-eacf-4c90-9e1e-00acb2125199",
   "metadata": {},
   "outputs": [
    {
     "name": "stdout",
     "output_type": "stream",
     "text": [
      "0    2018\n",
      "1    2018\n",
      "2    2018\n",
      "3    2018\n",
      "4    2018\n",
      "5    2018\n",
      "6    2018\n",
      "7    2018\n",
      "8    2018\n",
      "9    2018\n",
      "Name: Year, dtype: int32\n"
     ]
    }
   ],
   "source": [
    "print(calls_df['Year'].head(10))"
   ]
  },
  {
   "cell_type": "code",
   "execution_count": 21,
   "id": "b162b2ee-38b4-4aca-9b16-750ceb91093a",
   "metadata": {},
   "outputs": [
    {
     "name": "stdout",
     "output_type": "stream",
     "text": [
      "int32\n"
     ]
    }
   ],
   "source": [
    "print(calls_df['Year'].dtype)"
   ]
  },
  {
   "cell_type": "code",
   "execution_count": 20,
   "id": "062e974b-01d0-4ba4-935b-f9c6e8a4ac58",
   "metadata": {},
   "outputs": [
    {
     "data": {
      "text/html": [
       "<div>\n",
       "<style scoped>\n",
       "    .dataframe tbody tr th:only-of-type {\n",
       "        vertical-align: middle;\n",
       "    }\n",
       "\n",
       "    .dataframe tbody tr th {\n",
       "        vertical-align: top;\n",
       "    }\n",
       "\n",
       "    .dataframe thead th {\n",
       "        text-align: right;\n",
       "    }\n",
       "</style>\n",
       "<table border=\"1\" class=\"dataframe\">\n",
       "  <thead>\n",
       "    <tr style=\"text-align: right;\">\n",
       "      <th></th>\n",
       "      <th>OBJECTID</th>\n",
       "      <th>ZipCode</th>\n",
       "      <th>POName</th>\n",
       "      <th>GlobalID</th>\n",
       "      <th>geometry</th>\n",
       "    </tr>\n",
       "  </thead>\n",
       "  <tbody>\n",
       "    <tr>\n",
       "      <th>0</th>\n",
       "      <td>229</td>\n",
       "      <td>37115</td>\n",
       "      <td>MADISON</td>\n",
       "      <td>9492b2a0-dff5-4e2e-b77b-37c25b5c96f3</td>\n",
       "      <td>POLYGON ((-86.68725 36.31821, -86.68722 36.318...</td>\n",
       "    </tr>\n",
       "    <tr>\n",
       "      <th>1</th>\n",
       "      <td>230</td>\n",
       "      <td>37206</td>\n",
       "      <td>NASHVILLE</td>\n",
       "      <td>3a287c8d-543c-4f6e-8463-27bf9c3d8356</td>\n",
       "      <td>POLYGON ((-86.75348 36.16274, -86.75383 36.162...</td>\n",
       "    </tr>\n",
       "    <tr>\n",
       "      <th>2</th>\n",
       "      <td>231</td>\n",
       "      <td>37216</td>\n",
       "      <td>NASHVILLE</td>\n",
       "      <td>c3501fa2-5146-4881-95ac-0f36b9da82af</td>\n",
       "      <td>POLYGON ((-86.73451 36.23774, -86.73425 36.237...</td>\n",
       "    </tr>\n",
       "    <tr>\n",
       "      <th>3</th>\n",
       "      <td>232</td>\n",
       "      <td>37213</td>\n",
       "      <td>NASHVILLE</td>\n",
       "      <td>b50f3ab3-9571-4457-b059-68ef9bd0b13a</td>\n",
       "      <td>POLYGON ((-86.77787 36.17706, -86.7781 36.1765...</td>\n",
       "    </tr>\n",
       "    <tr>\n",
       "      <th>4</th>\n",
       "      <td>233</td>\n",
       "      <td>37086</td>\n",
       "      <td>LA VERGNE</td>\n",
       "      <td>c3ccae22-29a2-4599-9241-72cddd64a35a</td>\n",
       "      <td>POLYGON ((-86.5887 36.02671, -86.58837 36.0264...</td>\n",
       "    </tr>\n",
       "  </tbody>\n",
       "</table>\n",
       "</div>"
      ],
      "text/plain": [
       "   OBJECTID ZipCode     POName                              GlobalID  \\\n",
       "0       229   37115    MADISON  9492b2a0-dff5-4e2e-b77b-37c25b5c96f3   \n",
       "1       230   37206  NASHVILLE  3a287c8d-543c-4f6e-8463-27bf9c3d8356   \n",
       "2       231   37216  NASHVILLE  c3501fa2-5146-4881-95ac-0f36b9da82af   \n",
       "3       232   37213  NASHVILLE  b50f3ab3-9571-4457-b059-68ef9bd0b13a   \n",
       "4       233   37086  LA VERGNE  c3ccae22-29a2-4599-9241-72cddd64a35a   \n",
       "\n",
       "                                            geometry  \n",
       "0  POLYGON ((-86.68725 36.31821, -86.68722 36.318...  \n",
       "1  POLYGON ((-86.75348 36.16274, -86.75383 36.162...  \n",
       "2  POLYGON ((-86.73451 36.23774, -86.73425 36.237...  \n",
       "3  POLYGON ((-86.77787 36.17706, -86.7781 36.1765...  \n",
       "4  POLYGON ((-86.5887 36.02671, -86.58837 36.0264...  "
      ]
     },
     "execution_count": 20,
     "metadata": {},
     "output_type": "execute_result"
    }
   ],
   "source": [
    "import geopandas as gpd\n",
    "\n",
    "zip_gdf = gpd.read_file(\"../data/nashville_zipcodes.geojson\")\n",
    "zip_gdf = zip_gdf.to_crs(\"EPSG:4326\") \n",
    "zip_gdf.head()"
   ]
  },
  {
   "cell_type": "code",
   "execution_count": 21,
   "id": "6657d381-f81f-46b4-ab12-222f25f52c02",
   "metadata": {},
   "outputs": [],
   "source": [
    "#  zip() & list comprehension ，then create geometry\n",
    "calls_df['geometry'] = [Point(xy) for xy in zip(calls_df['Longitude'], calls_df['Latitude'])]"
   ]
  },
  {
   "cell_type": "code",
   "execution_count": 22,
   "id": "0053a901-a612-498f-8668-86cc1d365c26",
   "metadata": {},
   "outputs": [],
   "source": [
    "# create GeoDataFrame\n",
    "calls_gdf = gpd.GeoDataFrame(calls_df, geometry='geometry', crs='EPSG:4326')"
   ]
  },
  {
   "cell_type": "code",
   "execution_count": 23,
   "id": "7ce367dc-2a72-4c20-b074-14e9cc1582c5",
   "metadata": {},
   "outputs": [
    {
     "data": {
      "text/html": [
       "<div>\n",
       "<style scoped>\n",
       "    .dataframe tbody tr th:only-of-type {\n",
       "        vertical-align: middle;\n",
       "    }\n",
       "\n",
       "    .dataframe tbody tr th {\n",
       "        vertical-align: top;\n",
       "    }\n",
       "\n",
       "    .dataframe thead th {\n",
       "        text-align: right;\n",
       "    }\n",
       "</style>\n",
       "<table border=\"1\" class=\"dataframe\">\n",
       "  <thead>\n",
       "    <tr style=\"text-align: right;\">\n",
       "      <th></th>\n",
       "      <th>OBJECTID</th>\n",
       "      <th>ZipCode</th>\n",
       "      <th>POName</th>\n",
       "      <th>GlobalID</th>\n",
       "      <th>geometry</th>\n",
       "    </tr>\n",
       "  </thead>\n",
       "  <tbody>\n",
       "    <tr>\n",
       "      <th>0</th>\n",
       "      <td>229</td>\n",
       "      <td>37115</td>\n",
       "      <td>MADISON</td>\n",
       "      <td>9492b2a0-dff5-4e2e-b77b-37c25b5c96f3</td>\n",
       "      <td>POLYGON ((-86.68725 36.31821, -86.68722 36.318...</td>\n",
       "    </tr>\n",
       "    <tr>\n",
       "      <th>1</th>\n",
       "      <td>230</td>\n",
       "      <td>37206</td>\n",
       "      <td>NASHVILLE</td>\n",
       "      <td>3a287c8d-543c-4f6e-8463-27bf9c3d8356</td>\n",
       "      <td>POLYGON ((-86.75348 36.16274, -86.75383 36.162...</td>\n",
       "    </tr>\n",
       "    <tr>\n",
       "      <th>2</th>\n",
       "      <td>231</td>\n",
       "      <td>37216</td>\n",
       "      <td>NASHVILLE</td>\n",
       "      <td>c3501fa2-5146-4881-95ac-0f36b9da82af</td>\n",
       "      <td>POLYGON ((-86.73451 36.23774, -86.73425 36.237...</td>\n",
       "    </tr>\n",
       "    <tr>\n",
       "      <th>3</th>\n",
       "      <td>232</td>\n",
       "      <td>37213</td>\n",
       "      <td>NASHVILLE</td>\n",
       "      <td>b50f3ab3-9571-4457-b059-68ef9bd0b13a</td>\n",
       "      <td>POLYGON ((-86.77787 36.17706, -86.7781 36.1765...</td>\n",
       "    </tr>\n",
       "    <tr>\n",
       "      <th>4</th>\n",
       "      <td>233</td>\n",
       "      <td>37086</td>\n",
       "      <td>LA VERGNE</td>\n",
       "      <td>c3ccae22-29a2-4599-9241-72cddd64a35a</td>\n",
       "      <td>POLYGON ((-86.5887 36.02671, -86.58837 36.0264...</td>\n",
       "    </tr>\n",
       "  </tbody>\n",
       "</table>\n",
       "</div>"
      ],
      "text/plain": [
       "   OBJECTID ZipCode     POName                              GlobalID  \\\n",
       "0       229   37115    MADISON  9492b2a0-dff5-4e2e-b77b-37c25b5c96f3   \n",
       "1       230   37206  NASHVILLE  3a287c8d-543c-4f6e-8463-27bf9c3d8356   \n",
       "2       231   37216  NASHVILLE  c3501fa2-5146-4881-95ac-0f36b9da82af   \n",
       "3       232   37213  NASHVILLE  b50f3ab3-9571-4457-b059-68ef9bd0b13a   \n",
       "4       233   37086  LA VERGNE  c3ccae22-29a2-4599-9241-72cddd64a35a   \n",
       "\n",
       "                                            geometry  \n",
       "0  POLYGON ((-86.68725 36.31821, -86.68722 36.318...  \n",
       "1  POLYGON ((-86.75348 36.16274, -86.75383 36.162...  \n",
       "2  POLYGON ((-86.73451 36.23774, -86.73425 36.237...  \n",
       "3  POLYGON ((-86.77787 36.17706, -86.7781 36.1765...  \n",
       "4  POLYGON ((-86.5887 36.02671, -86.58837 36.0264...  "
      ]
     },
     "execution_count": 23,
     "metadata": {},
     "output_type": "execute_result"
    }
   ],
   "source": [
    "#  make sure zip_gdf \n",
    "zip_gdf = zip_gdf.to_crs(calls_gdf.crs)\n",
    "zip_gdf.head()"
   ]
  },
  {
   "cell_type": "code",
   "execution_count": 24,
   "id": "80a39bea-e36d-4275-bd25-ef507927438b",
   "metadata": {},
   "outputs": [
    {
     "data": {
      "text/html": [
       "<div>\n",
       "<style scoped>\n",
       "    .dataframe tbody tr th:only-of-type {\n",
       "        vertical-align: middle;\n",
       "    }\n",
       "\n",
       "    .dataframe tbody tr th {\n",
       "        vertical-align: top;\n",
       "    }\n",
       "\n",
       "    .dataframe thead th {\n",
       "        text-align: right;\n",
       "    }\n",
       "</style>\n",
       "<table border=\"1\" class=\"dataframe\">\n",
       "  <thead>\n",
       "    <tr style=\"text-align: right;\">\n",
       "      <th></th>\n",
       "      <th>OBJECTID</th>\n",
       "      <th>Event_Number</th>\n",
       "      <th>Complaint_Number</th>\n",
       "      <th>Tencode</th>\n",
       "      <th>Tencode_Description</th>\n",
       "      <th>Tencode_Suffix</th>\n",
       "      <th>Tencode_Suffix_Description</th>\n",
       "      <th>Disposition_Code</th>\n",
       "      <th>Disposition_Description</th>\n",
       "      <th>Block</th>\n",
       "      <th>...</th>\n",
       "      <th>Latitude</th>\n",
       "      <th>Longitude</th>\n",
       "      <th>RPA</th>\n",
       "      <th>Call_Received</th>\n",
       "      <th>x</th>\n",
       "      <th>y</th>\n",
       "      <th>Year</th>\n",
       "      <th>geometry</th>\n",
       "      <th>index_right</th>\n",
       "      <th>ZipCode</th>\n",
       "    </tr>\n",
       "  </thead>\n",
       "  <tbody>\n",
       "    <tr>\n",
       "      <th>0</th>\n",
       "      <td>1</td>\n",
       "      <td>PD201800160242</td>\n",
       "      <td>NaN</td>\n",
       "      <td>92</td>\n",
       "      <td>FIXED POST</td>\n",
       "      <td>P</td>\n",
       "      <td>PROGRESS</td>\n",
       "      <td>9T</td>\n",
       "      <td>NaN</td>\n",
       "      <td>NaN</td>\n",
       "      <td>...</td>\n",
       "      <td>36.037</td>\n",
       "      <td>-86.779</td>\n",
       "      <td>8623.0</td>\n",
       "      <td>2018-02-13 14:03:46</td>\n",
       "      <td>-86.779</td>\n",
       "      <td>36.037</td>\n",
       "      <td>2018</td>\n",
       "      <td>POINT (-86.779 36.037)</td>\n",
       "      <td>10.0</td>\n",
       "      <td>37027</td>\n",
       "    </tr>\n",
       "    <tr>\n",
       "      <th>1</th>\n",
       "      <td>2</td>\n",
       "      <td>PD201800687980</td>\n",
       "      <td>NaN</td>\n",
       "      <td>40</td>\n",
       "      <td>SUSPICIOUS PERSON</td>\n",
       "      <td>PV</td>\n",
       "      <td>NaN</td>\n",
       "      <td>4</td>\n",
       "      <td>ASSISTED CITIZEN</td>\n",
       "      <td>NaN</td>\n",
       "      <td>...</td>\n",
       "      <td>36.037</td>\n",
       "      <td>-86.779</td>\n",
       "      <td>8623.0</td>\n",
       "      <td>2018-07-11 07:07:27</td>\n",
       "      <td>-86.779</td>\n",
       "      <td>36.037</td>\n",
       "      <td>2018</td>\n",
       "      <td>POINT (-86.779 36.037)</td>\n",
       "      <td>10.0</td>\n",
       "      <td>37027</td>\n",
       "    </tr>\n",
       "    <tr>\n",
       "      <th>2</th>\n",
       "      <td>3</td>\n",
       "      <td>PD201801086308</td>\n",
       "      <td>NaN</td>\n",
       "      <td>43</td>\n",
       "      <td>WANT OFFICER FOR INVESTIGATION / ASSISTA</td>\n",
       "      <td>P</td>\n",
       "      <td>PROGRESS</td>\n",
       "      <td>5</td>\n",
       "      <td>GONE ON ARRIVAL</td>\n",
       "      <td>NaN</td>\n",
       "      <td>...</td>\n",
       "      <td>36.037</td>\n",
       "      <td>-86.779</td>\n",
       "      <td>8623.0</td>\n",
       "      <td>2018-11-08 17:26:30</td>\n",
       "      <td>-86.779</td>\n",
       "      <td>36.037</td>\n",
       "      <td>2018</td>\n",
       "      <td>POINT (-86.779 36.037)</td>\n",
       "      <td>10.0</td>\n",
       "      <td>37027</td>\n",
       "    </tr>\n",
       "    <tr>\n",
       "      <th>3</th>\n",
       "      <td>4</td>\n",
       "      <td>PD201800894386</td>\n",
       "      <td>NaN</td>\n",
       "      <td>40</td>\n",
       "      <td>SUSPICIOUS PERSON</td>\n",
       "      <td>P</td>\n",
       "      <td>PROGRESS</td>\n",
       "      <td>11</td>\n",
       "      <td>DISREGARD / SIGNAL 9</td>\n",
       "      <td>NaN</td>\n",
       "      <td>...</td>\n",
       "      <td>36.037</td>\n",
       "      <td>-86.779</td>\n",
       "      <td>8623.0</td>\n",
       "      <td>2018-09-10 12:52:48</td>\n",
       "      <td>-86.779</td>\n",
       "      <td>36.037</td>\n",
       "      <td>2018</td>\n",
       "      <td>POINT (-86.779 36.037)</td>\n",
       "      <td>10.0</td>\n",
       "      <td>37027</td>\n",
       "    </tr>\n",
       "    <tr>\n",
       "      <th>4</th>\n",
       "      <td>5</td>\n",
       "      <td>PD201801211177</td>\n",
       "      <td>NaN</td>\n",
       "      <td>40</td>\n",
       "      <td>SUSPICIOUS PERSON</td>\n",
       "      <td>PV</td>\n",
       "      <td>NaN</td>\n",
       "      <td>5</td>\n",
       "      <td>GONE ON ARRIVAL</td>\n",
       "      <td>NaN</td>\n",
       "      <td>...</td>\n",
       "      <td>36.037</td>\n",
       "      <td>-86.779</td>\n",
       "      <td>8623.0</td>\n",
       "      <td>2018-12-19 01:46:17</td>\n",
       "      <td>-86.779</td>\n",
       "      <td>36.037</td>\n",
       "      <td>2018</td>\n",
       "      <td>POINT (-86.779 36.037)</td>\n",
       "      <td>10.0</td>\n",
       "      <td>37027</td>\n",
       "    </tr>\n",
       "  </tbody>\n",
       "</table>\n",
       "<p>5 rows × 25 columns</p>\n",
       "</div>"
      ],
      "text/plain": [
       "   OBJECTID    Event_Number  Complaint_Number  Tencode  \\\n",
       "0         1  PD201800160242               NaN       92   \n",
       "1         2  PD201800687980               NaN       40   \n",
       "2         3  PD201801086308               NaN       43   \n",
       "3         4  PD201800894386               NaN       40   \n",
       "4         5  PD201801211177               NaN       40   \n",
       "\n",
       "                        Tencode_Description Tencode_Suffix  \\\n",
       "0                                FIXED POST              P   \n",
       "1                         SUSPICIOUS PERSON             PV   \n",
       "2  WANT OFFICER FOR INVESTIGATION / ASSISTA              P   \n",
       "3                         SUSPICIOUS PERSON              P   \n",
       "4                         SUSPICIOUS PERSON             PV   \n",
       "\n",
       "  Tencode_Suffix_Description Disposition_Code Disposition_Description  Block  \\\n",
       "0                   PROGRESS               9T                     NaN    NaN   \n",
       "1                        NaN                4        ASSISTED CITIZEN    NaN   \n",
       "2                   PROGRESS                5         GONE ON ARRIVAL    NaN   \n",
       "3                   PROGRESS               11    DISREGARD / SIGNAL 9    NaN   \n",
       "4                        NaN                5         GONE ON ARRIVAL    NaN   \n",
       "\n",
       "   ... Latitude Longitude     RPA       Call_Received       x       y  Year  \\\n",
       "0  ...   36.037   -86.779  8623.0 2018-02-13 14:03:46 -86.779  36.037  2018   \n",
       "1  ...   36.037   -86.779  8623.0 2018-07-11 07:07:27 -86.779  36.037  2018   \n",
       "2  ...   36.037   -86.779  8623.0 2018-11-08 17:26:30 -86.779  36.037  2018   \n",
       "3  ...   36.037   -86.779  8623.0 2018-09-10 12:52:48 -86.779  36.037  2018   \n",
       "4  ...   36.037   -86.779  8623.0 2018-12-19 01:46:17 -86.779  36.037  2018   \n",
       "\n",
       "                 geometry index_right  ZipCode  \n",
       "0  POINT (-86.779 36.037)        10.0    37027  \n",
       "1  POINT (-86.779 36.037)        10.0    37027  \n",
       "2  POINT (-86.779 36.037)        10.0    37027  \n",
       "3  POINT (-86.779 36.037)        10.0    37027  \n",
       "4  POINT (-86.779 36.037)        10.0    37027  \n",
       "\n",
       "[5 rows x 25 columns]"
      ]
     },
     "execution_count": 24,
     "metadata": {},
     "output_type": "execute_result"
    }
   ],
   "source": [
    "# put ZIP into calls\n",
    "calls_with_zip = gpd.sjoin(calls_gdf, zip_gdf[['ZipCode', 'geometry']], how='left', predicate='within')\n",
    "calls_with_zip.head()"
   ]
  },
  {
   "cell_type": "code",
   "execution_count": 25,
   "id": "abd0b3ec-f744-40cd-a053-79d66a3a4c9a",
   "metadata": {},
   "outputs": [],
   "source": [
    "calls_with_zip.to_csv(\"New_calls_with_zipcode.csv\", index=False)"
   ]
  },
  {
   "cell_type": "markdown",
   "id": "9d3dd5cc-df97-4d99-b351-37932b91ab73",
   "metadata": {},
   "source": [
    "## ZIP codes with higher call volumes → more confirmed incidents?"
   ]
  },
  {
   "cell_type": "code",
   "execution_count": 26,
   "id": "2fe8b1ee-dcd9-43c6-a431-7b9b1b3dace0",
   "metadata": {},
   "outputs": [
    {
     "name": "stderr",
     "output_type": "stream",
     "text": [
      "C:\\Users\\jingl\\AppData\\Local\\Temp\\ipykernel_15744\\3188646903.py:1: DtypeWarning: Columns (14) have mixed types. Specify dtype option on import or set low_memory=False.\n",
      "  calls_df = pd.read_csv(\"../data/New_calls_with_zipcode.csv\")\n"
     ]
    },
    {
     "data": {
      "text/html": [
       "<div>\n",
       "<style scoped>\n",
       "    .dataframe tbody tr th:only-of-type {\n",
       "        vertical-align: middle;\n",
       "    }\n",
       "\n",
       "    .dataframe tbody tr th {\n",
       "        vertical-align: top;\n",
       "    }\n",
       "\n",
       "    .dataframe thead th {\n",
       "        text-align: right;\n",
       "    }\n",
       "</style>\n",
       "<table border=\"1\" class=\"dataframe\">\n",
       "  <thead>\n",
       "    <tr style=\"text-align: right;\">\n",
       "      <th></th>\n",
       "      <th>OBJECTID</th>\n",
       "      <th>Event_Number</th>\n",
       "      <th>Complaint_Number</th>\n",
       "      <th>Tencode</th>\n",
       "      <th>Tencode_Description</th>\n",
       "      <th>Tencode_Suffix</th>\n",
       "      <th>Tencode_Suffix_Description</th>\n",
       "      <th>Disposition_Code</th>\n",
       "      <th>Disposition_Description</th>\n",
       "      <th>Block</th>\n",
       "      <th>...</th>\n",
       "      <th>Call_Received</th>\n",
       "      <th>x</th>\n",
       "      <th>y</th>\n",
       "      <th>Year</th>\n",
       "      <th>Month</th>\n",
       "      <th>Hour</th>\n",
       "      <th>Weekday</th>\n",
       "      <th>geometry</th>\n",
       "      <th>index_right</th>\n",
       "      <th>ZipCode</th>\n",
       "    </tr>\n",
       "  </thead>\n",
       "  <tbody>\n",
       "    <tr>\n",
       "      <th>0</th>\n",
       "      <td>1</td>\n",
       "      <td>PD201800160242</td>\n",
       "      <td>NaN</td>\n",
       "      <td>92</td>\n",
       "      <td>FIXED POST</td>\n",
       "      <td>P</td>\n",
       "      <td>PROGRESS</td>\n",
       "      <td>9T</td>\n",
       "      <td>NaN</td>\n",
       "      <td>NaN</td>\n",
       "      <td>...</td>\n",
       "      <td>2018-02-13 14:03:46</td>\n",
       "      <td>-86.779</td>\n",
       "      <td>36.037</td>\n",
       "      <td>2018.0</td>\n",
       "      <td>2</td>\n",
       "      <td>14</td>\n",
       "      <td>Tuesday</td>\n",
       "      <td>POINT (-86.779 36.037)</td>\n",
       "      <td>10.0</td>\n",
       "      <td>37027.0</td>\n",
       "    </tr>\n",
       "    <tr>\n",
       "      <th>1</th>\n",
       "      <td>2</td>\n",
       "      <td>PD201800687980</td>\n",
       "      <td>NaN</td>\n",
       "      <td>40</td>\n",
       "      <td>SUSPICIOUS PERSON</td>\n",
       "      <td>PV</td>\n",
       "      <td>NaN</td>\n",
       "      <td>4</td>\n",
       "      <td>ASSISTED CITIZEN</td>\n",
       "      <td>NaN</td>\n",
       "      <td>...</td>\n",
       "      <td>2018-07-11 07:07:27</td>\n",
       "      <td>-86.779</td>\n",
       "      <td>36.037</td>\n",
       "      <td>2018.0</td>\n",
       "      <td>7</td>\n",
       "      <td>7</td>\n",
       "      <td>Wednesday</td>\n",
       "      <td>POINT (-86.779 36.037)</td>\n",
       "      <td>10.0</td>\n",
       "      <td>37027.0</td>\n",
       "    </tr>\n",
       "    <tr>\n",
       "      <th>2</th>\n",
       "      <td>3</td>\n",
       "      <td>PD201801086308</td>\n",
       "      <td>NaN</td>\n",
       "      <td>43</td>\n",
       "      <td>WANT OFFICER FOR INVESTIGATION / ASSISTA</td>\n",
       "      <td>P</td>\n",
       "      <td>PROGRESS</td>\n",
       "      <td>5</td>\n",
       "      <td>GONE ON ARRIVAL</td>\n",
       "      <td>NaN</td>\n",
       "      <td>...</td>\n",
       "      <td>2018-11-08 17:26:30</td>\n",
       "      <td>-86.779</td>\n",
       "      <td>36.037</td>\n",
       "      <td>2018.0</td>\n",
       "      <td>11</td>\n",
       "      <td>17</td>\n",
       "      <td>Thursday</td>\n",
       "      <td>POINT (-86.779 36.037)</td>\n",
       "      <td>10.0</td>\n",
       "      <td>37027.0</td>\n",
       "    </tr>\n",
       "    <tr>\n",
       "      <th>3</th>\n",
       "      <td>4</td>\n",
       "      <td>PD201800894386</td>\n",
       "      <td>NaN</td>\n",
       "      <td>40</td>\n",
       "      <td>SUSPICIOUS PERSON</td>\n",
       "      <td>P</td>\n",
       "      <td>PROGRESS</td>\n",
       "      <td>11</td>\n",
       "      <td>DISREGARD / SIGNAL 9</td>\n",
       "      <td>NaN</td>\n",
       "      <td>...</td>\n",
       "      <td>2018-09-10 12:52:48</td>\n",
       "      <td>-86.779</td>\n",
       "      <td>36.037</td>\n",
       "      <td>2018.0</td>\n",
       "      <td>9</td>\n",
       "      <td>12</td>\n",
       "      <td>Monday</td>\n",
       "      <td>POINT (-86.779 36.037)</td>\n",
       "      <td>10.0</td>\n",
       "      <td>37027.0</td>\n",
       "    </tr>\n",
       "    <tr>\n",
       "      <th>4</th>\n",
       "      <td>5</td>\n",
       "      <td>PD201801211177</td>\n",
       "      <td>NaN</td>\n",
       "      <td>40</td>\n",
       "      <td>SUSPICIOUS PERSON</td>\n",
       "      <td>PV</td>\n",
       "      <td>NaN</td>\n",
       "      <td>5</td>\n",
       "      <td>GONE ON ARRIVAL</td>\n",
       "      <td>NaN</td>\n",
       "      <td>...</td>\n",
       "      <td>2018-12-19 01:46:17</td>\n",
       "      <td>-86.779</td>\n",
       "      <td>36.037</td>\n",
       "      <td>2018.0</td>\n",
       "      <td>12</td>\n",
       "      <td>1</td>\n",
       "      <td>Wednesday</td>\n",
       "      <td>POINT (-86.779 36.037)</td>\n",
       "      <td>10.0</td>\n",
       "      <td>37027.0</td>\n",
       "    </tr>\n",
       "  </tbody>\n",
       "</table>\n",
       "<p>5 rows × 28 columns</p>\n",
       "</div>"
      ],
      "text/plain": [
       "   OBJECTID    Event_Number  Complaint_Number  Tencode  \\\n",
       "0         1  PD201800160242               NaN       92   \n",
       "1         2  PD201800687980               NaN       40   \n",
       "2         3  PD201801086308               NaN       43   \n",
       "3         4  PD201800894386               NaN       40   \n",
       "4         5  PD201801211177               NaN       40   \n",
       "\n",
       "                        Tencode_Description Tencode_Suffix  \\\n",
       "0                                FIXED POST              P   \n",
       "1                         SUSPICIOUS PERSON             PV   \n",
       "2  WANT OFFICER FOR INVESTIGATION / ASSISTA              P   \n",
       "3                         SUSPICIOUS PERSON              P   \n",
       "4                         SUSPICIOUS PERSON             PV   \n",
       "\n",
       "  Tencode_Suffix_Description Disposition_Code Disposition_Description  Block  \\\n",
       "0                   PROGRESS               9T                     NaN    NaN   \n",
       "1                        NaN                4        ASSISTED CITIZEN    NaN   \n",
       "2                   PROGRESS                5         GONE ON ARRIVAL    NaN   \n",
       "3                   PROGRESS               11    DISREGARD / SIGNAL 9    NaN   \n",
       "4                        NaN                5         GONE ON ARRIVAL    NaN   \n",
       "\n",
       "   ...        Call_Received       x       y    Year Month  Hour    Weekday  \\\n",
       "0  ...  2018-02-13 14:03:46 -86.779  36.037  2018.0     2    14    Tuesday   \n",
       "1  ...  2018-07-11 07:07:27 -86.779  36.037  2018.0     7     7  Wednesday   \n",
       "2  ...  2018-11-08 17:26:30 -86.779  36.037  2018.0    11    17   Thursday   \n",
       "3  ...  2018-09-10 12:52:48 -86.779  36.037  2018.0     9    12     Monday   \n",
       "4  ...  2018-12-19 01:46:17 -86.779  36.037  2018.0    12     1  Wednesday   \n",
       "\n",
       "                 geometry index_right  ZipCode  \n",
       "0  POINT (-86.779 36.037)        10.0  37027.0  \n",
       "1  POINT (-86.779 36.037)        10.0  37027.0  \n",
       "2  POINT (-86.779 36.037)        10.0  37027.0  \n",
       "3  POINT (-86.779 36.037)        10.0  37027.0  \n",
       "4  POINT (-86.779 36.037)        10.0  37027.0  \n",
       "\n",
       "[5 rows x 28 columns]"
      ]
     },
     "execution_count": 26,
     "metadata": {},
     "output_type": "execute_result"
    }
   ],
   "source": [
    "calls_df = pd.read_csv(\"../data/New_calls_with_zipcode.csv\")\n",
    "calls_df.head()"
   ]
  },
  {
   "cell_type": "code",
   "execution_count": 27,
   "id": "5f5f62a7-39b8-4cf5-bf2e-0861cbc166b1",
   "metadata": {},
   "outputs": [
    {
     "name": "stderr",
     "output_type": "stream",
     "text": [
      "C:\\Users\\jingl\\AppData\\Local\\Temp\\ipykernel_15744\\1327155577.py:1: DtypeWarning: Columns (32) have mixed types. Specify dtype option on import or set low_memory=False.\n",
      "  crimes_df = pd.read_csv(\"../data/crime_incidents_cleaned_with_time.csv\")\n"
     ]
    },
    {
     "data": {
      "text/html": [
       "<div>\n",
       "<style scoped>\n",
       "    .dataframe tbody tr th:only-of-type {\n",
       "        vertical-align: middle;\n",
       "    }\n",
       "\n",
       "    .dataframe tbody tr th {\n",
       "        vertical-align: top;\n",
       "    }\n",
       "\n",
       "    .dataframe thead th {\n",
       "        text-align: right;\n",
       "    }\n",
       "</style>\n",
       "<table border=\"1\" class=\"dataframe\">\n",
       "  <thead>\n",
       "    <tr style=\"text-align: right;\">\n",
       "      <th></th>\n",
       "      <th>X</th>\n",
       "      <th>Y</th>\n",
       "      <th>OBJECTID</th>\n",
       "      <th>Primary_Key</th>\n",
       "      <th>Incident_Number</th>\n",
       "      <th>Report_Type</th>\n",
       "      <th>Report_Type_Description</th>\n",
       "      <th>Incident_Status_Code</th>\n",
       "      <th>Incident_Status_Description</th>\n",
       "      <th>Investigation_Status</th>\n",
       "      <th>...</th>\n",
       "      <th>POINT_X</th>\n",
       "      <th>POINT_Y</th>\n",
       "      <th>ZIP_Code</th>\n",
       "      <th>Weapon_Primary</th>\n",
       "      <th>Incident_Occurred</th>\n",
       "      <th>Incident_Reported</th>\n",
       "      <th>Year</th>\n",
       "      <th>Month</th>\n",
       "      <th>Hour</th>\n",
       "      <th>Weekday</th>\n",
       "    </tr>\n",
       "  </thead>\n",
       "  <tbody>\n",
       "    <tr>\n",
       "      <th>0</th>\n",
       "      <td>-9671214.721</td>\n",
       "      <td>4321556.544</td>\n",
       "      <td>1</td>\n",
       "      <td>20180018401_11</td>\n",
       "      <td>20180018401</td>\n",
       "      <td>D</td>\n",
       "      <td>DISPATCHED</td>\n",
       "      <td>U</td>\n",
       "      <td>UNFOUNDED</td>\n",
       "      <td>Closed</td>\n",
       "      <td>...</td>\n",
       "      <td>NaN</td>\n",
       "      <td>NaN</td>\n",
       "      <td>37209.0</td>\n",
       "      <td>17</td>\n",
       "      <td>2018-01-06 17:00:00+00:00</td>\n",
       "      <td>2018-01-06 17:43:00+00:00</td>\n",
       "      <td>2018</td>\n",
       "      <td>1</td>\n",
       "      <td>17</td>\n",
       "      <td>Saturday</td>\n",
       "    </tr>\n",
       "    <tr>\n",
       "      <th>1</th>\n",
       "      <td>-9648505.545</td>\n",
       "      <td>4307641.164</td>\n",
       "      <td>2</td>\n",
       "      <td>20180018380_11</td>\n",
       "      <td>20180018380</td>\n",
       "      <td>D</td>\n",
       "      <td>DISPATCHED</td>\n",
       "      <td>U</td>\n",
       "      <td>UNFOUNDED</td>\n",
       "      <td>Closed</td>\n",
       "      <td>...</td>\n",
       "      <td>NaN</td>\n",
       "      <td>NaN</td>\n",
       "      <td>37013.0</td>\n",
       "      <td>17</td>\n",
       "      <td>2018-01-06 16:00:00+00:00</td>\n",
       "      <td>2018-01-06 17:50:00+00:00</td>\n",
       "      <td>2018</td>\n",
       "      <td>1</td>\n",
       "      <td>16</td>\n",
       "      <td>Saturday</td>\n",
       "    </tr>\n",
       "    <tr>\n",
       "      <th>2</th>\n",
       "      <td>-9641826.376</td>\n",
       "      <td>4312048.062</td>\n",
       "      <td>3</td>\n",
       "      <td>20180019944_11</td>\n",
       "      <td>20180019944</td>\n",
       "      <td>D</td>\n",
       "      <td>DISPATCHED</td>\n",
       "      <td>R</td>\n",
       "      <td>REFUSED TO COOPERATE</td>\n",
       "      <td>Closed</td>\n",
       "      <td>...</td>\n",
       "      <td>NaN</td>\n",
       "      <td>NaN</td>\n",
       "      <td>37217.0</td>\n",
       "      <td>07</td>\n",
       "      <td>2018-01-07 06:11:00+00:00</td>\n",
       "      <td>2018-01-07 08:09:00+00:00</td>\n",
       "      <td>2018</td>\n",
       "      <td>1</td>\n",
       "      <td>6</td>\n",
       "      <td>Sunday</td>\n",
       "    </tr>\n",
       "    <tr>\n",
       "      <th>3</th>\n",
       "      <td>-9668765.692</td>\n",
       "      <td>4322797.398</td>\n",
       "      <td>4</td>\n",
       "      <td>20180015642_11</td>\n",
       "      <td>20180015642</td>\n",
       "      <td>D</td>\n",
       "      <td>DISPATCHED</td>\n",
       "      <td>U</td>\n",
       "      <td>UNFOUNDED</td>\n",
       "      <td>Closed</td>\n",
       "      <td>...</td>\n",
       "      <td>NaN</td>\n",
       "      <td>NaN</td>\n",
       "      <td>37209.0</td>\n",
       "      <td>17</td>\n",
       "      <td>2018-01-05 20:23:00+00:00</td>\n",
       "      <td>2018-01-05 21:07:00+00:00</td>\n",
       "      <td>2018</td>\n",
       "      <td>1</td>\n",
       "      <td>20</td>\n",
       "      <td>Friday</td>\n",
       "    </tr>\n",
       "    <tr>\n",
       "      <th>4</th>\n",
       "      <td>-9664646.871</td>\n",
       "      <td>4322935.279</td>\n",
       "      <td>5</td>\n",
       "      <td>20180018912_11</td>\n",
       "      <td>20180018912</td>\n",
       "      <td>D</td>\n",
       "      <td>DISPATCHED</td>\n",
       "      <td>U</td>\n",
       "      <td>UNFOUNDED</td>\n",
       "      <td>Closed</td>\n",
       "      <td>...</td>\n",
       "      <td>NaN</td>\n",
       "      <td>NaN</td>\n",
       "      <td>37208.0</td>\n",
       "      <td>17</td>\n",
       "      <td>2018-01-06 21:52:00+00:00</td>\n",
       "      <td>2018-01-06 23:12:00+00:00</td>\n",
       "      <td>2018</td>\n",
       "      <td>1</td>\n",
       "      <td>21</td>\n",
       "      <td>Saturday</td>\n",
       "    </tr>\n",
       "  </tbody>\n",
       "</table>\n",
       "<p>5 rows × 40 columns</p>\n",
       "</div>"
      ],
      "text/plain": [
       "             X            Y  OBJECTID     Primary_Key  Incident_Number  \\\n",
       "0 -9671214.721  4321556.544         1  20180018401_11      20180018401   \n",
       "1 -9648505.545  4307641.164         2  20180018380_11      20180018380   \n",
       "2 -9641826.376  4312048.062         3  20180019944_11      20180019944   \n",
       "3 -9668765.692  4322797.398         4  20180015642_11      20180015642   \n",
       "4 -9664646.871  4322935.279         5  20180018912_11      20180018912   \n",
       "\n",
       "  Report_Type Report_Type_Description Incident_Status_Code  \\\n",
       "0           D              DISPATCHED                    U   \n",
       "1           D              DISPATCHED                    U   \n",
       "2           D              DISPATCHED                    R   \n",
       "3           D              DISPATCHED                    U   \n",
       "4           D              DISPATCHED                    U   \n",
       "\n",
       "  Incident_Status_Description Investigation_Status  ... POINT_X  POINT_Y  \\\n",
       "0                   UNFOUNDED               Closed  ...     NaN      NaN   \n",
       "1                   UNFOUNDED               Closed  ...     NaN      NaN   \n",
       "2        REFUSED TO COOPERATE               Closed  ...     NaN      NaN   \n",
       "3                   UNFOUNDED               Closed  ...     NaN      NaN   \n",
       "4                   UNFOUNDED               Closed  ...     NaN      NaN   \n",
       "\n",
       "   ZIP_Code  Weapon_Primary          Incident_Occurred  \\\n",
       "0   37209.0              17  2018-01-06 17:00:00+00:00   \n",
       "1   37013.0              17  2018-01-06 16:00:00+00:00   \n",
       "2   37217.0              07  2018-01-07 06:11:00+00:00   \n",
       "3   37209.0              17  2018-01-05 20:23:00+00:00   \n",
       "4   37208.0              17  2018-01-06 21:52:00+00:00   \n",
       "\n",
       "           Incident_Reported  Year  Month Hour   Weekday  \n",
       "0  2018-01-06 17:43:00+00:00  2018      1   17  Saturday  \n",
       "1  2018-01-06 17:50:00+00:00  2018      1   16  Saturday  \n",
       "2  2018-01-07 08:09:00+00:00  2018      1    6    Sunday  \n",
       "3  2018-01-05 21:07:00+00:00  2018      1   20    Friday  \n",
       "4  2018-01-06 23:12:00+00:00  2018      1   21  Saturday  \n",
       "\n",
       "[5 rows x 40 columns]"
      ]
     },
     "execution_count": 27,
     "metadata": {},
     "output_type": "execute_result"
    }
   ],
   "source": [
    "crimes_df = pd.read_csv(\"../data/crime_incidents_cleaned_with_time.csv\")\n",
    "crimes_df.head()"
   ]
  },
  {
   "cell_type": "code",
   "execution_count": 28,
   "id": "047ddef3-6294-4295-ad4a-f0a1d6ba23bf",
   "metadata": {},
   "outputs": [],
   "source": [
    "#ZipCode \n",
    "calls_df.rename(columns={'ZipCode': 'ZipCode'}, inplace=True)  "
   ]
  },
  {
   "cell_type": "code",
   "execution_count": 29,
   "id": "a6d0a1dd-2c61-482e-805f-14ff9c11fdd8",
   "metadata": {},
   "outputs": [],
   "source": [
    "crimes_df.rename(columns={'ZIP_Code': 'ZipCode'}, inplace=True)"
   ]
  },
  {
   "cell_type": "code",
   "execution_count": 30,
   "id": "0b3c0e54-5630-4287-a799-9604f25eb214",
   "metadata": {},
   "outputs": [
    {
     "name": "stdout",
     "output_type": "stream",
     "text": [
      "['X', 'Y', 'OBJECTID', 'Primary_Key', 'Incident_Number', 'Report_Type', 'Report_Type_Description', 'Incident_Status_Code', 'Incident_Status_Description', 'Investigation_Status', 'Incident_Location', 'Latitude', 'Longitude', 'RPA', 'Zone', 'Location_Code', 'Location_Description', 'Offense_Number', 'Offense_NIBRS', 'Offense_Description', 'Weapon_Description', 'Victim_Number', 'Domestic_Related', 'Victim_Type', 'Victim_Description', 'Victim_Gender', 'Victim_Race', 'Victim_Ethnicity', 'Victim_County_Resident', 'Mapped_Location', 'POINT_X', 'POINT_Y', 'ZipCode', 'Weapon_Primary', 'Incident_Occurred', 'Incident_Reported', 'Year', 'Month', 'Hour', 'Weekday']\n"
     ]
    }
   ],
   "source": [
    "print(crimes_df.columns.tolist())\n"
   ]
  },
  {
   "cell_type": "code",
   "execution_count": 31,
   "id": "bbcffff1-522c-47be-87c6-1189dd3e5cd7",
   "metadata": {},
   "outputs": [],
   "source": [
    "#datetime \n",
    "calls_df['Call_Received'] = pd.to_datetime(calls_df['Call_Received'], errors='coerce')"
   ]
  },
  {
   "cell_type": "code",
   "execution_count": 32,
   "id": "434c08a9-a6e8-42dd-ad5d-540ec45cb2f8",
   "metadata": {},
   "outputs": [],
   "source": [
    "crimes_df['Incident_Occurred'] = pd.to_datetime(crimes_df['Incident_Occurred'], errors='coerce')"
   ]
  },
  {
   "cell_type": "code",
   "execution_count": 33,
   "id": "c1b6ac94-236b-4548-bfc0-ea47519604a5",
   "metadata": {},
   "outputs": [],
   "source": [
    "calls_df['Year'] = calls_df['Call_Received'].dt.year"
   ]
  },
  {
   "cell_type": "code",
   "execution_count": 34,
   "id": "1bdb0b93-6a3f-4bbf-a397-6111788c8dc8",
   "metadata": {},
   "outputs": [],
   "source": [
    "crimes_df['Year'] = crimes_df['Incident_Occurred'].dt.year"
   ]
  },
  {
   "cell_type": "code",
   "execution_count": 35,
   "id": "a27dc128-b829-4b45-aeec-29cc126a3de6",
   "metadata": {},
   "outputs": [
    {
     "name": "stdout",
     "output_type": "stream",
     "text": [
      "['OBJECTID', 'Event_Number', 'Complaint_Number', 'Tencode', 'Tencode_Description', 'Tencode_Suffix', 'Tencode_Suffix_Description', 'Disposition_Code', 'Disposition_Description', 'Block', 'Street_name', 'Unit_Dispatched', 'Shift', 'Sector', 'ZONE_', 'Latitude', 'Longitude', 'RPA', 'Call_Received', 'x', 'y', 'Year', 'Month', 'Hour', 'Weekday', 'geometry', 'index_right', 'ZipCode']\n"
     ]
    }
   ],
   "source": [
    "print(calls_df.columns.tolist())\n"
   ]
  },
  {
   "cell_type": "code",
   "execution_count": 36,
   "id": "986007c5-c9f0-4602-a49b-920ed37fd389",
   "metadata": {},
   "outputs": [],
   "source": [
    "crimes_df['ZipCode'] = crimes_df['ZipCode'].astype(str)"
   ]
  },
  {
   "cell_type": "code",
   "execution_count": 37,
   "id": "6d0b960f-6527-40e6-b6d8-679a6e9aeb6f",
   "metadata": {},
   "outputs": [
    {
     "name": "stdout",
     "output_type": "stream",
     "text": [
      "['OBJECTID', 'Event_Number', 'Complaint_Number', 'Tencode', 'Tencode_Description', 'Tencode_Suffix', 'Tencode_Suffix_Description', 'Disposition_Code', 'Disposition_Description', 'Block', 'Street_name', 'Unit_Dispatched', 'Shift', 'Sector', 'ZONE_', 'Latitude', 'Longitude', 'RPA', 'Call_Received', 'x', 'y', 'Year', 'geometry', 'index_right', 'ZipCode']\n"
     ]
    }
   ],
   "source": [
    "print(calls_with_zip.columns.tolist())"
   ]
  },
  {
   "cell_type": "code",
   "execution_count": 38,
   "id": "3f8fd015-f855-4067-9f03-810f85f4ad1d",
   "metadata": {},
   "outputs": [],
   "source": [
    "calls_grouped = calls_with_zip.groupby(['ZipCode', 'Year']).size().reset_index(name='Total_Calls')"
   ]
  },
  {
   "cell_type": "code",
   "execution_count": 39,
   "id": "01fbf49a-e4d6-4fbb-95fe-90a1845e93a7",
   "metadata": {},
   "outputs": [
    {
     "data": {
      "text/html": [
       "<div>\n",
       "<style scoped>\n",
       "    .dataframe tbody tr th:only-of-type {\n",
       "        vertical-align: middle;\n",
       "    }\n",
       "\n",
       "    .dataframe tbody tr th {\n",
       "        vertical-align: top;\n",
       "    }\n",
       "\n",
       "    .dataframe thead th {\n",
       "        text-align: right;\n",
       "    }\n",
       "</style>\n",
       "<table border=\"1\" class=\"dataframe\">\n",
       "  <thead>\n",
       "    <tr style=\"text-align: right;\">\n",
       "      <th></th>\n",
       "      <th>ZipCode</th>\n",
       "      <th>Year</th>\n",
       "      <th>Total_Calls</th>\n",
       "    </tr>\n",
       "  </thead>\n",
       "  <tbody>\n",
       "    <tr>\n",
       "      <th>0</th>\n",
       "      <td>37013</td>\n",
       "      <td>2018</td>\n",
       "      <td>11183</td>\n",
       "    </tr>\n",
       "    <tr>\n",
       "      <th>1</th>\n",
       "      <td>37013</td>\n",
       "      <td>2019</td>\n",
       "      <td>10755</td>\n",
       "    </tr>\n",
       "    <tr>\n",
       "      <th>2</th>\n",
       "      <td>37013</td>\n",
       "      <td>2020</td>\n",
       "      <td>9670</td>\n",
       "    </tr>\n",
       "    <tr>\n",
       "      <th>3</th>\n",
       "      <td>37013</td>\n",
       "      <td>2021</td>\n",
       "      <td>6701</td>\n",
       "    </tr>\n",
       "    <tr>\n",
       "      <th>4</th>\n",
       "      <td>37015</td>\n",
       "      <td>2018</td>\n",
       "      <td>16</td>\n",
       "    </tr>\n",
       "  </tbody>\n",
       "</table>\n",
       "</div>"
      ],
      "text/plain": [
       "  ZipCode  Year  Total_Calls\n",
       "0   37013  2018        11183\n",
       "1   37013  2019        10755\n",
       "2   37013  2020         9670\n",
       "3   37013  2021         6701\n",
       "4   37015  2018           16"
      ]
     },
     "execution_count": 39,
     "metadata": {},
     "output_type": "execute_result"
    }
   ],
   "source": [
    "#ZipCode & Year\n",
    "calls_grouped = calls_with_zip.groupby(['ZipCode', 'Year']).size().reset_index(name='Total_Calls')\n",
    "calls_grouped.head()"
   ]
  },
  {
   "cell_type": "code",
   "execution_count": 40,
   "id": "ee744ac1-f081-4342-be0e-5e9a7ff1d624",
   "metadata": {},
   "outputs": [
    {
     "data": {
      "text/html": [
       "<div>\n",
       "<style scoped>\n",
       "    .dataframe tbody tr th:only-of-type {\n",
       "        vertical-align: middle;\n",
       "    }\n",
       "\n",
       "    .dataframe tbody tr th {\n",
       "        vertical-align: top;\n",
       "    }\n",
       "\n",
       "    .dataframe thead th {\n",
       "        text-align: right;\n",
       "    }\n",
       "</style>\n",
       "<table border=\"1\" class=\"dataframe\">\n",
       "  <thead>\n",
       "    <tr style=\"text-align: right;\">\n",
       "      <th></th>\n",
       "      <th>ZipCode</th>\n",
       "      <th>Year</th>\n",
       "      <th>Total_Crimes</th>\n",
       "    </tr>\n",
       "  </thead>\n",
       "  <tbody>\n",
       "    <tr>\n",
       "      <th>0</th>\n",
       "      <td>0.0</td>\n",
       "      <td>2023</td>\n",
       "      <td>1</td>\n",
       "    </tr>\n",
       "    <tr>\n",
       "      <th>1</th>\n",
       "      <td>15213.0</td>\n",
       "      <td>2022</td>\n",
       "      <td>1</td>\n",
       "    </tr>\n",
       "    <tr>\n",
       "      <th>2</th>\n",
       "      <td>17202</td>\n",
       "      <td>2023</td>\n",
       "      <td>1</td>\n",
       "    </tr>\n",
       "    <tr>\n",
       "      <th>3</th>\n",
       "      <td>19082.0</td>\n",
       "      <td>2023</td>\n",
       "      <td>1</td>\n",
       "    </tr>\n",
       "    <tr>\n",
       "      <th>4</th>\n",
       "      <td>19153.0</td>\n",
       "      <td>2022</td>\n",
       "      <td>1</td>\n",
       "    </tr>\n",
       "  </tbody>\n",
       "</table>\n",
       "</div>"
      ],
      "text/plain": [
       "   ZipCode  Year  Total_Crimes\n",
       "0      0.0  2023             1\n",
       "1  15213.0  2022             1\n",
       "2    17202  2023             1\n",
       "3  19082.0  2023             1\n",
       "4  19153.0  2022             1"
      ]
     },
     "execution_count": 40,
     "metadata": {},
     "output_type": "execute_result"
    }
   ],
   "source": [
    "# yearly per ZipCode\n",
    "crimes_grouped = crimes_df.groupby(['ZipCode', 'Year']).size().reset_index(name='Total_Crimes')\n",
    "crimes_grouped.head()"
   ]
  },
  {
   "cell_type": "code",
   "execution_count": 41,
   "id": "2f746f82-4205-4687-a803-1e1ae8d66578",
   "metadata": {},
   "outputs": [
    {
     "data": {
      "text/html": [
       "<div>\n",
       "<style scoped>\n",
       "    .dataframe tbody tr th:only-of-type {\n",
       "        vertical-align: middle;\n",
       "    }\n",
       "\n",
       "    .dataframe tbody tr th {\n",
       "        vertical-align: top;\n",
       "    }\n",
       "\n",
       "    .dataframe thead th {\n",
       "        text-align: right;\n",
       "    }\n",
       "</style>\n",
       "<table border=\"1\" class=\"dataframe\">\n",
       "  <thead>\n",
       "    <tr style=\"text-align: right;\">\n",
       "      <th></th>\n",
       "      <th>ZipCode</th>\n",
       "      <th>Year</th>\n",
       "      <th>Total_Calls</th>\n",
       "      <th>Total_Crimes</th>\n",
       "    </tr>\n",
       "  </thead>\n",
       "  <tbody>\n",
       "    <tr>\n",
       "      <th>0</th>\n",
       "      <td>37013</td>\n",
       "      <td>2020</td>\n",
       "      <td>9670</td>\n",
       "      <td>1</td>\n",
       "    </tr>\n",
       "    <tr>\n",
       "      <th>1</th>\n",
       "      <td>37138</td>\n",
       "      <td>2018</td>\n",
       "      <td>2409</td>\n",
       "      <td>1</td>\n",
       "    </tr>\n",
       "    <tr>\n",
       "      <th>2</th>\n",
       "      <td>37201</td>\n",
       "      <td>2020</td>\n",
       "      <td>5083</td>\n",
       "      <td>1</td>\n",
       "    </tr>\n",
       "    <tr>\n",
       "      <th>3</th>\n",
       "      <td>37205</td>\n",
       "      <td>2021</td>\n",
       "      <td>713</td>\n",
       "      <td>1</td>\n",
       "    </tr>\n",
       "    <tr>\n",
       "      <th>4</th>\n",
       "      <td>37208</td>\n",
       "      <td>2019</td>\n",
       "      <td>3029</td>\n",
       "      <td>1</td>\n",
       "    </tr>\n",
       "    <tr>\n",
       "      <th>5</th>\n",
       "      <td>37211</td>\n",
       "      <td>2019</td>\n",
       "      <td>15480</td>\n",
       "      <td>2</td>\n",
       "    </tr>\n",
       "    <tr>\n",
       "      <th>6</th>\n",
       "      <td>37215</td>\n",
       "      <td>2019</td>\n",
       "      <td>1655</td>\n",
       "      <td>1</td>\n",
       "    </tr>\n",
       "    <tr>\n",
       "      <th>7</th>\n",
       "      <td>37215</td>\n",
       "      <td>2020</td>\n",
       "      <td>1491</td>\n",
       "      <td>1</td>\n",
       "    </tr>\n",
       "  </tbody>\n",
       "</table>\n",
       "</div>"
      ],
      "text/plain": [
       "  ZipCode  Year  Total_Calls  Total_Crimes\n",
       "0   37013  2020         9670             1\n",
       "1   37138  2018         2409             1\n",
       "2   37201  2020         5083             1\n",
       "3   37205  2021          713             1\n",
       "4   37208  2019         3029             1\n",
       "5   37211  2019        15480             2\n",
       "6   37215  2019         1655             1\n",
       "7   37215  2020         1491             1"
      ]
     },
     "execution_count": 41,
     "metadata": {},
     "output_type": "execute_result"
    }
   ],
   "source": [
    "# combined\n",
    "combined = pd.merge(calls_grouped, crimes_grouped, on=['ZipCode', 'Year'], how='inner')\n",
    "combined.head(20)"
   ]
  },
  {
   "cell_type": "code",
   "execution_count": 42,
   "id": "9054bfe0-2dc8-4e0a-8222-7155b3605acd",
   "metadata": {},
   "outputs": [],
   "source": [
    "import numpy as np\n",
    "\n",
    "# 1. turns 0  if NaN\n",
    "combined['Crime_to_Call_Ratio'] = combined['Total_Crimes'] / combined['Total_Calls'].replace(0, np.nan)"
   ]
  },
  {
   "cell_type": "code",
   "execution_count": 43,
   "id": "c4dd98ab-30c7-4474-a2be-dee285151454",
   "metadata": {},
   "outputs": [],
   "source": [
    "# 2. clean NaN\n",
    "combined = combined.dropna(subset=['Crime_to_Call_Ratio'])"
   ]
  },
  {
   "cell_type": "code",
   "execution_count": 44,
   "id": "59a4e1a7-6c9f-45c7-b66b-0623ea4817d8",
   "metadata": {},
   "outputs": [],
   "source": [
    "# 3. only 2021 \n",
    "data_2021 = combined[combined['Year'] == 2021]"
   ]
  },
  {
   "cell_type": "code",
   "execution_count": 45,
   "id": "9c95aec3-cc0f-4413-9c89-86e824aacc74",
   "metadata": {},
   "outputs": [],
   "source": [
    "# 4.crime-to-call top 10 ZIP Code\n",
    "top_ratios = data_2021.sort_values(by='Crime_to_Call_Ratio', ascending=False).head(10)"
   ]
  },
  {
   "cell_type": "code",
   "execution_count": 46,
   "id": "1bb3328d-266a-430d-b933-734e3038f51f",
   "metadata": {},
   "outputs": [
    {
     "name": "stdout",
     "output_type": "stream",
     "text": [
      "  ZipCode  Year  Total_Calls  Total_Crimes  Crime_to_Call_Ratio\n",
      "3   37205  2021          713             1             0.001403\n"
     ]
    }
   ],
   "source": [
    "# 5. result\n",
    "print(top_ratios[['ZipCode', 'Year', 'Total_Calls', 'Total_Crimes', 'Crime_to_Call_Ratio']])\n"
   ]
  },
  {
   "cell_type": "markdown",
   "id": "16b831cb-644f-423a-9480-d7c2c6e8e9d0",
   "metadata": {},
   "source": [
    "## 1 Which ZIP codes have experienced the most significant increase in call volumes and incident reports from 2018 to 2021?"
   ]
  },
  {
   "cell_type": "code",
   "execution_count": 47,
   "id": "27b4c4f4-dfb9-41b7-b3cc-4d3288ca6a71",
   "metadata": {},
   "outputs": [],
   "source": [
    "calls_df = pd.read_csv(\"../data/combined_calls_data.csv\", low_memory=False)"
   ]
  },
  {
   "cell_type": "code",
   "execution_count": 48,
   "id": "3ce01eb6-3e5c-452a-a43d-6308f50a5f9d",
   "metadata": {},
   "outputs": [
    {
     "name": "stdout",
     "output_type": "stream",
     "text": [
      "0    2018-02-13 14:03:46\n",
      "1    2018-07-11 07:07:27\n",
      "2    2018-11-08 17:26:30\n",
      "3    2018-09-10 12:52:48\n",
      "4    2018-12-19 01:46:17\n",
      "5    2018-02-28 15:13:36\n",
      "6    2018-05-13 23:58:41\n",
      "7    2018-05-23 02:19:25\n",
      "8    2018-05-26 08:03:49\n",
      "9    2018-05-26 23:00:25\n",
      "Name: Call_Received, dtype: object\n"
     ]
    }
   ],
   "source": [
    "print(calls_df['Call_Received'].head(10))"
   ]
  },
  {
   "cell_type": "code",
   "execution_count": 49,
   "id": "861d0a74-19ee-4676-b078-11f6e37dafab",
   "metadata": {},
   "outputs": [],
   "source": [
    "calls_df['Call_Received'] = pd.to_datetime(calls_df['Call_Received'], errors='coerce')\n"
   ]
  },
  {
   "cell_type": "code",
   "execution_count": 50,
   "id": "35a49185-dce6-4e60-9b24-06d8199d68aa",
   "metadata": {},
   "outputs": [
    {
     "name": "stdout",
     "output_type": "stream",
     "text": [
      "0   2018-02-13 14:03:46\n",
      "1   2018-07-11 07:07:27\n",
      "2   2018-11-08 17:26:30\n",
      "Name: Call_Received, dtype: datetime64[ns]\n",
      "0\n"
     ]
    }
   ],
   "source": [
    "print(calls_df['Call_Received'].head(3))\n",
    "print(calls_df['Call_Received'].isna().sum())\n"
   ]
  },
  {
   "cell_type": "code",
   "execution_count": 51,
   "id": "55906ca9-e0da-4a5c-bbf4-20a043d8eaa1",
   "metadata": {},
   "outputs": [],
   "source": [
    "calls_df = calls_df[calls_df['Call_Received'].notna()]"
   ]
  },
  {
   "cell_type": "code",
   "execution_count": 52,
   "id": "9cffc1bc-6aa4-40d9-a66d-7b3b297e83a8",
   "metadata": {},
   "outputs": [],
   "source": [
    "calls_df['Year'] = calls_df['Call_Received'].dt.year.astype(int)"
   ]
  },
  {
   "cell_type": "code",
   "execution_count": 53,
   "id": "175ad750-052b-45af-8a29-50f8c1bddcbf",
   "metadata": {},
   "outputs": [
    {
     "name": "stdout",
     "output_type": "stream",
     "text": [
      "Year\n",
      "2018    999925\n",
      "2019    828233\n",
      "2020    691728\n",
      "2021    530420\n",
      "Name: count, dtype: int64\n"
     ]
    }
   ],
   "source": [
    "print(calls_df['Year'].value_counts().sort_index())"
   ]
  },
  {
   "cell_type": "code",
   "execution_count": 54,
   "id": "44db803d-ce97-4b90-810c-e92c6ff56f4c",
   "metadata": {},
   "outputs": [
    {
     "data": {
      "text/html": [
       "<div>\n",
       "<style scoped>\n",
       "    .dataframe tbody tr th:only-of-type {\n",
       "        vertical-align: middle;\n",
       "    }\n",
       "\n",
       "    .dataframe tbody tr th {\n",
       "        vertical-align: top;\n",
       "    }\n",
       "\n",
       "    .dataframe thead th {\n",
       "        text-align: right;\n",
       "    }\n",
       "</style>\n",
       "<table border=\"1\" class=\"dataframe\">\n",
       "  <thead>\n",
       "    <tr style=\"text-align: right;\">\n",
       "      <th></th>\n",
       "      <th>OBJECTID</th>\n",
       "      <th>Event_Number</th>\n",
       "      <th>Complaint_Number</th>\n",
       "      <th>Tencode</th>\n",
       "      <th>Tencode_Description</th>\n",
       "      <th>Tencode_Suffix</th>\n",
       "      <th>Tencode_Suffix_Description</th>\n",
       "      <th>Disposition_Code</th>\n",
       "      <th>Disposition_Description</th>\n",
       "      <th>Block</th>\n",
       "      <th>...</th>\n",
       "      <th>Shift</th>\n",
       "      <th>Sector</th>\n",
       "      <th>ZONE_</th>\n",
       "      <th>Latitude</th>\n",
       "      <th>Longitude</th>\n",
       "      <th>RPA</th>\n",
       "      <th>Call_Received</th>\n",
       "      <th>x</th>\n",
       "      <th>y</th>\n",
       "      <th>Year</th>\n",
       "    </tr>\n",
       "  </thead>\n",
       "  <tbody>\n",
       "    <tr>\n",
       "      <th>0</th>\n",
       "      <td>1</td>\n",
       "      <td>PD201800160242</td>\n",
       "      <td>NaN</td>\n",
       "      <td>92</td>\n",
       "      <td>FIXED POST</td>\n",
       "      <td>P</td>\n",
       "      <td>PROGRESS</td>\n",
       "      <td>9T</td>\n",
       "      <td>NaN</td>\n",
       "      <td>NaN</td>\n",
       "      <td>...</td>\n",
       "      <td>A</td>\n",
       "      <td>325</td>\n",
       "      <td>825</td>\n",
       "      <td>36.037</td>\n",
       "      <td>-86.779</td>\n",
       "      <td>8623.0</td>\n",
       "      <td>2018-02-13 14:03:46</td>\n",
       "      <td>-86.779</td>\n",
       "      <td>36.037</td>\n",
       "      <td>2018</td>\n",
       "    </tr>\n",
       "    <tr>\n",
       "      <th>1</th>\n",
       "      <td>2</td>\n",
       "      <td>PD201800687980</td>\n",
       "      <td>NaN</td>\n",
       "      <td>40</td>\n",
       "      <td>SUSPICIOUS PERSON</td>\n",
       "      <td>PV</td>\n",
       "      <td>NaN</td>\n",
       "      <td>4</td>\n",
       "      <td>ASSISTED CITIZEN</td>\n",
       "      <td>NaN</td>\n",
       "      <td>...</td>\n",
       "      <td>C</td>\n",
       "      <td>325</td>\n",
       "      <td>825</td>\n",
       "      <td>36.037</td>\n",
       "      <td>-86.779</td>\n",
       "      <td>8623.0</td>\n",
       "      <td>2018-07-11 07:07:27</td>\n",
       "      <td>-86.779</td>\n",
       "      <td>36.037</td>\n",
       "      <td>2018</td>\n",
       "    </tr>\n",
       "    <tr>\n",
       "      <th>2</th>\n",
       "      <td>3</td>\n",
       "      <td>PD201801086308</td>\n",
       "      <td>NaN</td>\n",
       "      <td>43</td>\n",
       "      <td>WANT OFFICER FOR INVESTIGATION / ASSISTA</td>\n",
       "      <td>P</td>\n",
       "      <td>PROGRESS</td>\n",
       "      <td>5</td>\n",
       "      <td>GONE ON ARRIVAL</td>\n",
       "      <td>NaN</td>\n",
       "      <td>...</td>\n",
       "      <td>A</td>\n",
       "      <td>325</td>\n",
       "      <td>825</td>\n",
       "      <td>36.037</td>\n",
       "      <td>-86.779</td>\n",
       "      <td>8623.0</td>\n",
       "      <td>2018-11-08 17:26:30</td>\n",
       "      <td>-86.779</td>\n",
       "      <td>36.037</td>\n",
       "      <td>2018</td>\n",
       "    </tr>\n",
       "    <tr>\n",
       "      <th>3</th>\n",
       "      <td>4</td>\n",
       "      <td>PD201800894386</td>\n",
       "      <td>NaN</td>\n",
       "      <td>40</td>\n",
       "      <td>SUSPICIOUS PERSON</td>\n",
       "      <td>P</td>\n",
       "      <td>PROGRESS</td>\n",
       "      <td>11</td>\n",
       "      <td>DISREGARD / SIGNAL 9</td>\n",
       "      <td>NaN</td>\n",
       "      <td>...</td>\n",
       "      <td>A</td>\n",
       "      <td>325</td>\n",
       "      <td>825</td>\n",
       "      <td>36.037</td>\n",
       "      <td>-86.779</td>\n",
       "      <td>8623.0</td>\n",
       "      <td>2018-09-10 12:52:48</td>\n",
       "      <td>-86.779</td>\n",
       "      <td>36.037</td>\n",
       "      <td>2018</td>\n",
       "    </tr>\n",
       "    <tr>\n",
       "      <th>4</th>\n",
       "      <td>5</td>\n",
       "      <td>PD201801211177</td>\n",
       "      <td>NaN</td>\n",
       "      <td>40</td>\n",
       "      <td>SUSPICIOUS PERSON</td>\n",
       "      <td>PV</td>\n",
       "      <td>NaN</td>\n",
       "      <td>5</td>\n",
       "      <td>GONE ON ARRIVAL</td>\n",
       "      <td>NaN</td>\n",
       "      <td>...</td>\n",
       "      <td>B</td>\n",
       "      <td>325</td>\n",
       "      <td>825</td>\n",
       "      <td>36.037</td>\n",
       "      <td>-86.779</td>\n",
       "      <td>8623.0</td>\n",
       "      <td>2018-12-19 01:46:17</td>\n",
       "      <td>-86.779</td>\n",
       "      <td>36.037</td>\n",
       "      <td>2018</td>\n",
       "    </tr>\n",
       "    <tr>\n",
       "      <th>...</th>\n",
       "      <td>...</td>\n",
       "      <td>...</td>\n",
       "      <td>...</td>\n",
       "      <td>...</td>\n",
       "      <td>...</td>\n",
       "      <td>...</td>\n",
       "      <td>...</td>\n",
       "      <td>...</td>\n",
       "      <td>...</td>\n",
       "      <td>...</td>\n",
       "      <td>...</td>\n",
       "      <td>...</td>\n",
       "      <td>...</td>\n",
       "      <td>...</td>\n",
       "      <td>...</td>\n",
       "      <td>...</td>\n",
       "      <td>...</td>\n",
       "      <td>...</td>\n",
       "      <td>...</td>\n",
       "      <td>...</td>\n",
       "      <td>...</td>\n",
       "    </tr>\n",
       "    <tr>\n",
       "      <th>3050076</th>\n",
       "      <td>529998</td>\n",
       "      <td>PD202100790204</td>\n",
       "      <td>NaN</td>\n",
       "      <td>43</td>\n",
       "      <td>WANT OFFICER FOR INVESTIGATION / ASSISTA</td>\n",
       "      <td>R</td>\n",
       "      <td>REPORT</td>\n",
       "      <td>1</td>\n",
       "      <td>M.P.D. REPORT COMPLED</td>\n",
       "      <td>400.0</td>\n",
       "      <td>...</td>\n",
       "      <td>A</td>\n",
       "      <td>CENTRA</td>\n",
       "      <td>415</td>\n",
       "      <td>36.166</td>\n",
       "      <td>-86.779</td>\n",
       "      <td>4201.0</td>\n",
       "      <td>2021-12-22 14:59:25</td>\n",
       "      <td>-86.779</td>\n",
       "      <td>36.166</td>\n",
       "      <td>2021</td>\n",
       "    </tr>\n",
       "    <tr>\n",
       "      <th>3050077</th>\n",
       "      <td>529999</td>\n",
       "      <td>PD202100785541</td>\n",
       "      <td>NaN</td>\n",
       "      <td>43</td>\n",
       "      <td>WANT OFFICER FOR INVESTIGATION / ASSISTA</td>\n",
       "      <td>P</td>\n",
       "      <td>PROGRESS</td>\n",
       "      <td>4</td>\n",
       "      <td>ASSISTED CITIZEN</td>\n",
       "      <td>400.0</td>\n",
       "      <td>...</td>\n",
       "      <td>B</td>\n",
       "      <td>CENTRA</td>\n",
       "      <td>415</td>\n",
       "      <td>36.166</td>\n",
       "      <td>-86.779</td>\n",
       "      <td>4201.0</td>\n",
       "      <td>2021-12-20 03:37:13</td>\n",
       "      <td>-86.779</td>\n",
       "      <td>36.166</td>\n",
       "      <td>2021</td>\n",
       "    </tr>\n",
       "    <tr>\n",
       "      <th>3050078</th>\n",
       "      <td>530000</td>\n",
       "      <td>PD202100794548</td>\n",
       "      <td>NaN</td>\n",
       "      <td>15</td>\n",
       "      <td>COMMUNITY POLICING ACTIVITY</td>\n",
       "      <td>P</td>\n",
       "      <td>PROGRESS</td>\n",
       "      <td>15</td>\n",
       "      <td>COMMUNITY POLICING</td>\n",
       "      <td>400.0</td>\n",
       "      <td>...</td>\n",
       "      <td>B</td>\n",
       "      <td>CENTRA</td>\n",
       "      <td>415</td>\n",
       "      <td>36.166</td>\n",
       "      <td>-86.779</td>\n",
       "      <td>4201.0</td>\n",
       "      <td>2021-12-24 21:34:14</td>\n",
       "      <td>-86.779</td>\n",
       "      <td>36.166</td>\n",
       "      <td>2021</td>\n",
       "    </tr>\n",
       "    <tr>\n",
       "      <th>3050168</th>\n",
       "      <td>530091</td>\n",
       "      <td>PD202100733839</td>\n",
       "      <td>NaN</td>\n",
       "      <td>53</td>\n",
       "      <td>HOLDUP / ROBBERY</td>\n",
       "      <td>A</td>\n",
       "      <td>ALARM</td>\n",
       "      <td>13</td>\n",
       "      <td>FALSE CALL</td>\n",
       "      <td>NaN</td>\n",
       "      <td>...</td>\n",
       "      <td>A</td>\n",
       "      <td>W</td>\n",
       "      <td>111</td>\n",
       "      <td>36.152</td>\n",
       "      <td>-86.850</td>\n",
       "      <td>5121.0</td>\n",
       "      <td>2021-11-24 12:51:48</td>\n",
       "      <td>-86.850</td>\n",
       "      <td>36.152</td>\n",
       "      <td>2021</td>\n",
       "    </tr>\n",
       "    <tr>\n",
       "      <th>3050274</th>\n",
       "      <td>530197</td>\n",
       "      <td>PD202100734309</td>\n",
       "      <td>NaN</td>\n",
       "      <td>43</td>\n",
       "      <td>WANT OFFICER FOR INVESTIGATION / ASSISTA</td>\n",
       "      <td>P</td>\n",
       "      <td>PROGRESS</td>\n",
       "      <td>4</td>\n",
       "      <td>ASSISTED CITIZEN</td>\n",
       "      <td>NaN</td>\n",
       "      <td>...</td>\n",
       "      <td>A</td>\n",
       "      <td>N</td>\n",
       "      <td>621</td>\n",
       "      <td>36.209</td>\n",
       "      <td>-86.778</td>\n",
       "      <td>3019.0</td>\n",
       "      <td>2021-11-24 17:33:32</td>\n",
       "      <td>-86.778</td>\n",
       "      <td>36.209</td>\n",
       "      <td>2021</td>\n",
       "    </tr>\n",
       "  </tbody>\n",
       "</table>\n",
       "<p>467116 rows × 22 columns</p>\n",
       "</div>"
      ],
      "text/plain": [
       "         OBJECTID    Event_Number  Complaint_Number  Tencode  \\\n",
       "0               1  PD201800160242               NaN       92   \n",
       "1               2  PD201800687980               NaN       40   \n",
       "2               3  PD201801086308               NaN       43   \n",
       "3               4  PD201800894386               NaN       40   \n",
       "4               5  PD201801211177               NaN       40   \n",
       "...           ...             ...               ...      ...   \n",
       "3050076    529998  PD202100790204               NaN       43   \n",
       "3050077    529999  PD202100785541               NaN       43   \n",
       "3050078    530000  PD202100794548               NaN       15   \n",
       "3050168    530091  PD202100733839               NaN       53   \n",
       "3050274    530197  PD202100734309               NaN       43   \n",
       "\n",
       "                              Tencode_Description Tencode_Suffix  \\\n",
       "0                                      FIXED POST              P   \n",
       "1                               SUSPICIOUS PERSON             PV   \n",
       "2        WANT OFFICER FOR INVESTIGATION / ASSISTA              P   \n",
       "3                               SUSPICIOUS PERSON              P   \n",
       "4                               SUSPICIOUS PERSON             PV   \n",
       "...                                           ...            ...   \n",
       "3050076  WANT OFFICER FOR INVESTIGATION / ASSISTA              R   \n",
       "3050077  WANT OFFICER FOR INVESTIGATION / ASSISTA              P   \n",
       "3050078               COMMUNITY POLICING ACTIVITY              P   \n",
       "3050168                          HOLDUP / ROBBERY              A   \n",
       "3050274  WANT OFFICER FOR INVESTIGATION / ASSISTA              P   \n",
       "\n",
       "        Tencode_Suffix_Description Disposition_Code Disposition_Description  \\\n",
       "0                         PROGRESS               9T                     NaN   \n",
       "1                              NaN                4        ASSISTED CITIZEN   \n",
       "2                         PROGRESS                5         GONE ON ARRIVAL   \n",
       "3                         PROGRESS               11    DISREGARD / SIGNAL 9   \n",
       "4                              NaN                5         GONE ON ARRIVAL   \n",
       "...                            ...              ...                     ...   \n",
       "3050076                     REPORT                1   M.P.D. REPORT COMPLED   \n",
       "3050077                   PROGRESS                4        ASSISTED CITIZEN   \n",
       "3050078                   PROGRESS               15      COMMUNITY POLICING   \n",
       "3050168                      ALARM               13              FALSE CALL   \n",
       "3050274                   PROGRESS                4        ASSISTED CITIZEN   \n",
       "\n",
       "         Block  ... Shift  Sector ZONE_ Latitude Longitude     RPA  \\\n",
       "0          NaN  ...     A     325   825   36.037   -86.779  8623.0   \n",
       "1          NaN  ...     C     325   825   36.037   -86.779  8623.0   \n",
       "2          NaN  ...     A     325   825   36.037   -86.779  8623.0   \n",
       "3          NaN  ...     A     325   825   36.037   -86.779  8623.0   \n",
       "4          NaN  ...     B     325   825   36.037   -86.779  8623.0   \n",
       "...        ...  ...   ...     ...   ...      ...       ...     ...   \n",
       "3050076  400.0  ...     A  CENTRA   415   36.166   -86.779  4201.0   \n",
       "3050077  400.0  ...     B  CENTRA   415   36.166   -86.779  4201.0   \n",
       "3050078  400.0  ...     B  CENTRA   415   36.166   -86.779  4201.0   \n",
       "3050168    NaN  ...     A       W   111   36.152   -86.850  5121.0   \n",
       "3050274    NaN  ...     A       N   621   36.209   -86.778  3019.0   \n",
       "\n",
       "              Call_Received       x       y  Year  \n",
       "0       2018-02-13 14:03:46 -86.779  36.037  2018  \n",
       "1       2018-07-11 07:07:27 -86.779  36.037  2018  \n",
       "2       2018-11-08 17:26:30 -86.779  36.037  2018  \n",
       "3       2018-09-10 12:52:48 -86.779  36.037  2018  \n",
       "4       2018-12-19 01:46:17 -86.779  36.037  2018  \n",
       "...                     ...     ...     ...   ...  \n",
       "3050076 2021-12-22 14:59:25 -86.779  36.166  2021  \n",
       "3050077 2021-12-20 03:37:13 -86.779  36.166  2021  \n",
       "3050078 2021-12-24 21:34:14 -86.779  36.166  2021  \n",
       "3050168 2021-11-24 12:51:48 -86.850  36.152  2021  \n",
       "3050274 2021-11-24 17:33:32 -86.778  36.209  2021  \n",
       "\n",
       "[467116 rows x 22 columns]"
      ]
     },
     "execution_count": 54,
     "metadata": {},
     "output_type": "execute_result"
    }
   ],
   "source": [
    "calls_df_clean = calls_df[\n",
    "    calls_df[\"Year\"].isin([2018, 2019, 2020, 2021]) &\n",
    "    calls_df[\"Latitude\"].notna() &\n",
    "    calls_df[\"Longitude\"].notna()\n",
    "]\n",
    "calls_df_clean"
   ]
  },
  {
   "cell_type": "code",
   "execution_count": 55,
   "id": "0f1b44eb-623e-43ea-86ba-923240ade85d",
   "metadata": {},
   "outputs": [
    {
     "name": "stderr",
     "output_type": "stream",
     "text": [
      "C:\\Users\\jingl\\AppData\\Local\\Temp\\ipykernel_15744\\2417431008.py:5: SettingWithCopyWarning: \n",
      "A value is trying to be set on a copy of a slice from a DataFrame.\n",
      "Try using .loc[row_indexer,col_indexer] = value instead\n",
      "\n",
      "See the caveats in the documentation: https://pandas.pydata.org/pandas-docs/stable/user_guide/indexing.html#returning-a-view-versus-a-copy\n",
      "  calls_df_clean[\"geometry\"] = calls_df_clean.apply(lambda row: Point(row[\"Longitude\"], row[\"Latitude\"]), axis=1)\n"
     ]
    }
   ],
   "source": [
    "from shapely.geometry import Point\n",
    "import geopandas as gpd\n",
    "\n",
    "# create GeoDataFrame\n",
    "calls_df_clean[\"geometry\"] = calls_df_clean.apply(lambda row: Point(row[\"Longitude\"], row[\"Latitude\"]), axis=1)\n",
    "calls_gdf = gpd.GeoDataFrame(calls_df_clean, geometry=\"geometry\", crs=\"EPSG:4326\")"
   ]
  },
  {
   "cell_type": "code",
   "execution_count": 56,
   "id": "885a0830-5060-4f62-88b5-31e2ca7445bc",
   "metadata": {},
   "outputs": [],
   "source": [
    "zip_shapes = gpd.read_file(\"../data/nashville_zipcodes.geojson\")[[\"ZipCode\", \"geometry\"]]\n"
   ]
  },
  {
   "cell_type": "code",
   "execution_count": 57,
   "id": "b665b23e-d064-4fe3-97d9-8b27ebb0bdda",
   "metadata": {},
   "outputs": [],
   "source": [
    "calls_gdf = gpd.GeoDataFrame(calls_df_clean, geometry=\"geometry\", crs=\"EPSG:4326\")"
   ]
  },
  {
   "cell_type": "code",
   "execution_count": 58,
   "id": "21fa1311-63ea-41f0-9d3b-c8b5d75bf184",
   "metadata": {},
   "outputs": [],
   "source": [
    "calls_with_zip = gpd.sjoin(calls_gdf, zip_shapes, how=\"left\", predicate=\"within\")"
   ]
  },
  {
   "cell_type": "code",
   "execution_count": 59,
   "id": "0d04e3d8-f368-44a7-8593-a24c0b796eaa",
   "metadata": {},
   "outputs": [
    {
     "name": "stdout",
     "output_type": "stream",
     "text": [
      "['OBJECTID', 'Event_Number', 'Complaint_Number', 'Tencode', 'Tencode_Description', 'Tencode_Suffix', 'Tencode_Suffix_Description', 'Disposition_Code', 'Disposition_Description', 'Block', 'Street_name', 'Unit_Dispatched', 'Shift', 'Sector', 'ZONE_', 'Latitude', 'Longitude', 'RPA', 'Call_Received', 'x', 'y', 'Year', 'geometry']\n"
     ]
    }
   ],
   "source": [
    "print(calls_df_clean.columns.tolist())\n"
   ]
  },
  {
   "cell_type": "code",
   "execution_count": 60,
   "id": "e35878e1-d2ea-4016-97c2-d61f141b635b",
   "metadata": {},
   "outputs": [
    {
     "data": {
      "text/html": [
       "<div>\n",
       "<style scoped>\n",
       "    .dataframe tbody tr th:only-of-type {\n",
       "        vertical-align: middle;\n",
       "    }\n",
       "\n",
       "    .dataframe tbody tr th {\n",
       "        vertical-align: top;\n",
       "    }\n",
       "\n",
       "    .dataframe thead th {\n",
       "        text-align: right;\n",
       "    }\n",
       "</style>\n",
       "<table border=\"1\" class=\"dataframe\">\n",
       "  <thead>\n",
       "    <tr style=\"text-align: right;\">\n",
       "      <th></th>\n",
       "      <th>ZipCode</th>\n",
       "      <th>Year</th>\n",
       "      <th>Total_Calls</th>\n",
       "    </tr>\n",
       "  </thead>\n",
       "  <tbody>\n",
       "    <tr>\n",
       "      <th>0</th>\n",
       "      <td>37013</td>\n",
       "      <td>2018</td>\n",
       "      <td>11183</td>\n",
       "    </tr>\n",
       "    <tr>\n",
       "      <th>1</th>\n",
       "      <td>37013</td>\n",
       "      <td>2019</td>\n",
       "      <td>10755</td>\n",
       "    </tr>\n",
       "    <tr>\n",
       "      <th>2</th>\n",
       "      <td>37013</td>\n",
       "      <td>2020</td>\n",
       "      <td>9670</td>\n",
       "    </tr>\n",
       "    <tr>\n",
       "      <th>3</th>\n",
       "      <td>37013</td>\n",
       "      <td>2021</td>\n",
       "      <td>6701</td>\n",
       "    </tr>\n",
       "    <tr>\n",
       "      <th>4</th>\n",
       "      <td>37015</td>\n",
       "      <td>2018</td>\n",
       "      <td>16</td>\n",
       "    </tr>\n",
       "    <tr>\n",
       "      <th>...</th>\n",
       "      <td>...</td>\n",
       "      <td>...</td>\n",
       "      <td>...</td>\n",
       "    </tr>\n",
       "    <tr>\n",
       "      <th>133</th>\n",
       "      <td>37228</td>\n",
       "      <td>2020</td>\n",
       "      <td>473</td>\n",
       "    </tr>\n",
       "    <tr>\n",
       "      <th>134</th>\n",
       "      <td>37228</td>\n",
       "      <td>2021</td>\n",
       "      <td>175</td>\n",
       "    </tr>\n",
       "    <tr>\n",
       "      <th>135</th>\n",
       "      <td>37232</td>\n",
       "      <td>2018</td>\n",
       "      <td>1</td>\n",
       "    </tr>\n",
       "    <tr>\n",
       "      <th>136</th>\n",
       "      <td>37232</td>\n",
       "      <td>2019</td>\n",
       "      <td>1</td>\n",
       "    </tr>\n",
       "    <tr>\n",
       "      <th>137</th>\n",
       "      <td>37232</td>\n",
       "      <td>2020</td>\n",
       "      <td>2</td>\n",
       "    </tr>\n",
       "  </tbody>\n",
       "</table>\n",
       "<p>138 rows × 3 columns</p>\n",
       "</div>"
      ],
      "text/plain": [
       "    ZipCode  Year  Total_Calls\n",
       "0     37013  2018        11183\n",
       "1     37013  2019        10755\n",
       "2     37013  2020         9670\n",
       "3     37013  2021         6701\n",
       "4     37015  2018           16\n",
       "..      ...   ...          ...\n",
       "133   37228  2020          473\n",
       "134   37228  2021          175\n",
       "135   37232  2018            1\n",
       "136   37232  2019            1\n",
       "137   37232  2020            2\n",
       "\n",
       "[138 rows x 3 columns]"
      ]
     },
     "execution_count": 60,
     "metadata": {},
     "output_type": "execute_result"
    }
   ],
   "source": [
    "calls_grouped = calls_with_zip.groupby([\"ZipCode\", \"Year\"]).size().reset_index(name=\"Total_Calls\")\n",
    "calls_grouped"
   ]
  },
  {
   "cell_type": "code",
   "execution_count": 61,
   "id": "55d278bf-01ce-4e58-8665-bc641c2a266b",
   "metadata": {},
   "outputs": [
    {
     "name": "stdout",
     "output_type": "stream",
     "text": [
      "['ZipCode', 'Year', 'Total_Calls']\n"
     ]
    }
   ],
   "source": [
    "print(calls_grouped.columns.tolist())"
   ]
  },
  {
   "cell_type": "code",
   "execution_count": 62,
   "id": "61fe6cd3-8b6f-4a62-8643-d62d78571a3d",
   "metadata": {},
   "outputs": [],
   "source": [
    "#  pivot\n",
    "calls_pivot = calls_grouped.pivot(index=\"ZipCode\", columns=\"Year\", values=\"Total_Calls\").fillna(0)"
   ]
  },
  {
   "cell_type": "code",
   "execution_count": 63,
   "id": "3650defd-c825-4565-96f3-68a63f6e0190",
   "metadata": {},
   "outputs": [],
   "source": [
    "# columns \n",
    "calls_pivot.columns = calls_pivot.columns.astype(int)\n"
   ]
  },
  {
   "cell_type": "code",
   "execution_count": 64,
   "id": "1a560b62-6348-4870-9ef1-790589fdb010",
   "metadata": {},
   "outputs": [
    {
     "data": {
      "text/html": [
       "<div>\n",
       "<style scoped>\n",
       "    .dataframe tbody tr th:only-of-type {\n",
       "        vertical-align: middle;\n",
       "    }\n",
       "\n",
       "    .dataframe tbody tr th {\n",
       "        vertical-align: top;\n",
       "    }\n",
       "\n",
       "    .dataframe thead th {\n",
       "        text-align: right;\n",
       "    }\n",
       "</style>\n",
       "<table border=\"1\" class=\"dataframe\">\n",
       "  <thead>\n",
       "    <tr style=\"text-align: right;\">\n",
       "      <th>Year</th>\n",
       "      <th>2018</th>\n",
       "      <th>2019</th>\n",
       "      <th>2020</th>\n",
       "      <th>2021</th>\n",
       "    </tr>\n",
       "    <tr>\n",
       "      <th>ZipCode</th>\n",
       "      <th></th>\n",
       "      <th></th>\n",
       "      <th></th>\n",
       "      <th></th>\n",
       "    </tr>\n",
       "  </thead>\n",
       "  <tbody>\n",
       "    <tr>\n",
       "      <th>37013</th>\n",
       "      <td>11183.0</td>\n",
       "      <td>10755.0</td>\n",
       "      <td>9670.0</td>\n",
       "      <td>6701.0</td>\n",
       "    </tr>\n",
       "    <tr>\n",
       "      <th>37015</th>\n",
       "      <td>16.0</td>\n",
       "      <td>15.0</td>\n",
       "      <td>12.0</td>\n",
       "      <td>3.0</td>\n",
       "    </tr>\n",
       "    <tr>\n",
       "      <th>37027</th>\n",
       "      <td>1676.0</td>\n",
       "      <td>1674.0</td>\n",
       "      <td>1418.0</td>\n",
       "      <td>916.0</td>\n",
       "    </tr>\n",
       "    <tr>\n",
       "      <th>37072</th>\n",
       "      <td>342.0</td>\n",
       "      <td>320.0</td>\n",
       "      <td>212.0</td>\n",
       "      <td>196.0</td>\n",
       "    </tr>\n",
       "    <tr>\n",
       "      <th>37076</th>\n",
       "      <td>13167.0</td>\n",
       "      <td>10731.0</td>\n",
       "      <td>10883.0</td>\n",
       "      <td>8910.0</td>\n",
       "    </tr>\n",
       "  </tbody>\n",
       "</table>\n",
       "</div>"
      ],
      "text/plain": [
       "Year        2018     2019     2020    2021\n",
       "ZipCode                                   \n",
       "37013    11183.0  10755.0   9670.0  6701.0\n",
       "37015       16.0     15.0     12.0     3.0\n",
       "37027     1676.0   1674.0   1418.0   916.0\n",
       "37072      342.0    320.0    212.0   196.0\n",
       "37076    13167.0  10731.0  10883.0  8910.0"
      ]
     },
     "execution_count": 64,
     "metadata": {},
     "output_type": "execute_result"
    }
   ],
   "source": [
    "calls_pivot.head()"
   ]
  },
  {
   "cell_type": "code",
   "execution_count": 66,
   "id": "687ba98c-eda1-4bba-821b-9ea6d74f730c",
   "metadata": {},
   "outputs": [],
   "source": [
    "import numpy as np\n",
    "# 2019 vs 2018\n",
    "calls_pivot[\"Growth_2019_vs_2018\"] = np.where(\n",
    "    calls_pivot[2018] != 0,\n",
    "    (calls_pivot[2019] - calls_pivot[2018]) / calls_pivot[2018],\n",
    "    np.nan\n",
    ")\n"
   ]
  },
  {
   "cell_type": "code",
   "execution_count": 67,
   "id": "b9085dd0-ee53-4718-95e9-227ab538b585",
   "metadata": {},
   "outputs": [],
   "source": [
    "# 2020 vs 2019\n",
    "calls_pivot[\"Growth_2020_vs_2019\"] = np.where(\n",
    "    calls_pivot[2019] != 0,\n",
    "    (calls_pivot[2020] - calls_pivot[2019]) / calls_pivot[2019],\n",
    "    np.nan\n",
    ")"
   ]
  },
  {
   "cell_type": "code",
   "execution_count": 68,
   "id": "664cc739-1d48-4362-b1bb-6caf6eaaafef",
   "metadata": {},
   "outputs": [],
   "source": [
    "# 2021 vs 2020\n",
    "calls_pivot[\"Growth_2021_vs_2020\"] = np.where(\n",
    "    calls_pivot[2020] != 0,\n",
    "    (calls_pivot[2021] - calls_pivot[2020]) / calls_pivot[2020],\n",
    "    np.nan\n",
    ")"
   ]
  },
  {
   "cell_type": "code",
   "execution_count": 69,
   "id": "39112a73-febf-44dd-9b68-bc250d215d27",
   "metadata": {},
   "outputs": [
    {
     "data": {
      "text/html": [
       "<div>\n",
       "<style scoped>\n",
       "    .dataframe tbody tr th:only-of-type {\n",
       "        vertical-align: middle;\n",
       "    }\n",
       "\n",
       "    .dataframe tbody tr th {\n",
       "        vertical-align: top;\n",
       "    }\n",
       "\n",
       "    .dataframe thead th {\n",
       "        text-align: right;\n",
       "    }\n",
       "</style>\n",
       "<table border=\"1\" class=\"dataframe\">\n",
       "  <thead>\n",
       "    <tr style=\"text-align: right;\">\n",
       "      <th>Year</th>\n",
       "      <th>2018</th>\n",
       "      <th>2019</th>\n",
       "      <th>2020</th>\n",
       "      <th>2021</th>\n",
       "      <th>Growth_2019_vs_2018</th>\n",
       "      <th>Growth_2020_vs_2019</th>\n",
       "      <th>Growth_2021_vs_2020</th>\n",
       "    </tr>\n",
       "    <tr>\n",
       "      <th>ZipCode</th>\n",
       "      <th></th>\n",
       "      <th></th>\n",
       "      <th></th>\n",
       "      <th></th>\n",
       "      <th></th>\n",
       "      <th></th>\n",
       "      <th></th>\n",
       "    </tr>\n",
       "  </thead>\n",
       "  <tbody>\n",
       "    <tr>\n",
       "      <th>37013</th>\n",
       "      <td>11183.0</td>\n",
       "      <td>10755.0</td>\n",
       "      <td>9670.0</td>\n",
       "      <td>6701.0</td>\n",
       "      <td>-0.038272</td>\n",
       "      <td>-0.100883</td>\n",
       "      <td>-0.307032</td>\n",
       "    </tr>\n",
       "    <tr>\n",
       "      <th>37015</th>\n",
       "      <td>16.0</td>\n",
       "      <td>15.0</td>\n",
       "      <td>12.0</td>\n",
       "      <td>3.0</td>\n",
       "      <td>-0.062500</td>\n",
       "      <td>-0.200000</td>\n",
       "      <td>-0.750000</td>\n",
       "    </tr>\n",
       "    <tr>\n",
       "      <th>37027</th>\n",
       "      <td>1676.0</td>\n",
       "      <td>1674.0</td>\n",
       "      <td>1418.0</td>\n",
       "      <td>916.0</td>\n",
       "      <td>-0.001193</td>\n",
       "      <td>-0.152927</td>\n",
       "      <td>-0.354020</td>\n",
       "    </tr>\n",
       "    <tr>\n",
       "      <th>37072</th>\n",
       "      <td>342.0</td>\n",
       "      <td>320.0</td>\n",
       "      <td>212.0</td>\n",
       "      <td>196.0</td>\n",
       "      <td>-0.064327</td>\n",
       "      <td>-0.337500</td>\n",
       "      <td>-0.075472</td>\n",
       "    </tr>\n",
       "    <tr>\n",
       "      <th>37076</th>\n",
       "      <td>13167.0</td>\n",
       "      <td>10731.0</td>\n",
       "      <td>10883.0</td>\n",
       "      <td>8910.0</td>\n",
       "      <td>-0.185008</td>\n",
       "      <td>0.014165</td>\n",
       "      <td>-0.181292</td>\n",
       "    </tr>\n",
       "    <tr>\n",
       "      <th>37080</th>\n",
       "      <td>1463.0</td>\n",
       "      <td>1406.0</td>\n",
       "      <td>1205.0</td>\n",
       "      <td>1151.0</td>\n",
       "      <td>-0.038961</td>\n",
       "      <td>-0.142959</td>\n",
       "      <td>-0.044813</td>\n",
       "    </tr>\n",
       "    <tr>\n",
       "      <th>37086</th>\n",
       "      <td>36.0</td>\n",
       "      <td>14.0</td>\n",
       "      <td>38.0</td>\n",
       "      <td>13.0</td>\n",
       "      <td>-0.611111</td>\n",
       "      <td>1.714286</td>\n",
       "      <td>-0.657895</td>\n",
       "    </tr>\n",
       "    <tr>\n",
       "      <th>37115</th>\n",
       "      <td>14367.0</td>\n",
       "      <td>12706.0</td>\n",
       "      <td>9918.0</td>\n",
       "      <td>10520.0</td>\n",
       "      <td>-0.115612</td>\n",
       "      <td>-0.219424</td>\n",
       "      <td>0.060698</td>\n",
       "    </tr>\n",
       "    <tr>\n",
       "      <th>37122</th>\n",
       "      <td>64.0</td>\n",
       "      <td>29.0</td>\n",
       "      <td>30.0</td>\n",
       "      <td>19.0</td>\n",
       "      <td>-0.546875</td>\n",
       "      <td>0.034483</td>\n",
       "      <td>-0.366667</td>\n",
       "    </tr>\n",
       "    <tr>\n",
       "      <th>37135</th>\n",
       "      <td>1.0</td>\n",
       "      <td>3.0</td>\n",
       "      <td>2.0</td>\n",
       "      <td>2.0</td>\n",
       "      <td>2.000000</td>\n",
       "      <td>-0.333333</td>\n",
       "      <td>0.000000</td>\n",
       "    </tr>\n",
       "  </tbody>\n",
       "</table>\n",
       "</div>"
      ],
      "text/plain": [
       "Year        2018     2019     2020     2021  Growth_2019_vs_2018  \\\n",
       "ZipCode                                                            \n",
       "37013    11183.0  10755.0   9670.0   6701.0            -0.038272   \n",
       "37015       16.0     15.0     12.0      3.0            -0.062500   \n",
       "37027     1676.0   1674.0   1418.0    916.0            -0.001193   \n",
       "37072      342.0    320.0    212.0    196.0            -0.064327   \n",
       "37076    13167.0  10731.0  10883.0   8910.0            -0.185008   \n",
       "37080     1463.0   1406.0   1205.0   1151.0            -0.038961   \n",
       "37086       36.0     14.0     38.0     13.0            -0.611111   \n",
       "37115    14367.0  12706.0   9918.0  10520.0            -0.115612   \n",
       "37122       64.0     29.0     30.0     19.0            -0.546875   \n",
       "37135        1.0      3.0      2.0      2.0             2.000000   \n",
       "\n",
       "Year     Growth_2020_vs_2019  Growth_2021_vs_2020  \n",
       "ZipCode                                            \n",
       "37013              -0.100883            -0.307032  \n",
       "37015              -0.200000            -0.750000  \n",
       "37027              -0.152927            -0.354020  \n",
       "37072              -0.337500            -0.075472  \n",
       "37076               0.014165            -0.181292  \n",
       "37080              -0.142959            -0.044813  \n",
       "37086               1.714286            -0.657895  \n",
       "37115              -0.219424             0.060698  \n",
       "37122               0.034483            -0.366667  \n",
       "37135              -0.333333             0.000000  "
      ]
     },
     "execution_count": 69,
     "metadata": {},
     "output_type": "execute_result"
    }
   ],
   "source": [
    "calls_pivot[[\n",
    "    2018, 2019, 2020, 2021,\n",
    "    \"Growth_2019_vs_2018\", \n",
    "    \"Growth_2020_vs_2019\", \n",
    "    \"Growth_2021_vs_2020\"\n",
    "]].head(10)\n"
   ]
  },
  {
   "cell_type": "code",
   "execution_count": 71,
   "id": "384f098e-41ab-4445-98d6-080d3a5461d5",
   "metadata": {},
   "outputs": [
    {
     "name": "stdout",
     "output_type": "stream",
     "text": [
      "Year       2018    2019  Growth_2019_vs_2018  Rank\n",
      "ZipCode                                           \n",
      "37135       1.0     3.0             2.000000     1\n",
      "37228     338.0   606.0             0.792899     2\n",
      "37201    4114.0  5307.0             0.289985     3\n",
      "37212    1164.0  1296.0             0.113402     4\n",
      "37219     468.0   514.0             0.098291     5\n",
      "37213    2124.0  2201.0             0.036252     6\n",
      "37221    8835.0  8933.0             0.011092     7\n",
      "37189     541.0   546.0             0.009242     8\n",
      "37232       1.0     1.0             0.000000     9\n",
      "37027    1676.0  1674.0            -0.001193    10\n"
     ]
    }
   ],
   "source": [
    "# top 10\n",
    "top_growth_2019_df = (\n",
    "    calls_pivot[[2018, 2019, 'Growth_2019_vs_2018']]\n",
    "    .sort_values(by='Growth_2019_vs_2018', ascending=False)\n",
    "    .head(10)\n",
    ")\n",
    "\n",
    "# rank \n",
    "top_growth_2019_df['Rank'] = top_growth_2019_df['Growth_2019_vs_2018'].rank(ascending=False, method='first').astype(int)\n",
    "\n",
    "print(top_growth_2019_df)\n"
   ]
  },
  {
   "cell_type": "code",
   "execution_count": 73,
   "id": "44ac3fbf-06e9-4465-a557-e3046171b1cd",
   "metadata": {},
   "outputs": [
    {
     "name": "stderr",
     "output_type": "stream",
     "text": [
      "C:\\Users\\jingl\\AppData\\Local\\Temp\\ipykernel_15744\\125203001.py:9: FutureWarning: \n",
      "\n",
      "Passing `palette` without assigning `hue` is deprecated and will be removed in v0.14.0. Assign the `x` variable to `hue` and set `legend=False` for the same effect.\n",
      "\n",
      "  sns.barplot(\n"
     ]
    },
    {
     "data": {
      "image/png": "[encoded data removed]",
      "text/plain": [
       "<Figure size 1200x600 with 1 Axes>"
      ]
     },
     "metadata": {},
     "output_type": "display_data"
    },
    {
     "data": {
      "text/plain": [
       "<Figure size 640x480 with 0 Axes>"
      ]
     },
     "metadata": {},
     "output_type": "display_data"
    }
   ],
   "source": [
    "import matplotlib.pyplot as plt\n",
    "import seaborn as sns\n",
    "\n",
    "palette = sns.color_palette(\"viridis\", len(top_growth_2019_df))\n",
    "\n",
    "sns.set(style=\"whitegrid\")\n",
    "plt.figure(figsize=(12, 6))\n",
    "\n",
    "sns.barplot(\n",
    "    x=top_growth_2019_df.index.astype(str),\n",
    "    y=top_growth_2019_df['Growth_2019_vs_2018'],\n",
    "    palette=palette\n",
    ")\n",
    "\n",
    "plt.title(\"Top 10 ZIP Codes by Growth Rate: 2019 vs 2018\")\n",
    "plt.ylabel(\"Growth Rate\")\n",
    "plt.xlabel(\"ZIP Code\")\n",
    "plt.xticks(rotation=45)\n",
    "plt.tight_layout()\n",
    "plt.show()\n",
    "\n",
    "plt.savefig(\"top_growth_2019_vs_2018.png\", dpi=300)"
   ]
  },
  {
   "cell_type": "code",
   "execution_count": null,
   "id": "a3124646-700a-41f9-bdc0-8c27f39e373b",
   "metadata": {},
   "outputs": [],
   "source": []
  },
  {
   "cell_type": "code",
   "execution_count": 74,
   "id": "99ad01e6-51b8-4544-ac70-686ea04fd90d",
   "metadata": {},
   "outputs": [
    {
     "name": "stderr",
     "output_type": "stream",
     "text": [
      "C:\\Users\\jingl\\AppData\\Local\\Temp\\ipykernel_48116\\286878261.py:23: FutureWarning: \n",
      "\n",
      "Passing `palette` without assigning `hue` is deprecated and will be removed in v0.14.0. Assign the `x` variable to `hue` and set `legend=False` for the same effect.\n",
      "\n",
      "  sns.barplot(\n"
     ]
    },
    {
     "data": {
      "image/png": "[encoded data removed]",
      "text/plain": [
       "<Figure size 1200x600 with 1 Axes>"
      ]
     },
     "metadata": {},
     "output_type": "display_data"
    },
    {
     "data": {
      "text/plain": [
       "<Figure size 640x480 with 0 Axes>"
      ]
     },
     "metadata": {},
     "output_type": "display_data"
    }
   ],
   "source": [
    "import matplotlib.pyplot as plt\n",
    "import seaborn as sns\n",
    "\n",
    "top_growth_2020_df = (\n",
    "    calls_pivot[[2019, 2020, 'Growth_2020_vs_2019']]\n",
    "    .sort_values(by='Growth_2020_vs_2019', ascending=False)\n",
    "    .head(10)\n",
    ")\n",
    "\n",
    "top_growth_2020_df['Rank'] = top_growth_2020_df['Growth_2020_vs_2019'] \\\n",
    "    .rank(ascending=False, method='first').astype(int)\n",
    "\n",
    "palette = sns.color_palette(\"coolwarm\", len(top_growth_2020_df))\n",
    "\n",
    "sns.set(style=\"whitegrid\")\n",
    "plt.figure(figsize=(12, 6))\n",
    "\n",
    "sns.barplot(\n",
    "    x=top_growth_2020_df.index.astype(str),\n",
    "    y=top_growth_2020_df[\"Growth_2020_vs_2019\"],\n",
    "    palette=palette\n",
    ")\n",
    "\n",
    "plt.title(\"Top 10 ZIP Codes by Growth Rate: 2020 vs 2019\")\n",
    "plt.ylabel(\"Growth Rate\")\n",
    "plt.xlabel(\"ZIP Code\")\n",
    "plt.xticks(rotation=45)\n",
    "plt.tight_layout()\n",
    "plt.show()\n",
    "plt.savefig(\"top_growth_20220_vs_2019.png\", dpi=300)"
   ]
  },
  {
   "cell_type": "code",
   "execution_count": 75,
   "id": "3d644799-10fb-4d33-befe-0497d7c985fa",
   "metadata": {},
   "outputs": [],
   "source": [
    "top_growth_2021_df = (\n",
    "    calls_pivot[[2020, 2021, 'Growth_2021_vs_2020']]\n",
    "    .sort_values(by='Growth_2021_vs_2020', ascending=False)\n",
    "    .head(10)\n",
    ")"
   ]
  },
  {
   "cell_type": "code",
   "execution_count": 76,
   "id": "9ac4b843-a321-4d37-b53d-3924c81d8158",
   "metadata": {},
   "outputs": [],
   "source": [
    "top_growth_2021_df['Rank'] = top_growth_2021_df['Growth_2021_vs_2020'] \\\n",
    "    .rank(ascending=False, method='first').astype(int)"
   ]
  },
  {
   "cell_type": "code",
   "execution_count": 77,
   "id": "f726c0b9-7fc0-404c-be34-7ec17f92cc11",
   "metadata": {},
   "outputs": [
    {
     "name": "stderr",
     "output_type": "stream",
     "text": [
      "C:\\Users\\jingl\\AppData\\Local\\Temp\\ipykernel_15744\\1319731033.py:6: FutureWarning: \n",
      "\n",
      "Passing `palette` without assigning `hue` is deprecated and will be removed in v0.14.0. Assign the `x` variable to `hue` and set `legend=False` for the same effect.\n",
      "\n",
      "  sns.barplot(\n"
     ]
    },
    {
     "data": {
      "image/png": "[encoded data removed]",
      "text/plain": [
       "<Figure size 1200x600 with 1 Axes>"
      ]
     },
     "metadata": {},
     "output_type": "display_data"
    },
    {
     "data": {
      "text/plain": [
       "<Figure size 640x480 with 0 Axes>"
      ]
     },
     "metadata": {},
     "output_type": "display_data"
    }
   ],
   "source": [
    "sns.set(style=\"whitegrid\")\n",
    "plt.figure(figsize=(12, 6))\n",
    "\n",
    "palette = sns.color_palette(\"plasma\", len(top_growth_2021_df))\n",
    "\n",
    "sns.barplot(\n",
    "    x=top_growth_2021_df.index.astype(str),\n",
    "    y=top_growth_2021_df[\"Growth_2021_vs_2020\"],\n",
    "    palette=palette\n",
    ")\n",
    "\n",
    "plt.title(\"Top 10 ZIP Codes by Growth Rate: 2021 vs 2020\")\n",
    "plt.ylabel(\"Growth Rate\")\n",
    "plt.xlabel(\"ZIP Code\")\n",
    "plt.xticks(rotation=45)\n",
    "plt.tight_layout()\n",
    "plt.show()\n",
    "\n",
    "plt.savefig(\"top_growth_2021_vs_2020.png\", dpi=300)"
   ]
  },
  {
   "cell_type": "code",
   "execution_count": null,
   "id": "74bfa241-966e-42e2-b481-7e1c3309c80d",
   "metadata": {},
   "outputs": [],
   "source": []
  },
  {
   "cell_type": "code",
   "execution_count": null,
   "id": "a5e943bd-9efb-4e89-8fdd-0569433c70f0",
   "metadata": {},
   "outputs": [],
   "source": []
  },
  {
   "cell_type": "markdown",
   "id": "4cbb2ae3-4706-4208-8baa-683ee711e030",
   "metadata": {},
   "source": [
    "## Which types of calls are more likely to lead to confirmed incidents or arrests?"
   ]
  },
  {
   "cell_type": "code",
   "execution_count": 78,
   "id": "97adc6ee-6045-4a59-9ef9-c3dc79bcc2df",
   "metadata": {},
   "outputs": [
    {
     "data": {
      "text/html": [
       "<div>\n",
       "<style scoped>\n",
       "    .dataframe tbody tr th:only-of-type {\n",
       "        vertical-align: middle;\n",
       "    }\n",
       "\n",
       "    .dataframe tbody tr th {\n",
       "        vertical-align: top;\n",
       "    }\n",
       "\n",
       "    .dataframe thead th {\n",
       "        text-align: right;\n",
       "    }\n",
       "</style>\n",
       "<table border=\"1\" class=\"dataframe\">\n",
       "  <thead>\n",
       "    <tr style=\"text-align: right;\">\n",
       "      <th></th>\n",
       "      <th>Tencode_Description</th>\n",
       "      <th>Total_Calls</th>\n",
       "    </tr>\n",
       "  </thead>\n",
       "  <tbody>\n",
       "    <tr>\n",
       "      <th>0</th>\n",
       "      <td>1000</td>\n",
       "      <td>122</td>\n",
       "    </tr>\n",
       "    <tr>\n",
       "      <th>1</th>\n",
       "      <td>14</td>\n",
       "      <td>557</td>\n",
       "    </tr>\n",
       "    <tr>\n",
       "      <th>2</th>\n",
       "      <td>15</td>\n",
       "      <td>40245</td>\n",
       "    </tr>\n",
       "    <tr>\n",
       "      <th>3</th>\n",
       "      <td>16</td>\n",
       "      <td>2536</td>\n",
       "    </tr>\n",
       "    <tr>\n",
       "      <th>4</th>\n",
       "      <td>2000</td>\n",
       "      <td>3</td>\n",
       "    </tr>\n",
       "  </tbody>\n",
       "</table>\n",
       "</div>"
      ],
      "text/plain": [
       "  Tencode_Description  Total_Calls\n",
       "0                1000          122\n",
       "1                  14          557\n",
       "2                  15        40245\n",
       "3                  16         2536\n",
       "4                2000            3"
      ]
     },
     "execution_count": 78,
     "metadata": {},
     "output_type": "execute_result"
    }
   ],
   "source": [
    "total_calls = calls_df.groupby('Tencode_Description').size().reset_index(name='Total_Calls')\n",
    "total_calls.head()"
   ]
  },
  {
   "cell_type": "code",
   "execution_count": 79,
   "id": "c222bddc-7d98-4592-b4b9-848fe70a2885",
   "metadata": {},
   "outputs": [
    {
     "data": {
      "text/html": [
       "<div>\n",
       "<style scoped>\n",
       "    .dataframe tbody tr th:only-of-type {\n",
       "        vertical-align: middle;\n",
       "    }\n",
       "\n",
       "    .dataframe tbody tr th {\n",
       "        vertical-align: top;\n",
       "    }\n",
       "\n",
       "    .dataframe thead th {\n",
       "        text-align: right;\n",
       "    }\n",
       "</style>\n",
       "<table border=\"1\" class=\"dataframe\">\n",
       "  <thead>\n",
       "    <tr style=\"text-align: right;\">\n",
       "      <th></th>\n",
       "      <th>OBJECTID</th>\n",
       "      <th>Event_Number</th>\n",
       "      <th>Complaint_Number</th>\n",
       "      <th>Tencode</th>\n",
       "      <th>Tencode_Description</th>\n",
       "      <th>Tencode_Suffix</th>\n",
       "      <th>Tencode_Suffix_Description</th>\n",
       "      <th>Disposition_Code</th>\n",
       "      <th>Disposition_Description</th>\n",
       "      <th>Block</th>\n",
       "      <th>...</th>\n",
       "      <th>Shift</th>\n",
       "      <th>Sector</th>\n",
       "      <th>ZONE_</th>\n",
       "      <th>Latitude</th>\n",
       "      <th>Longitude</th>\n",
       "      <th>RPA</th>\n",
       "      <th>Call_Received</th>\n",
       "      <th>x</th>\n",
       "      <th>y</th>\n",
       "      <th>Year</th>\n",
       "    </tr>\n",
       "  </thead>\n",
       "  <tbody>\n",
       "    <tr>\n",
       "      <th>19</th>\n",
       "      <td>20</td>\n",
       "      <td>PD201800238971</td>\n",
       "      <td>2.018021e+10</td>\n",
       "      <td>70</td>\n",
       "      <td>BURGLARY - RESIDENCE</td>\n",
       "      <td>R</td>\n",
       "      <td>REPORT</td>\n",
       "      <td>1</td>\n",
       "      <td>M.P.D. REPORT COMPLED</td>\n",
       "      <td>NaN</td>\n",
       "      <td>...</td>\n",
       "      <td>B</td>\n",
       "      <td>NaN</td>\n",
       "      <td>NaN</td>\n",
       "      <td>NaN</td>\n",
       "      <td>NaN</td>\n",
       "      <td>NaN</td>\n",
       "      <td>2018-03-07 02:43:41</td>\n",
       "      <td>NaN</td>\n",
       "      <td>NaN</td>\n",
       "      <td>2018</td>\n",
       "    </tr>\n",
       "    <tr>\n",
       "      <th>24</th>\n",
       "      <td>25</td>\n",
       "      <td>PD201800003015</td>\n",
       "      <td>NaN</td>\n",
       "      <td>45</td>\n",
       "      <td>VEHICLE ACCIDENT - PROPERTY DAMAGE</td>\n",
       "      <td>P</td>\n",
       "      <td>PROGRESS</td>\n",
       "      <td>1</td>\n",
       "      <td>M.P.D. REPORT COMPLED</td>\n",
       "      <td>NaN</td>\n",
       "      <td>...</td>\n",
       "      <td>C</td>\n",
       "      <td>331</td>\n",
       "      <td>325</td>\n",
       "      <td>36.069</td>\n",
       "      <td>-86.672</td>\n",
       "      <td>8899.0</td>\n",
       "      <td>2018-01-02 05:59:21</td>\n",
       "      <td>-86.672</td>\n",
       "      <td>36.069</td>\n",
       "      <td>2018</td>\n",
       "    </tr>\n",
       "    <tr>\n",
       "      <th>27</th>\n",
       "      <td>28</td>\n",
       "      <td>PD201800709018</td>\n",
       "      <td>2.018062e+10</td>\n",
       "      <td>50</td>\n",
       "      <td>THEFT</td>\n",
       "      <td>RC</td>\n",
       "      <td>NaN</td>\n",
       "      <td>1</td>\n",
       "      <td>M.P.D. REPORT COMPLED</td>\n",
       "      <td>NaN</td>\n",
       "      <td>...</td>\n",
       "      <td>A</td>\n",
       "      <td>NaN</td>\n",
       "      <td>NaN</td>\n",
       "      <td>NaN</td>\n",
       "      <td>NaN</td>\n",
       "      <td>NaN</td>\n",
       "      <td>2018-07-17 16:28:23</td>\n",
       "      <td>NaN</td>\n",
       "      <td>NaN</td>\n",
       "      <td>2018</td>\n",
       "    </tr>\n",
       "    <tr>\n",
       "      <th>65</th>\n",
       "      <td>66</td>\n",
       "      <td>PD201800685063</td>\n",
       "      <td>2.018060e+10</td>\n",
       "      <td>70</td>\n",
       "      <td>BURGLARY - RESIDENCE</td>\n",
       "      <td>R</td>\n",
       "      <td>REPORT</td>\n",
       "      <td>1</td>\n",
       "      <td>M.P.D. REPORT COMPLED</td>\n",
       "      <td>NaN</td>\n",
       "      <td>...</td>\n",
       "      <td>A</td>\n",
       "      <td>NaN</td>\n",
       "      <td>NaN</td>\n",
       "      <td>NaN</td>\n",
       "      <td>NaN</td>\n",
       "      <td>NaN</td>\n",
       "      <td>2018-07-10 14:08:43</td>\n",
       "      <td>NaN</td>\n",
       "      <td>NaN</td>\n",
       "      <td>2018</td>\n",
       "    </tr>\n",
       "    <tr>\n",
       "      <th>71</th>\n",
       "      <td>72</td>\n",
       "      <td>PD201800142266</td>\n",
       "      <td>NaN</td>\n",
       "      <td>45</td>\n",
       "      <td>VEHICLE ACCIDENT - PROPERTY DAMAGE</td>\n",
       "      <td>P</td>\n",
       "      <td>PROGRESS</td>\n",
       "      <td>1</td>\n",
       "      <td>M.P.D. REPORT COMPLED</td>\n",
       "      <td>NaN</td>\n",
       "      <td>...</td>\n",
       "      <td>C</td>\n",
       "      <td>MT</td>\n",
       "      <td>823</td>\n",
       "      <td>NaN</td>\n",
       "      <td>NaN</td>\n",
       "      <td>8609.0</td>\n",
       "      <td>2018-02-08 07:05:23</td>\n",
       "      <td>NaN</td>\n",
       "      <td>NaN</td>\n",
       "      <td>2018</td>\n",
       "    </tr>\n",
       "  </tbody>\n",
       "</table>\n",
       "<p>5 rows × 22 columns</p>\n",
       "</div>"
      ],
      "text/plain": [
       "    OBJECTID    Event_Number  Complaint_Number  Tencode  \\\n",
       "19        20  PD201800238971      2.018021e+10       70   \n",
       "24        25  PD201800003015               NaN       45   \n",
       "27        28  PD201800709018      2.018062e+10       50   \n",
       "65        66  PD201800685063      2.018060e+10       70   \n",
       "71        72  PD201800142266               NaN       45   \n",
       "\n",
       "                   Tencode_Description Tencode_Suffix  \\\n",
       "19                BURGLARY - RESIDENCE              R   \n",
       "24  VEHICLE ACCIDENT - PROPERTY DAMAGE              P   \n",
       "27                               THEFT             RC   \n",
       "65                BURGLARY - RESIDENCE              R   \n",
       "71  VEHICLE ACCIDENT - PROPERTY DAMAGE              P   \n",
       "\n",
       "   Tencode_Suffix_Description Disposition_Code Disposition_Description  Block  \\\n",
       "19                     REPORT                1   M.P.D. REPORT COMPLED    NaN   \n",
       "24                   PROGRESS                1   M.P.D. REPORT COMPLED    NaN   \n",
       "27                        NaN                1   M.P.D. REPORT COMPLED    NaN   \n",
       "65                     REPORT                1   M.P.D. REPORT COMPLED    NaN   \n",
       "71                   PROGRESS                1   M.P.D. REPORT COMPLED    NaN   \n",
       "\n",
       "    ... Shift Sector ZONE_ Latitude Longitude     RPA       Call_Received  \\\n",
       "19  ...     B    NaN   NaN      NaN       NaN     NaN 2018-03-07 02:43:41   \n",
       "24  ...     C    331   325   36.069   -86.672  8899.0 2018-01-02 05:59:21   \n",
       "27  ...     A    NaN   NaN      NaN       NaN     NaN 2018-07-17 16:28:23   \n",
       "65  ...     A    NaN   NaN      NaN       NaN     NaN 2018-07-10 14:08:43   \n",
       "71  ...     C    MT    823      NaN       NaN  8609.0 2018-02-08 07:05:23   \n",
       "\n",
       "         x       y  Year  \n",
       "19     NaN     NaN  2018  \n",
       "24 -86.672  36.069  2018  \n",
       "27     NaN     NaN  2018  \n",
       "65     NaN     NaN  2018  \n",
       "71     NaN     NaN  2018  \n",
       "\n",
       "[5 rows x 22 columns]"
      ]
     },
     "execution_count": 79,
     "metadata": {},
     "output_type": "execute_result"
    }
   ],
   "source": [
    "# marked with'ARREST' or'CONFIRMED\n",
    "confirmed_calls = calls_df[calls_df['Disposition_Description'].str.contains(\"ARREST|CONFIRMED|REPORT\", na=False)]\n",
    "confirmed_calls.head()"
   ]
  },
  {
   "cell_type": "code",
   "execution_count": 80,
   "id": "fbc5fbc0-899f-415c-8e89-fe43dc7231e2",
   "metadata": {},
   "outputs": [
    {
     "data": {
      "text/html": [
       "<div>\n",
       "<style scoped>\n",
       "    .dataframe tbody tr th:only-of-type {\n",
       "        vertical-align: middle;\n",
       "    }\n",
       "\n",
       "    .dataframe tbody tr th {\n",
       "        vertical-align: top;\n",
       "    }\n",
       "\n",
       "    .dataframe thead th {\n",
       "        text-align: right;\n",
       "    }\n",
       "</style>\n",
       "<table border=\"1\" class=\"dataframe\">\n",
       "  <thead>\n",
       "    <tr style=\"text-align: right;\">\n",
       "      <th></th>\n",
       "      <th>Tencode_Description</th>\n",
       "      <th>Confirmed_Incidents</th>\n",
       "    </tr>\n",
       "  </thead>\n",
       "  <tbody>\n",
       "    <tr>\n",
       "      <th>0</th>\n",
       "      <td>1000</td>\n",
       "      <td>1</td>\n",
       "    </tr>\n",
       "    <tr>\n",
       "      <th>1</th>\n",
       "      <td>14</td>\n",
       "      <td>1</td>\n",
       "    </tr>\n",
       "    <tr>\n",
       "      <th>2</th>\n",
       "      <td>15</td>\n",
       "      <td>28</td>\n",
       "    </tr>\n",
       "    <tr>\n",
       "      <th>3</th>\n",
       "      <td>16</td>\n",
       "      <td>181</td>\n",
       "    </tr>\n",
       "    <tr>\n",
       "      <th>4</th>\n",
       "      <td>3</td>\n",
       "      <td>208</td>\n",
       "    </tr>\n",
       "  </tbody>\n",
       "</table>\n",
       "</div>"
      ],
      "text/plain": [
       "  Tencode_Description  Confirmed_Incidents\n",
       "0                1000                    1\n",
       "1                  14                    1\n",
       "2                  15                   28\n",
       "3                  16                  181\n",
       "4                   3                  208"
      ]
     },
     "execution_count": 80,
     "metadata": {},
     "output_type": "execute_result"
    }
   ],
   "source": [
    "confirmed_counts = confirmed_calls.groupby('Tencode_Description').size().reset_index(name='Confirmed_Incidents')\n",
    "confirmed_counts.head()"
   ]
  },
  {
   "cell_type": "code",
   "execution_count": 81,
   "id": "8b9a4786-bf9b-4515-babd-c2ba1d49a32a",
   "metadata": {},
   "outputs": [],
   "source": [
    "merged = pd.merge(total_calls, confirmed_counts, on='Tencode_Description', how='left').fillna(0)"
   ]
  },
  {
   "cell_type": "code",
   "execution_count": 82,
   "id": "7b784345-32de-4f51-bdc9-eec0f706fffd",
   "metadata": {},
   "outputs": [],
   "source": [
    "\n",
    "merged['Confirmation_Rate'] = merged['Confirmed_Incidents'] / merged['Total_Calls']"
   ]
  },
  {
   "cell_type": "code",
   "execution_count": 83,
   "id": "880e7d85-21d1-4875-b66d-617a104c923a",
   "metadata": {},
   "outputs": [
    {
     "data": {
      "text/html": [
       "<div>\n",
       "<style scoped>\n",
       "    .dataframe tbody tr th:only-of-type {\n",
       "        vertical-align: middle;\n",
       "    }\n",
       "\n",
       "    .dataframe tbody tr th {\n",
       "        vertical-align: top;\n",
       "    }\n",
       "\n",
       "    .dataframe thead th {\n",
       "        text-align: right;\n",
       "    }\n",
       "</style>\n",
       "<table border=\"1\" class=\"dataframe\">\n",
       "  <thead>\n",
       "    <tr style=\"text-align: right;\">\n",
       "      <th></th>\n",
       "      <th>Tencode_Description</th>\n",
       "      <th>Total_Calls</th>\n",
       "      <th>Confirmed_Incidents</th>\n",
       "      <th>Confirmation_Rate</th>\n",
       "    </tr>\n",
       "  </thead>\n",
       "  <tbody>\n",
       "    <tr>\n",
       "      <th>15</th>\n",
       "      <td>50</td>\n",
       "      <td>38654</td>\n",
       "      <td>24640.0</td>\n",
       "      <td>0.637450</td>\n",
       "    </tr>\n",
       "    <tr>\n",
       "      <th>94</th>\n",
       "      <td>THEFT</td>\n",
       "      <td>119428</td>\n",
       "      <td>71295.0</td>\n",
       "      <td>0.596971</td>\n",
       "    </tr>\n",
       "    <tr>\n",
       "      <th>70</th>\n",
       "      <td>GANG ACTIVITY</td>\n",
       "      <td>98</td>\n",
       "      <td>45.0</td>\n",
       "      <td>0.459184</td>\n",
       "    </tr>\n",
       "    <tr>\n",
       "      <th>37</th>\n",
       "      <td>77</td>\n",
       "      <td>18</td>\n",
       "      <td>5.0</td>\n",
       "      <td>0.277778</td>\n",
       "    </tr>\n",
       "    <tr>\n",
       "      <th>85</th>\n",
       "      <td>PRISONER ESCAPEE</td>\n",
       "      <td>42</td>\n",
       "      <td>11.0</td>\n",
       "      <td>0.261905</td>\n",
       "    </tr>\n",
       "    <tr>\n",
       "      <th>38</th>\n",
       "      <td>79</td>\n",
       "      <td>4</td>\n",
       "      <td>1.0</td>\n",
       "      <td>0.250000</td>\n",
       "    </tr>\n",
       "    <tr>\n",
       "      <th>36</th>\n",
       "      <td>75</td>\n",
       "      <td>2960</td>\n",
       "      <td>726.0</td>\n",
       "      <td>0.245270</td>\n",
       "    </tr>\n",
       "    <tr>\n",
       "      <th>78</th>\n",
       "      <td>MISSING PERSON</td>\n",
       "      <td>11177</td>\n",
       "      <td>2538.0</td>\n",
       "      <td>0.227073</td>\n",
       "    </tr>\n",
       "    <tr>\n",
       "      <th>99</th>\n",
       "      <td>VEHICLE ACCIDENT - PROPERTY DAMAGE</td>\n",
       "      <td>114773</td>\n",
       "      <td>25683.0</td>\n",
       "      <td>0.223772</td>\n",
       "    </tr>\n",
       "    <tr>\n",
       "      <th>41</th>\n",
       "      <td>85</td>\n",
       "      <td>14</td>\n",
       "      <td>3.0</td>\n",
       "      <td>0.214286</td>\n",
       "    </tr>\n",
       "  </tbody>\n",
       "</table>\n",
       "</div>"
      ],
      "text/plain": [
       "                   Tencode_Description  Total_Calls  Confirmed_Incidents  \\\n",
       "15                                  50        38654              24640.0   \n",
       "94                               THEFT       119428              71295.0   \n",
       "70                       GANG ACTIVITY           98                 45.0   \n",
       "37                                  77           18                  5.0   \n",
       "85                    PRISONER ESCAPEE           42                 11.0   \n",
       "38                                  79            4                  1.0   \n",
       "36                                  75         2960                726.0   \n",
       "78                      MISSING PERSON        11177               2538.0   \n",
       "99  VEHICLE ACCIDENT - PROPERTY DAMAGE       114773              25683.0   \n",
       "41                                  85           14                  3.0   \n",
       "\n",
       "    Confirmation_Rate  \n",
       "15           0.637450  \n",
       "94           0.596971  \n",
       "70           0.459184  \n",
       "37           0.277778  \n",
       "85           0.261905  \n",
       "38           0.250000  \n",
       "36           0.245270  \n",
       "78           0.227073  \n",
       "99           0.223772  \n",
       "41           0.214286  "
      ]
     },
     "execution_count": 83,
     "metadata": {},
     "output_type": "execute_result"
    }
   ],
   "source": [
    "\n",
    "merged.sort_values(by='Confirmation_Rate', ascending=False).head(10)"
   ]
  },
  {
   "cell_type": "code",
   "execution_count": 84,
   "id": "c1ef95b4-de7c-485f-9dd4-d1a0abea6b9b",
   "metadata": {},
   "outputs": [],
   "source": [
    "tencode_map = {\n",
    "    50: \"THEFT\",\n",
    "    94: \"THEFT\",\n",
    "    88: \"THEFT\",\n",
    "\n",
    "    70: \"GANG ACTIVITY\",\n",
    "    77: \"GANG ACTIVITY\",\n",
    "\n",
    "    79: \"OCCULT ACTIVITY\",\n",
    "    73: \"OCCULT ACTIVITY\",\n",
    "\n",
    "    75: \"MISSING PERSON\",\n",
    "    78: \"MISSING PERSON\",\n",
    "\n",
    "    85: \"ESCAPED PRISONER\",\n",
    "    42: \"PRISONER ESCAPEE\", \n",
    "    45: \"ACCIDENT - NO INJURY\",\n",
    "\n",
    "    57: \"FIGHT\",\n",
    "    60: \"FIGHT\",\n",
    "    61: \"FIGHT / ASSAULT\", \n",
    "\n",
    "    66: \"BOMB THREAT\",\n",
    "    68: \"KIDNAPPING\",\n",
    "\n",
    "    93: \"VEHICLE ACCIDENT - PROPERTY DAMAGE\"\n",
    "}"
   ]
  },
  {
   "cell_type": "code",
   "execution_count": 85,
   "id": "9e6e9262-bfe2-429d-8483-b5a5a7168d5e",
   "metadata": {},
   "outputs": [],
   "source": [
    "#  try turns Tencode_Description to number，fails if NaN\n",
    "merged['Tencode_Code'] = pd.to_numeric(merged['Tencode_Description'], errors='coerce')\n",
    "\n",
    "# map\n",
    "merged['Final_Description'] = merged['Tencode_Code'].map(tencode_map).fillna(merged['Tencode_Description'])\n"
   ]
  },
  {
   "cell_type": "code",
   "execution_count": 86,
   "id": "c34de6f4-6753-4970-99a7-601f2c0f6142",
   "metadata": {},
   "outputs": [
    {
     "data": {
      "text/html": [
       "<div>\n",
       "<style scoped>\n",
       "    .dataframe tbody tr th:only-of-type {\n",
       "        vertical-align: middle;\n",
       "    }\n",
       "\n",
       "    .dataframe tbody tr th {\n",
       "        vertical-align: top;\n",
       "    }\n",
       "\n",
       "    .dataframe thead th {\n",
       "        text-align: right;\n",
       "    }\n",
       "</style>\n",
       "<table border=\"1\" class=\"dataframe\">\n",
       "  <thead>\n",
       "    <tr style=\"text-align: right;\">\n",
       "      <th></th>\n",
       "      <th>Final_Description</th>\n",
       "      <th>Total_Calls</th>\n",
       "      <th>Confirmed_Incidents</th>\n",
       "      <th>Confirmation_Rate</th>\n",
       "    </tr>\n",
       "  </thead>\n",
       "  <tbody>\n",
       "    <tr>\n",
       "      <th>80</th>\n",
       "      <td>THEFT</td>\n",
       "      <td>173434</td>\n",
       "      <td>95955.0</td>\n",
       "      <td>0.553265</td>\n",
       "    </tr>\n",
       "    <tr>\n",
       "      <th>64</th>\n",
       "      <td>MISSING PERSON</td>\n",
       "      <td>14137</td>\n",
       "      <td>3264.0</td>\n",
       "      <td>0.230883</td>\n",
       "    </tr>\n",
       "    <tr>\n",
       "      <th>49</th>\n",
       "      <td>ESCAPED PRISONER</td>\n",
       "      <td>14</td>\n",
       "      <td>3.0</td>\n",
       "      <td>0.214286</td>\n",
       "    </tr>\n",
       "    <tr>\n",
       "      <th>34</th>\n",
       "      <td>ACCIDENT - NO INJURY</td>\n",
       "      <td>30237</td>\n",
       "      <td>5886.0</td>\n",
       "      <td>0.194662</td>\n",
       "    </tr>\n",
       "    <tr>\n",
       "      <th>53</th>\n",
       "      <td>FIGHT / ASSAULT</td>\n",
       "      <td>26821</td>\n",
       "      <td>4824.0</td>\n",
       "      <td>0.179859</td>\n",
       "    </tr>\n",
       "    <tr>\n",
       "      <th>85</th>\n",
       "      <td>VEHICLE ACCIDENT - PROPERTY DAMAGE</td>\n",
       "      <td>148767</td>\n",
       "      <td>26031.0</td>\n",
       "      <td>0.174978</td>\n",
       "    </tr>\n",
       "    <tr>\n",
       "      <th>61</th>\n",
       "      <td>KIDNAPPING</td>\n",
       "      <td>674</td>\n",
       "      <td>112.0</td>\n",
       "      <td>0.166172</td>\n",
       "    </tr>\n",
       "    <tr>\n",
       "      <th>52</th>\n",
       "      <td>FIGHT</td>\n",
       "      <td>7135</td>\n",
       "      <td>1172.0</td>\n",
       "      <td>0.164261</td>\n",
       "    </tr>\n",
       "    <tr>\n",
       "      <th>47</th>\n",
       "      <td>DISORDERLY PERSON</td>\n",
       "      <td>115302</td>\n",
       "      <td>14041.0</td>\n",
       "      <td>0.121776</td>\n",
       "    </tr>\n",
       "    <tr>\n",
       "      <th>87</th>\n",
       "      <td>WANT OFFICER FOR INVESTIGATION / ASSISTA</td>\n",
       "      <td>507826</td>\n",
       "      <td>60998.0</td>\n",
       "      <td>0.120116</td>\n",
       "    </tr>\n",
       "  </tbody>\n",
       "</table>\n",
       "</div>"
      ],
      "text/plain": [
       "                           Final_Description  Total_Calls  \\\n",
       "80                                     THEFT       173434   \n",
       "64                            MISSING PERSON        14137   \n",
       "49                          ESCAPED PRISONER           14   \n",
       "34                      ACCIDENT - NO INJURY        30237   \n",
       "53                           FIGHT / ASSAULT        26821   \n",
       "85        VEHICLE ACCIDENT - PROPERTY DAMAGE       148767   \n",
       "61                                KIDNAPPING          674   \n",
       "52                                     FIGHT         7135   \n",
       "47                         DISORDERLY PERSON       115302   \n",
       "87  WANT OFFICER FOR INVESTIGATION / ASSISTA       507826   \n",
       "\n",
       "    Confirmed_Incidents  Confirmation_Rate  \n",
       "80              95955.0           0.553265  \n",
       "64               3264.0           0.230883  \n",
       "49                  3.0           0.214286  \n",
       "34               5886.0           0.194662  \n",
       "53               4824.0           0.179859  \n",
       "85              26031.0           0.174978  \n",
       "61                112.0           0.166172  \n",
       "52               1172.0           0.164261  \n",
       "47              14041.0           0.121776  \n",
       "87              60998.0           0.120116  "
      ]
     },
     "execution_count": 86,
     "metadata": {},
     "output_type": "execute_result"
    }
   ],
   "source": [
    "summary = merged.groupby('Final_Description').agg({\n",
    "    'Total_Calls': 'sum',\n",
    "    'Confirmed_Incidents': 'sum'\n",
    "}).reset_index()\n",
    "\n",
    "summary['Confirmation_Rate'] = summary['Confirmed_Incidents'] / summary['Total_Calls']\n",
    "summary.sort_values(by='Confirmation_Rate', ascending=False).head(10)\n"
   ]
  },
  {
   "cell_type": "code",
   "execution_count": 87,
   "id": "b75fcaf2-970f-41f2-8373-b11a9fd00001",
   "metadata": {},
   "outputs": [],
   "source": [
    "merged.to_csv(\"call_type_confirmation_rate.csv\", index=False)"
   ]
  },
  {
   "cell_type": "code",
   "execution_count": 88,
   "id": "8cb52b31-b547-4265-802a-0c653f12b966",
   "metadata": {},
   "outputs": [
    {
     "name": "stderr",
     "output_type": "stream",
     "text": [
      "C:\\Users\\jingl\\AppData\\Local\\Temp\\ipykernel_15744\\607184767.py:7: FutureWarning: \n",
      "\n",
      "Passing `palette` without assigning `hue` is deprecated and will be removed in v0.14.0. Assign the `y` variable to `hue` and set `legend=False` for the same effect.\n",
      "\n",
      "  sns.barplot(\n"
     ]
    },
    {
     "data": {
      "image/png": "[encoded data removed]",
      "text/plain": [
       "<Figure size 1200x600 with 1 Axes>"
      ]
     },
     "metadata": {},
     "output_type": "display_data"
    }
   ],
   "source": [
    "top10 = summary.sort_values(by='Confirmation_Rate', ascending=False).head(10)\n",
    "\n",
    "import seaborn as sns\n",
    "import matplotlib.pyplot as plt\n",
    "\n",
    "plt.figure(figsize=(12, 6))\n",
    "sns.barplot(\n",
    "    data=top10,\n",
    "    x='Confirmation_Rate',\n",
    "    y='Final_Description',\n",
    "    palette='viridis',\n",
    "    errorbar=None\n",
    ")\n",
    "\n",
    "plt.title(\"Top 10 Call Types by Confirmation Rate\", fontsize=14, weight='bold')\n",
    "plt.xlabel(\"Confirmation Rate\")\n",
    "plt.ylabel(\"Call Type\")\n",
    "plt.xlim(0, 0.7)  \n",
    "plt.grid(axis='x', linestyle='--', alpha=0.5)\n",
    "\n",
    "for index, value in enumerate(top10['Confirmation_Rate']):\n",
    "    plt.text(value + 0.01, index, f\"{value:.2%}\", va='center')\n",
    "\n",
    "plt.tight_layout()\n",
    "plt.show()"
   ]
  },
  {
   "cell_type": "markdown",
   "id": "48776133-f7b5-488a-a45c-bdbfdf81610d",
   "metadata": {},
   "source": [
    "##  Top 10 Call Types by Confirmation Rate.Theft ranks highest with a 54.2% confirmation rate.Followed by Missing Person (23.4%) and Escaped Prisoner (23.1%)"
   ]
  },
  {
   "cell_type": "markdown",
   "id": "64a16b36-ea5c-4114-8bf0-7fac2a732d78",
   "metadata": {},
   "source": [
    "## 4. Are certain call types more frequently reported during specific shifts or in particular sectors?"
   ]
  },
  {
   "cell_type": "code",
   "execution_count": 89,
   "id": "64b8b8f9-e0aa-4216-b48b-31cd51df4d0e",
   "metadata": {},
   "outputs": [],
   "source": [
    "tencode_map = {\n",
    "    43: \"FIGHT\",\n",
    "    96: \"ASSISTANCE\",\n",
    "    50: \"THEFT\",\n",
    "    66: \"BOMB THREAT\",\n",
    "    70: \"GANG ACTIVITY\",\n",
    "    75: \"MISSING PERSON\",\n",
    "    79: \"OCCULT ACTIVITY\",\n",
    "    85: \"ESCAPED PRISONER\",\n",
    "    45: \"ACCIDENT - NO INJURY\",\n",
    "    61: \"KIDNAPPING\"\n",
    "}"
   ]
  },
  {
   "cell_type": "code",
   "execution_count": 90,
   "id": "2ae0787b-3af9-44b7-9435-ff213a6891e7",
   "metadata": {},
   "outputs": [],
   "source": [
    "grouped_calls = calls_df.groupby(['Tencode_Description', 'Shift']).size().reset_index(name='Call_Count')"
   ]
  },
  {
   "cell_type": "code",
   "execution_count": 91,
   "id": "9f00b987-7301-49f0-8286-71d1242bcce3",
   "metadata": {},
   "outputs": [],
   "source": [
    "top_types = grouped_calls.groupby('Tencode_Description')['Call_Count'].sum().nlargest(10).index"
   ]
  },
  {
   "cell_type": "code",
   "execution_count": 92,
   "id": "fc494db2-e8fb-4a64-a473-92a07704e396",
   "metadata": {},
   "outputs": [],
   "source": [
    "filtered_calls = grouped_calls[grouped_calls['Tencode_Description'].isin(top_types)].copy()"
   ]
  },
  {
   "cell_type": "code",
   "execution_count": 93,
   "id": "9a704887-5894-4c19-9238-e59b8848e9d8",
   "metadata": {},
   "outputs": [],
   "source": [
    "filtered_calls.loc[:, 'Tencode_Num'] = pd.to_numeric(filtered_calls['Tencode_Description'], errors='coerce')\n",
    "filtered_calls.loc[:, 'Call_Type_Label'] = (\n",
    "    filtered_calls['Tencode_Num'].map(tencode_map).fillna(filtered_calls['Tencode_Description'])\n",
    ")"
   ]
  },
  {
   "cell_type": "code",
   "execution_count": 94,
   "id": "806d710b-94a3-49b8-a0bc-5ced8e7c0918",
   "metadata": {},
   "outputs": [
    {
     "name": "stderr",
     "output_type": "stream",
     "text": [
      "C:\\Users\\jingl\\AppData\\Local\\Temp\\ipykernel_15744\\3325846352.py:6: FutureWarning: \n",
      "\n",
      "Passing `palette` without assigning `hue` is deprecated and will be removed in v0.14.0. Assign the `y` variable to `hue` and set `legend=False` for the same effect.\n",
      "\n",
      "  sns.barplot(data=shift_a, y='Call_Type_Label', x='Call_Count', palette='Set2')\n"
     ]
    },
    {
     "data": {
      "image/png": "[encoded data removed]",
      "text/plain": [
       "<Figure size 1000x600 with 1 Axes>"
      ]
     },
     "metadata": {},
     "output_type": "display_data"
    }
   ],
   "source": [
    "# Shift A: ~6AM–2PM\n",
    "shift_a = filtered_calls[filtered_calls['Shift'] == 'A'].copy()\n",
    "shift_a = shift_a.sort_values(by='Call_Count', ascending=False)\n",
    "\n",
    "plt.figure(figsize=(10, 6))\n",
    "sns.barplot(data=shift_a, y='Call_Type_Label', x='Call_Count', palette='Set2')\n",
    "plt.title('Top Call Types - Shift A: ~6AM–2PM (Ranked)')\n",
    "plt.xlabel('Number of Calls')\n",
    "plt.ylabel('Call Type')\n",
    "plt.tight_layout()\n",
    "plt.show()\n",
    "\n"
   ]
  },
  {
   "cell_type": "code",
   "execution_count": 95,
   "id": "a5a445cd-4838-48d9-b40c-146aa221f45b",
   "metadata": {},
   "outputs": [
    {
     "name": "stderr",
     "output_type": "stream",
     "text": [
      "C:\\Users\\jingl\\AppData\\Local\\Temp\\ipykernel_15744\\1912167720.py:6: FutureWarning: \n",
      "\n",
      "Passing `palette` without assigning `hue` is deprecated and will be removed in v0.14.0. Assign the `y` variable to `hue` and set `legend=False` for the same effect.\n",
      "\n",
      "  sns.barplot(data=shift_b, y='Call_Type_Label', x='Call_Count', palette='Set2')\n"
     ]
    },
    {
     "data": {
      "image/png": "[encoded data removed]",
      "text/plain": [
       "<Figure size 1000x600 with 1 Axes>"
      ]
     },
     "metadata": {},
     "output_type": "display_data"
    }
   ],
   "source": [
    "# Shift B: ~2PM–10PM\n",
    "shift_b = filtered_calls[filtered_calls['Shift'] == 'B'].copy()\n",
    "shift_b = shift_b.sort_values(by='Call_Count', ascending=False)\n",
    "\n",
    "plt.figure(figsize=(10, 6))\n",
    "sns.barplot(data=shift_b, y='Call_Type_Label', x='Call_Count', palette='Set2')\n",
    "plt.title('Top Call Types - Shift B: ~2PM–10PM (Ranked)')\n",
    "plt.xlabel('Number of Calls')\n",
    "plt.ylabel('Call Type')\n",
    "plt.tight_layout()\n",
    "plt.show()\n"
   ]
  },
  {
   "cell_type": "code",
   "execution_count": 96,
   "id": "01ba12b2-9b4e-4492-b3e5-d956875fc42e",
   "metadata": {},
   "outputs": [
    {
     "name": "stderr",
     "output_type": "stream",
     "text": [
      "C:\\Users\\jingl\\AppData\\Local\\Temp\\ipykernel_15744\\1827194881.py:6: FutureWarning: \n",
      "\n",
      "Passing `palette` without assigning `hue` is deprecated and will be removed in v0.14.0. Assign the `y` variable to `hue` and set `legend=False` for the same effect.\n",
      "\n",
      "  sns.barplot(data=shift_c, y='Call_Type_Label', x='Call_Count', palette='Set2')\n"
     ]
    },
    {
     "data": {
      "image/png": "[encoded data removed]",
      "text/plain": [
       "<Figure size 1000x600 with 1 Axes>"
      ]
     },
     "metadata": {},
     "output_type": "display_data"
    }
   ],
   "source": [
    "# Shift C: ~10PM–6AM\n",
    "shift_c = filtered_calls[filtered_calls['Shift'] == 'C'].copy()\n",
    "shift_c = shift_c.sort_values(by='Call_Count', ascending=False)\n",
    "\n",
    "plt.figure(figsize=(10, 6))\n",
    "sns.barplot(data=shift_c, y='Call_Type_Label', x='Call_Count', palette='Set2')\n",
    "plt.title('Top Call Types - Shift C: ~10PM–6AM (Ranked)')\n",
    "plt.xlabel('Number of Calls')\n",
    "plt.ylabel('Call Type')\n",
    "plt.tight_layout()\n",
    "plt.show()\n"
   ]
  },
  {
   "cell_type": "code",
   "execution_count": 98,
   "id": "14f8bd95-2441-443b-aa51-81d4c31e06eb",
   "metadata": {},
   "outputs": [],
   "source": [
    "# Group sector + call type\n",
    "grouped_sector = calls_df.groupby(['Sector', 'Tencode_Description']).size().reset_index(name='Call_Count')"
   ]
  },
  {
   "cell_type": "code",
   "execution_count": 99,
   "id": "5ef98fdf-9851-40b9-8a04-49334d1c9891",
   "metadata": {},
   "outputs": [],
   "source": [
    "#  Top 5 call types\n",
    "top_call_types = (\n",
    "    grouped_sector.groupby('Tencode_Description')['Call_Count']\n",
    "    .sum().nlargest(5).index\n",
    ")"
   ]
  },
  {
   "cell_type": "code",
   "execution_count": 100,
   "id": "49099ffb-8b6a-44dd-a94d-8e428bf36621",
   "metadata": {},
   "outputs": [],
   "source": [
    "# Step Top 5 sectors\n",
    "top_sectors = (\n",
    "    grouped_sector.groupby('Sector')['Call_Count']\n",
    "    .sum().nlargest(5).index\n",
    ")"
   ]
  },
  {
   "cell_type": "code",
   "execution_count": 101,
   "id": "a09d161d-c3af-40e9-8606-606d97793548",
   "metadata": {},
   "outputs": [],
   "source": [
    "# Step 3: Top 5 sectors\n",
    "\n",
    "top_sectors = (\n",
    "    grouped_sector.groupby('Sector')['Call_Count']\n",
    "    .sum().nlargest(5).index\n",
    ")"
   ]
  },
  {
   "cell_type": "code",
   "execution_count": 102,
   "id": "8e2341f5-1340-4dc7-9042-51be3b366bb6",
   "metadata": {},
   "outputs": [],
   "source": [
    "filtered_sector = grouped_sector[\n",
    "    grouped_sector['Tencode_Description'].isin(top_call_types) &\n",
    "    grouped_sector['Sector'].isin(top_sectors)\n",
    "].copy()\n"
   ]
  },
  {
   "cell_type": "code",
   "execution_count": 103,
   "id": "893e0074-6c2c-431c-abbd-66ee9836ad12",
   "metadata": {},
   "outputs": [],
   "source": [
    "filtered_sector['Call_Type_Label'] = (\n",
    "    filtered_sector['Tencode_Description']\n",
    "    .astype(str)\n",
    "    .replace(tencode_map)\n",
    "    .fillna('OTHER')  # ← 推荐添加，避免 NaN 出现\n",
    ")"
   ]
  },
  {
   "cell_type": "code",
   "execution_count": 104,
   "id": "6de2e33d-01f2-41b4-9fbf-98917fbb5f67",
   "metadata": {},
   "outputs": [
    {
     "name": "stdout",
     "output_type": "stream",
     "text": [
      "Index(['Sector', 'Tencode_Description', 'Call_Count', 'Call_Type_Label'], dtype='object')\n"
     ]
    }
   ],
   "source": [
    "print(filtered_sector.columns)\n"
   ]
  },
  {
   "cell_type": "code",
   "execution_count": 105,
   "id": "6391c5b1-95e0-4549-bd1b-818799d0cec2",
   "metadata": {},
   "outputs": [
    {
     "name": "stdout",
     "output_type": "stream",
     "text": [
      "int64\n"
     ]
    }
   ],
   "source": [
    "print(filtered_sector['Call_Count'].dtype)\n"
   ]
  },
  {
   "cell_type": "code",
   "execution_count": 106,
   "id": "02ea0afc-9441-43b2-9568-c95624fcd3b8",
   "metadata": {},
   "outputs": [
    {
     "name": "stdout",
     "output_type": "stream",
     "text": [
      "['43' 'BUSINESS CHECK' 'COMMUNITY POLICING ACTIVITY' 'TRAFFIC VIOLATION'\n",
      " 'WANT OFFICER FOR INVESTIGATION / ASSISTA']\n"
     ]
    }
   ],
   "source": [
    "print(filtered_sector['Call_Type_Label'].unique())\n"
   ]
  },
  {
   "cell_type": "code",
   "execution_count": 107,
   "id": "3ec1af4f-0c85-458e-a12d-777c0fec0817",
   "metadata": {},
   "outputs": [],
   "source": [
    "# Step 5: Map tencode to readable labels\n",
    "tencode_map = {\n",
    "    \"43\": \"FIGHT\",\n",
    "    \"96\": \"ASSISTANCE\",\n",
    "    \"50\": \"THEFT\",\n",
    "    \"66\": \"BOMB THREAT\",\n",
    "    \"75\": \"GANG ACTIVITY\",\n",
    "    \"95\": \"ESCAPED PRISONER\",\n",
    "    \"45\": \"ACCIDENT - NO INJURY\",\n",
    "    \"61\": \"KIDNAPPING\",\n",
    "    \"90\": \"BUSINESS CHECK\",\n",
    "    \"91\": \"TRAFFIC VIOLATION\",\n",
    "    \"97\": \"WANT OFFICER FOR INVESTIGATION / ASSISTA\"\n",
    "}"
   ]
  },
  {
   "cell_type": "code",
   "execution_count": 108,
   "id": "5d7e950f-3fe3-493f-9352-ffe38e62f984",
   "metadata": {},
   "outputs": [],
   "source": [
    "sector_name_map = {\n",
    "    \"C\": \"Downtown / North Nashville\",\n",
    "    \"E\": \"East / Donelson–Hermitage\",\n",
    "    \"MT\": \"Midtown / Green Hills\",\n",
    "    \"S\": \"South / Southeast Nashville\",\n",
    "    \"W\": \"West / Bellevue\"\n",
    "}"
   ]
  },
  {
   "cell_type": "code",
   "execution_count": 109,
   "id": "15b0909e-749d-47fc-865d-4d9f99042dbb",
   "metadata": {},
   "outputs": [],
   "source": [
    "filtered_sector['Sector_Label'] = filtered_sector['Sector'].replace(sector_name_map)\n"
   ]
  },
  {
   "cell_type": "code",
   "execution_count": 110,
   "id": "f52f6cec-922c-4805-9ac7-d83d47110360",
   "metadata": {},
   "outputs": [],
   "source": [
    "filtered_sector['Sector_Label'] = (\n",
    "    filtered_sector['Sector'].astype(str).str.strip().replace(sector_name_map)\n",
    ")\n"
   ]
  },
  {
   "cell_type": "code",
   "execution_count": 111,
   "id": "2f9f08f6-17b8-4a29-8398-d837a97c0756",
   "metadata": {},
   "outputs": [
    {
     "name": "stdout",
     "output_type": "stream",
     "text": [
      "     Sector                 Sector_Label\n",
      "1445    C     Downtown / North Nashville\n",
      "1786    E      East / Donelson–Hermitage\n",
      "2569    MT         Midtown / Green Hills\n",
      "3072    S    South / Southeast Nashville\n",
      "3446    W                West / Bellevue\n"
     ]
    }
   ],
   "source": [
    "print(filtered_sector[['Sector', 'Sector_Label']].drop_duplicates())\n"
   ]
  },
  {
   "cell_type": "code",
   "execution_count": 112,
   "id": "be7b193f-c92c-4e3d-a3de-dbdaa73243fa",
   "metadata": {},
   "outputs": [
    {
     "data": {
      "image/png": "[encoded data removed]",
      "text/plain": [
       "<Figure size 1200x600 with 1 Axes>"
      ]
     },
     "metadata": {},
     "output_type": "display_data"
    }
   ],
   "source": [
    "import matplotlib.pyplot as plt\n",
    "import seaborn as sns\n",
    "\n",
    "plt.figure(figsize=(12, 6))\n",
    "ax = sns.barplot(\n",
    "    data=filtered_sector,\n",
    "    x='Sector_Label',\n",
    "    y='Call_Count',\n",
    "    hue='Call_Type_Label'\n",
    ")\n",
    "\n",
    "plt.title(\"Top 5 Call Types by Planning Area\")\n",
    "plt.ylabel(\"Number of Calls\")\n",
    "plt.xlabel(\"Planning Area\")\n",
    "plt.legend(loc='upper right')\n",
    "plt.xticks(rotation=15, ha='right')\n",
    "plt.tight_layout()\n",
    "plt.show()\n"
   ]
  },
  {
   "cell_type": "code",
   "execution_count": 117,
   "id": "db5aad49-d094-42e9-9a89-654a014297a7",
   "metadata": {},
   "outputs": [
    {
     "name": "stdout",
     "output_type": "stream",
     "text": [
      "C:\\Users\\jingl\\NSS Analytics DA14\\Project\\capstones\\school capstone\\Notebook\n"
     ]
    }
   ],
   "source": [
    "import os\n",
    "print(os.getcwd())"
   ]
  },
  {
   "cell_type": "code",
   "execution_count": 118,
   "id": "39035357-92e9-4cf0-903d-45fe94804c11",
   "metadata": {},
   "outputs": [],
   "source": [
    "import geopandas as gpd\n",
    "import folium\n",
    "from IPython.display import IFrame"
   ]
  },
  {
   "cell_type": "code",
   "execution_count": 119,
   "id": "ae061937-0a1b-4e50-b46d-34807e193535",
   "metadata": {},
   "outputs": [],
   "source": [
    "\n",
    "geojson_path = \"../Police_Precinct_Boundaries_view.geojson\""
   ]
  },
  {
   "cell_type": "code",
   "execution_count": 120,
   "id": "506d7b54-597a-4a56-a958-a0be50578059",
   "metadata": {},
   "outputs": [],
   "source": [
    "gdf = gpd.read_file(geojson_path)"
   ]
  },
  {
   "cell_type": "code",
   "execution_count": 121,
   "id": "687f384e-c598-444f-be86-5b24229e7762",
   "metadata": {},
   "outputs": [],
   "source": [
    "# 筛选目标辖区\n",
    "target_precincts = ['CENTRAL', 'EAST', 'MIDTOWN HILLS', 'SOUTH', 'WEST']\n",
    "sector_name_map = {\n",
    "    \"CENTRAL\": \"1. Downtown / North Nashville\",\n",
    "    \"EAST\": \"2. East / Donelson-Hermitage\",\n",
    "    \"MIDTOWN HILLS\": \"3. Midtown / Green Hills\",\n",
    "    \"SOUTH\": \"4. South / Southeast Nashville\",\n",
    "    \"WEST\": \"5. West / Bellevue\"\n",
    "}\n",
    "\n"
   ]
  },
  {
   "cell_type": "code",
   "execution_count": 122,
   "id": "30393474-96c6-442e-b4b8-0f2556c657e0",
   "metadata": {},
   "outputs": [],
   "source": [
    "# 过滤并添加中文标签\n",
    "filtered_map = gdf[gdf['PrecinctName'].isin(target_precincts)].copy()\n",
    "filtered_map['Sector_Label'] = filtered_map['PrecinctName'].replace(sector_name_map)\n",
    "filtered_map = filtered_map[filtered_map['geometry'].notnull()]\n",
    "\n"
   ]
  },
  {
   "cell_type": "code",
   "execution_count": 127,
   "id": "619a65ba-9c17-4fb9-a296-fbd3a4747fb3",
   "metadata": {},
   "outputs": [],
   "source": [
    "# 自定义颜色（可以自由更换）\n",
    "color_dict = {\n",
    "    '1. Downtown / North Nashville': 'red',\n",
    "    '2. East / Donelson-Hermitage': 'blue',\n",
    "    '3. Midtown / Green Hills': 'green',\n",
    "    '4. South / Southeast Nashville': 'purple',\n",
    "    '5. West / Bellevue': 'orange'\n",
    "}"
   ]
  },
  {
   "cell_type": "code",
   "execution_count": 128,
   "id": "8989b351-20b4-4022-b079-3c6c25a1e999",
   "metadata": {},
   "outputs": [],
   "source": [
    "# 创建地图\n",
    "m = folium.Map(location=[36.1627, -86.7816], zoom_start=10)"
   ]
  },
  {
   "cell_type": "code",
   "execution_count": 129,
   "id": "ff7cfc5e-9699-4188-a488-01f2b3424317",
   "metadata": {},
   "outputs": [],
   "source": [
    "# 样式函数\n",
    "def style_function(feature):\n",
    "    label = feature['properties'].get('Sector_Label', '')\n",
    "    return {\n",
    "        'fillColor': color_dict.get(label, 'gray'),\n",
    "        'color': 'black',\n",
    "        'weight': 1,\n",
    "        'fillOpacity': 0.6\n",
    "    }"
   ]
  },
  {
   "cell_type": "code",
   "execution_count": 130,
   "id": "4f8156fd-c2be-41f9-8f91-be6a55844780",
   "metadata": {},
   "outputs": [
    {
     "data": {
      "text/plain": [
       "<folium.features.GeoJson at 0x16fbd54b0d0>"
      ]
     },
     "execution_count": 130,
     "metadata": {},
     "output_type": "execute_result"
    }
   ],
   "source": [
    "# 添加 GeoJson 图层\n",
    "folium.GeoJson(\n",
    "    filtered_map,\n",
    "    name=\"Colored Precincts\",\n",
    "    style_function=style_function,\n",
    "    tooltip=folium.GeoJsonTooltip(fields=['Sector_Label'], aliases=[\"Planning Area\"])\n",
    ").add_to(m)\n"
   ]
  },
  {
   "cell_type": "code",
   "execution_count": 131,
   "id": "c5a7f857-91ba-41ac-9720-74a601a72100",
   "metadata": {},
   "outputs": [
    {
     "data": {
      "text/html": [
       "\n",
       "        <iframe\n",
       "            width=\"950\"\n",
       "            height=\"600\"\n",
       "            src=\"nashville_precinct_colored_map_v2.html\"\n",
       "            frameborder=\"0\"\n",
       "            allowfullscreen\n",
       "            \n",
       "        ></iframe>\n",
       "        "
      ],
      "text/plain": [
       "<IPython.lib.display.IFrame at 0x16fbd58a6e0>"
      ]
     },
     "execution_count": 131,
     "metadata": {},
     "output_type": "execute_result"
    }
   ],
   "source": [
    "# 保存地图文件\n",
    "output_filename = \"nashville_precinct_colored_map_v2.html\"\n",
    "m.save(output_filename)\n",
    "\n",
    "# 可视化嵌入（可选）\n",
    "IFrame(output_filename, width=950, height=600)"
   ]
  },
  {
   "cell_type": "code",
   "execution_count": 132,
   "id": "2e193cfa-5464-4467-8235-5a46073e99b6",
   "metadata": {},
   "outputs": [],
   "source": [
    "# 读取 GeoJSON\n",
    "gdf = gpd.read_file(\"../Police_Precinct_Boundaries_view.geojson\")"
   ]
  },
  {
   "cell_type": "code",
   "execution_count": 133,
   "id": "f9cc6026-ff89-4292-80ff-a24c2a9a2cf9",
   "metadata": {},
   "outputs": [],
   "source": [
    "# 选定前五个分区\n",
    "target_precincts = ['CENTRAL', 'EAST', 'MIDTOWN HILLS', 'SOUTH', 'WEST']\n",
    "sector_name_map = {\n",
    "    \"CENTRAL\": \"1. Downtown / North Nashville\",\n",
    "    \"EAST\": \"2. East / Donelson-Hermitage\",\n",
    "    \"MIDTOWN HILLS\": \"3. Midtown / Green Hills\",\n",
    "    \"SOUTH\": \"4. South / Southeast Nashville\",\n",
    "    \"WEST\": \"5. West / Bellevue\"\n",
    "}"
   ]
  },
  {
   "cell_type": "code",
   "execution_count": 134,
   "id": "52dcf791-8434-407f-a395-2b808691dabc",
   "metadata": {},
   "outputs": [],
   "source": [
    "# 筛选 + 添加标签\n",
    "filtered_map = gdf[gdf['PrecinctName'].isin(target_precincts)].copy()\n",
    "filtered_map['Sector_Label'] = filtered_map['PrecinctName'].replace(sector_name_map)\n",
    "filtered_map = filtered_map[filtered_map['geometry'].notnull()]"
   ]
  },
  {
   "cell_type": "code",
   "execution_count": 135,
   "id": "7707987b-98d6-40f2-b911-5859ace15cfa",
   "metadata": {},
   "outputs": [],
   "source": [
    "# 颜色设置\n",
    "color_dict = {\n",
    "    '1. Downtown / North Nashville': 'red',\n",
    "    '2. East / Donelson-Hermitage': 'blue',\n",
    "    '3. Midtown / Green Hills': 'green',\n",
    "    '4. South / Southeast Nashville': 'purple',\n",
    "    '5. West / Bellevue': 'orange'\n",
    "}"
   ]
  },
  {
   "cell_type": "code",
   "execution_count": 136,
   "id": "a1ab6536-4fce-4ac4-94dd-66ecd24f28b2",
   "metadata": {},
   "outputs": [],
   "source": [
    "# 创建地图\n",
    "m = folium.Map(location=[36.1627, -86.7816], zoom_start=10)"
   ]
  },
  {
   "cell_type": "code",
   "execution_count": 137,
   "id": "0c4d433b-bbd6-4347-bdbc-894f6c268232",
   "metadata": {},
   "outputs": [],
   "source": [
    "# 区域着色样式\n",
    "def style_function(feature):\n",
    "    label = feature['properties'].get('Sector_Label', '')\n",
    "    return {\n",
    "        'fillColor': color_dict.get(label, 'gray'),\n",
    "        'color': 'black',\n",
    "        'weight': 1,\n",
    "        'fillOpacity': 0.6\n",
    "    }\n"
   ]
  },
  {
   "cell_type": "code",
   "execution_count": 138,
   "id": "044fb2b7-9a6b-4915-8a89-78384bafd9f7",
   "metadata": {},
   "outputs": [
    {
     "data": {
      "text/plain": [
       "<folium.features.GeoJson at 0x16fbd54a410>"
      ]
     },
     "execution_count": 138,
     "metadata": {},
     "output_type": "execute_result"
    }
   ],
   "source": [
    "# 添加 GeoJson 区块\n",
    "folium.GeoJson(\n",
    "    filtered_map,\n",
    "    name=\"Colored Precincts\",\n",
    "    style_function=style_function,\n",
    "    tooltip=folium.GeoJsonTooltip(fields=[\"Sector_Label\"], aliases=[\"Planning Area\"])\n",
    ").add_to(m)"
   ]
  },
  {
   "cell_type": "code",
   "execution_count": 139,
   "id": "07e2c4ef-3c54-4afb-9f54-908b379632a1",
   "metadata": {},
   "outputs": [],
   "source": [
    "# 添加数字编号标签（取每个区域的中心点）\n",
    "for _, row in filtered_map.iterrows():\n",
    "    center = row['geometry'].centroid\n",
    "    number = row['Sector_Label'].split('.')[0]  # 只取编号\n",
    "    folium.map.Marker(\n",
    "        [center.y, center.x],\n",
    "        icon=folium.DivIcon(\n",
    "            html=f\"\"\"<div style=\"font-size:16pt; font-weight:bold; color:black\">{number}</div>\"\"\"\n",
    "        )\n",
    "    ).add_to(m)"
   ]
  },
  {
   "cell_type": "code",
   "execution_count": 140,
   "id": "d71d2505-dd97-41d0-a373-3cf44100f2b3",
   "metadata": {},
   "outputs": [],
   "source": [
    "# 保存地图\n",
    "m.save(\"nashville_precinct_colored_map_with_numbers.html\")"
   ]
  },
  {
   "cell_type": "code",
   "execution_count": 141,
   "id": "29f0a8ea-b27e-46ee-997d-a0fcb8e224ed",
   "metadata": {},
   "outputs": [
    {
     "data": {
      "text/html": [
       "\n",
       "        <iframe\n",
       "            width=\"950\"\n",
       "            height=\"600\"\n",
       "            src=\"nashville_precinct_colored_map_with_numbers.html\"\n",
       "            frameborder=\"0\"\n",
       "            allowfullscreen\n",
       "            \n",
       "        ></iframe>\n",
       "        "
      ],
      "text/plain": [
       "<IPython.lib.display.IFrame at 0x16fbd559510>"
      ]
     },
     "execution_count": 141,
     "metadata": {},
     "output_type": "execute_result"
    }
   ],
   "source": [
    "from IPython.display import IFrame\n",
    "\n",
    "# 直接显示保存的地图文件\n",
    "IFrame(\"nashville_precinct_colored_map_with_numbers.html\", width=950, height=600)\n"
   ]
  },
  {
   "cell_type": "code",
   "execution_count": null,
   "id": "c07002da-f5db-45f4-abe3-f3a08e90b57f",
   "metadata": {},
   "outputs": [],
   "source": []
  },
  {
   "cell_type": "code",
   "execution_count": 142,
   "id": "333f6c32-0041-4886-9ab8-cc90efe360e7",
   "metadata": {},
   "outputs": [
    {
     "name": "stderr",
     "output_type": "stream",
     "text": [
      "C:\\Users\\jingl\\AppData\\Local\\Temp\\ipykernel_15744\\3274706579.py:3: DtypeWarning: Columns (32) have mixed types. Specify dtype option on import or set low_memory=False.\n",
      "  df = pd.read_csv(\"crime_incidents_cleaned_with_time.csv\")\n"
     ]
    },
    {
     "name": "stdout",
     "output_type": "stream",
     "text": [
      "Index(['X', 'Y', 'OBJECTID', 'Primary_Key', 'Incident_Number', 'Report_Type',\n",
      "       'Report_Type_Description', 'Incident_Status_Code',\n",
      "       'Incident_Status_Description', 'Investigation_Status',\n",
      "       'Incident_Location', 'Latitude', 'Longitude', 'RPA', 'Zone',\n",
      "       'Location_Code', 'Location_Description', 'Offense_Number',\n",
      "       'Offense_NIBRS', 'Offense_Description', 'Weapon_Description',\n",
      "       'Victim_Number', 'Domestic_Related', 'Victim_Type',\n",
      "       'Victim_Description', 'Victim_Gender', 'Victim_Race',\n",
      "       'Victim_Ethnicity', 'Victim_County_Resident', 'Mapped_Location',\n",
      "       'POINT_X', 'POINT_Y', 'ZIP_Code', 'Weapon_Primary', 'Incident_Occurred',\n",
      "       'Incident_Reported', 'Year', 'Month', 'Hour', 'Weekday'],\n",
      "      dtype='object')\n",
      "   Latitude  Longitude\n",
      "0    36.152    -86.878\n",
      "1    36.051    -86.674\n",
      "2    36.083    -86.614\n",
      "3    36.161    -86.856\n",
      "4    36.162    -86.819\n"
     ]
    }
   ],
   "source": [
    "df = pd.read_csv(\"crime_incidents_cleaned_with_time.csv\")\n",
    "print(df.columns)\n",
    "print(df[['Latitude', 'Longitude']].dropna().head())\n"
   ]
  },
  {
   "cell_type": "code",
   "execution_count": 143,
   "id": "86cecdf7-1278-49ee-8a23-fa470a65979e",
   "metadata": {},
   "outputs": [],
   "source": [
    "from folium.plugins import HeatMap\n",
    "\n",
    "m = folium.Map(location=[36.1627, -86.7816], zoom_start=11)\n",
    "\n",
    "heat_data = df[['Latitude', 'Longitude']].dropna().values.tolist()\n",
    "custom_gradient = {\n",
    "    '0.2': 'blue',\n",
    "    '0.4': 'lime',\n",
    "    '0.6': 'yellow',\n",
    "    '0.8': 'orange',\n",
    "    '1.0': 'red'\n",
    "}\n",
    "\n",
    "HeatMap(\n",
    "    heat_data,\n",
    "    radius=8,\n",
    "    blur=10,\n",
    "    min_opacity=0.3,\n",
    "    gradient=custom_gradient,\n",
    "    max_zoom=13\n",
    ").add_to(m)\n",
    "\n",
    "m.save(\"nashville_crime_heatmap_strongcolor.html\")"
   ]
  },
  {
   "cell_type": "code",
   "execution_count": 144,
   "id": "967107fe-4b91-48bf-9d0f-bdac2e3ce5b4",
   "metadata": {},
   "outputs": [
    {
     "data": {
      "text/html": [
       "\n",
       "        <iframe\n",
       "            width=\"950\"\n",
       "            height=\"600\"\n",
       "            src=\"nashville_crime_heatmap_strongcolor.html\"\n",
       "            frameborder=\"0\"\n",
       "            allowfullscreen\n",
       "            \n",
       "        ></iframe>\n",
       "        "
      ],
      "text/plain": [
       "<IPython.lib.display.IFrame at 0x16fbd558bb0>"
      ]
     },
     "execution_count": 144,
     "metadata": {},
     "output_type": "execute_result"
    }
   ],
   "source": [
    "from IPython.display import IFrame\n",
    "IFrame(\"nashville_crime_heatmap_strongcolor.html\", width=950, height=600)"
   ]
  },
  {
   "cell_type": "code",
   "execution_count": null,
   "id": "4d359d53-d96f-4aeb-9cb8-ea81b5f34459",
   "metadata": {},
   "outputs": [],
   "source": []
  },
  {
   "cell_type": "markdown",
   "id": "67bd58ec-51ee-4858-acbb-d900adf8a285",
   "metadata": {},
   "source": [
    "## \"Shift A consistently shows higher confirmation rates for several key call types, such as THEFT and GANG ACTIVITY.\" \"This may indicate either higher incident density during Shift A or more effective incident verification by officers working that shift.\" \"When filtered for types with >50 calls, THEFT remains the most confirmed type across all shifts.\""
   ]
  },
  {
   "cell_type": "markdown",
   "id": "cfa258b4-3dd4-4dc4-88f3-ec0c4dea3c8f",
   "metadata": {},
   "source": [
    "## How call/crime trends change over time by shift/sector?"
   ]
  },
  {
   "cell_type": "code",
   "execution_count": 161,
   "id": "461dd3cf-2d45-46cd-9f0f-89c44a858848",
   "metadata": {},
   "outputs": [
    {
     "data": {
      "text/plain": [
       "Index(['OBJECTID', 'Event_Number', 'Complaint_Number', 'Tencode',\n",
       "       'Tencode_Description', 'Tencode_Suffix', 'Tencode_Suffix_Description',\n",
       "       'Disposition_Code', 'Disposition_Description', 'Block', 'Street_name',\n",
       "       'Unit_Dispatched', 'Shift', 'Sector', 'ZONE_', 'Latitude', 'Longitude',\n",
       "       'RPA', 'Call_Received', 'x', 'y', 'Year', 'Is_Confirmed',\n",
       "       'Mapped_Offense'],\n",
       "      dtype='object')"
      ]
     },
     "execution_count": 161,
     "metadata": {},
     "output_type": "execute_result"
    }
   ],
   "source": [
    "calls_df.columns"
   ]
  },
  {
   "cell_type": "code",
   "execution_count": 162,
   "id": "edb975ce-0e1c-495b-ad36-cc517f8b7836",
   "metadata": {},
   "outputs": [],
   "source": [
    "by_year_shift = calls_df.groupby(['Year', 'Shift']).size().reset_index(name='Total_Calls')"
   ]
  },
  {
   "cell_type": "code",
   "execution_count": 163,
   "id": "4fb333f5-10af-4dcb-a54b-1c9243b2337f",
   "metadata": {},
   "outputs": [
    {
     "data": {
      "text/html": [
       "<div>\n",
       "<style scoped>\n",
       "    .dataframe tbody tr th:only-of-type {\n",
       "        vertical-align: middle;\n",
       "    }\n",
       "\n",
       "    .dataframe tbody tr th {\n",
       "        vertical-align: top;\n",
       "    }\n",
       "\n",
       "    .dataframe thead th {\n",
       "        text-align: right;\n",
       "    }\n",
       "</style>\n",
       "<table border=\"1\" class=\"dataframe\">\n",
       "  <thead>\n",
       "    <tr style=\"text-align: right;\">\n",
       "      <th></th>\n",
       "      <th>Year</th>\n",
       "      <th>Shift</th>\n",
       "      <th>Total_Calls</th>\n",
       "    </tr>\n",
       "  </thead>\n",
       "  <tbody>\n",
       "    <tr>\n",
       "      <th>0</th>\n",
       "      <td>2018</td>\n",
       "      <td>A</td>\n",
       "      <td>367185</td>\n",
       "    </tr>\n",
       "    <tr>\n",
       "      <th>1</th>\n",
       "      <td>2018</td>\n",
       "      <td>B</td>\n",
       "      <td>383034</td>\n",
       "    </tr>\n",
       "    <tr>\n",
       "      <th>2</th>\n",
       "      <td>2018</td>\n",
       "      <td>C</td>\n",
       "      <td>249706</td>\n",
       "    </tr>\n",
       "    <tr>\n",
       "      <th>3</th>\n",
       "      <td>2019</td>\n",
       "      <td>A</td>\n",
       "      <td>328470</td>\n",
       "    </tr>\n",
       "    <tr>\n",
       "      <th>4</th>\n",
       "      <td>2019</td>\n",
       "      <td>B</td>\n",
       "      <td>296139</td>\n",
       "    </tr>\n",
       "    <tr>\n",
       "      <th>5</th>\n",
       "      <td>2019</td>\n",
       "      <td>C</td>\n",
       "      <td>203624</td>\n",
       "    </tr>\n",
       "    <tr>\n",
       "      <th>6</th>\n",
       "      <td>2020</td>\n",
       "      <td>A</td>\n",
       "      <td>278742</td>\n",
       "    </tr>\n",
       "    <tr>\n",
       "      <th>7</th>\n",
       "      <td>2020</td>\n",
       "      <td>B</td>\n",
       "      <td>255132</td>\n",
       "    </tr>\n",
       "    <tr>\n",
       "      <th>8</th>\n",
       "      <td>2020</td>\n",
       "      <td>C</td>\n",
       "      <td>157854</td>\n",
       "    </tr>\n",
       "    <tr>\n",
       "      <th>9</th>\n",
       "      <td>2021</td>\n",
       "      <td>A</td>\n",
       "      <td>230159</td>\n",
       "    </tr>\n",
       "    <tr>\n",
       "      <th>10</th>\n",
       "      <td>2021</td>\n",
       "      <td>B</td>\n",
       "      <td>195572</td>\n",
       "    </tr>\n",
       "    <tr>\n",
       "      <th>11</th>\n",
       "      <td>2021</td>\n",
       "      <td>C</td>\n",
       "      <td>104689</td>\n",
       "    </tr>\n",
       "  </tbody>\n",
       "</table>\n",
       "</div>"
      ],
      "text/plain": [
       "    Year Shift  Total_Calls\n",
       "0   2018     A       367185\n",
       "1   2018     B       383034\n",
       "2   2018     C       249706\n",
       "3   2019     A       328470\n",
       "4   2019     B       296139\n",
       "5   2019     C       203624\n",
       "6   2020     A       278742\n",
       "7   2020     B       255132\n",
       "8   2020     C       157854\n",
       "9   2021     A       230159\n",
       "10  2021     B       195572\n",
       "11  2021     C       104689"
      ]
     },
     "execution_count": 163,
     "metadata": {},
     "output_type": "execute_result"
    }
   ],
   "source": [
    "by_year_shift = by_year_shift[(by_year_shift['Year'] >= 2018) & (by_year_shift['Year'] <= 2021)]\n",
    "by_year_shift"
   ]
  },
  {
   "cell_type": "code",
   "execution_count": 164,
   "id": "43bfd232-f1da-4f68-93c2-98267e1ddc92",
   "metadata": {},
   "outputs": [
    {
     "data": {
      "image/png": "[encoded data removed]",
      "text/plain": [
       "<Figure size 1000x600 with 1 Axes>"
      ]
     },
     "metadata": {},
     "output_type": "display_data"
    }
   ],
   "source": [
    "import seaborn as sns\n",
    "import matplotlib.pyplot as plt\n",
    "\n",
    "plt.figure(figsize=(10, 6))\n",
    "\n",
    "sns.lineplot(\n",
    "    data=by_year_shift,\n",
    "    x=by_year_shift['Year'].astype(str), \n",
    "    y='Total_Calls',\n",
    "    hue='Shift',\n",
    "    marker='o'\n",
    ")\n",
    "\n",
    "plt.title(\"Total Calls by Shift (2018–2021)\", fontsize=14)\n",
    "plt.xlabel(\"Year\", fontsize=12)\n",
    "plt.ylabel(\"Total Number of Calls\", fontsize=12)\n",
    "plt.legend(title=\"Shift\")\n",
    "plt.grid(True)\n",
    "plt.tight_layout()\n",
    "plt.show()\n"
   ]
  },
  {
   "cell_type": "code",
   "execution_count": 168,
   "id": "12715a6c-7ad1-40b2-8440-8da80bca466a",
   "metadata": {},
   "outputs": [],
   "source": [
    "calls_df['Call_Received'] = pd.to_datetime(calls_df['Call_Received'], errors='coerce')\n",
    "\n",
    "calls_df['Month'] = calls_df['Call_Received'].dt.month\n",
    "\n",
    "def get_season(month):\n",
    "    if month in [3, 4, 5]:\n",
    "        return 'Spring'\n",
    "    elif month in [6, 7, 8]:\n",
    "        return 'Summer'\n",
    "    elif month in [9, 10, 11]:\n",
    "        return 'Fall'\n",
    "    else:\n",
    "        return 'Winter'\n",
    "\n",
    "calls_df['Season'] = calls_df['Month'].apply(get_season)"
   ]
  },
  {
   "cell_type": "code",
   "execution_count": 169,
   "id": "d129e38e-c880-42ee-aadd-0581d5a81829",
   "metadata": {},
   "outputs": [],
   "source": [
    "by_season_shift = calls_df.groupby(['Season', 'Shift'])['Event_Number'].count().reset_index()\n",
    "by_season_shift.rename(columns={'Event_Number': 'Total_Calls'}, inplace=True)"
   ]
  },
  {
   "cell_type": "code",
   "execution_count": 176,
   "id": "a2978286-977d-46fe-b728-90e5734d5e29",
   "metadata": {},
   "outputs": [],
   "source": [
    "by_season_shift['Shift'] = by_season_shift['Shift'].replace({\n",
    "    'A': '6AM–2PM',\n",
    "    'B': '2PM–10PM',\n",
    "    'C': '10PM–6AM'\n",
    "})"
   ]
  },
  {
   "cell_type": "code",
   "execution_count": 177,
   "id": "6601af5a-eee7-43eb-9fd0-dc55b58fc22d",
   "metadata": {},
   "outputs": [
    {
     "data": {
      "image/png": "[encoded data removed]",
      "text/plain": [
       "<Figure size 1000x600 with 1 Axes>"
      ]
     },
     "metadata": {},
     "output_type": "display_data"
    }
   ],
   "source": [
    "import seaborn as sns\n",
    "import matplotlib.pyplot as plt\n",
    "\n",
    "season_order = ['Spring', 'Summer', 'Fall', 'Winter']\n",
    "\n",
    "plt.figure(figsize=(10, 6))\n",
    "sns.barplot(\n",
    "    data=by_season_shift,\n",
    "    x='Season',\n",
    "    y='Total_Calls',\n",
    "    hue='Shift',\n",
    "    order=season_order\n",
    ")\n",
    "plt.title('Total Calls by Shift and Season')\n",
    "plt.ylabel('Total Number of Calls')\n",
    "plt.xlabel('Season')\n",
    "plt.legend(title='Shift')\n",
    "plt.tight_layout()\n",
    "plt.show()\n"
   ]
  },
  {
   "cell_type": "code",
   "execution_count": 178,
   "id": "cedd8de9-b730-4cd2-95f7-7674f4a0497c",
   "metadata": {},
   "outputs": [
    {
     "data": {
      "text/plain": [
       "<Axes: xlabel='Season', ylabel='Total_Calls'>"
      ]
     },
     "execution_count": 178,
     "metadata": {},
     "output_type": "execute_result"
    },
    {
     "data": {
      "image/png": "[encoded data removed]",
      "text/plain": [
       "<Figure size 640x480 with 1 Axes>"
      ]
     },
     "metadata": {},
     "output_type": "display_data"
    }
   ],
   "source": [
    "sns.lineplot(data=by_season_shift, x='Season', y='Total_Calls', hue='Shift', marker='o', sort=False)"
   ]
  },
  {
   "cell_type": "code",
   "execution_count": 179,
   "id": "fbcec493-f7a9-4f51-8701-f83da6598bc9",
   "metadata": {},
   "outputs": [
    {
     "data": {
      "image/png": "[encoded data removed]",
      "text/plain": [
       "<Figure size 1000x600 with 2 Axes>"
      ]
     },
     "metadata": {},
     "output_type": "display_data"
    }
   ],
   "source": [
    "plt.figure(figsize=(10, 6))\n",
    "\n",
    "pivot = by_season_shift.pivot(index='Shift', columns='Season', values='Total_Calls')\n",
    "\n",
    "sns.heatmap(pivot, annot=True, fmt='g', cmap='YlGnBu')\n",
    "\n",
    "plt.title(\"Total Calls by Time Shift and Season\", fontsize=14)\n",
    "\n",
    "plt.show()"
   ]
  },
  {
   "cell_type": "code",
   "execution_count": null,
   "id": "13a96f91-219a-45c0-b2d1-0f7e5faf4608",
   "metadata": {},
   "outputs": [],
   "source": []
  },
  {
   "cell_type": "code",
   "execution_count": null,
   "id": "ca987a9c-825f-4a35-b3e9-8dd803007761",
   "metadata": {},
   "outputs": [],
   "source": []
  }
 ],
 "metadata": {
  "kernelspec": {
   "display_name": "Python 3 (ipykernel)",
   "language": "python",
   "name": "python3"
  },
  "language_info": {
   "codemirror_mode": {
    "name": "ipython",
    "version": 3
   },
   "file_extension": ".py",
   "mimetype": "text/x-python",
   "name": "python",
   "nbconvert_exporter": "python",
   "pygments_lexer": "ipython3",
   "version": "3.10.17"
  }
 },
 "nbformat": 4,
 "nbformat_minor": 5
}
